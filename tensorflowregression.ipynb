{
 "cells": [
  {
   "cell_type": "code",
   "execution_count": 1,
   "id": "a2d729d1",
   "metadata": {
    "_cell_guid": "b1076dfc-b9ad-4769-8c92-a6c4dae69d19",
    "_uuid": "8f2839f25d086af736a60e9eeb907d3b93b6e0e5",
    "execution": {
     "iopub.execute_input": "2023-05-08T01:05:00.083364Z",
     "iopub.status.busy": "2023-05-08T01:05:00.082735Z",
     "iopub.status.idle": "2023-05-08T01:05:01.623735Z",
     "shell.execute_reply": "2023-05-08T01:05:01.622190Z"
    },
    "papermill": {
     "duration": 1.554871,
     "end_time": "2023-05-08T01:05:01.626825",
     "exception": false,
     "start_time": "2023-05-08T01:05:00.071954",
     "status": "completed"
    },
    "tags": []
   },
   "outputs": [
    {
     "name": "stderr",
     "output_type": "stream",
     "text": [
      "/opt/conda/lib/python3.10/site-packages/scipy/__init__.py:146: UserWarning: A NumPy version >=1.16.5 and <1.23.0 is required for this version of SciPy (detected version 1.23.5\n",
      "  warnings.warn(f\"A NumPy version >={np_minversion} and <{np_maxversion}\"\n"
     ]
    }
   ],
   "source": [
    "import matplotlib.pyplot as plt\n",
    "import numpy as np\n",
    "import pandas as pd\n",
    "import seaborn as sns\n",
    "\n",
    "# Make NumPy printouts easier to read.\n",
    "np.set_printoptions(precision=3, suppress=True)"
   ]
  },
  {
   "cell_type": "code",
   "execution_count": 2,
   "id": "3ffa7616",
   "metadata": {
    "execution": {
     "iopub.execute_input": "2023-05-08T01:05:01.645972Z",
     "iopub.status.busy": "2023-05-08T01:05:01.645508Z",
     "iopub.status.idle": "2023-05-08T01:05:11.340884Z",
     "shell.execute_reply": "2023-05-08T01:05:11.339877Z"
    },
    "papermill": {
     "duration": 9.708708,
     "end_time": "2023-05-08T01:05:11.344343",
     "exception": false,
     "start_time": "2023-05-08T01:05:01.635635",
     "status": "completed"
    },
    "tags": []
   },
   "outputs": [
    {
     "name": "stdout",
     "output_type": "stream",
     "text": [
      "2.11.0\n"
     ]
    }
   ],
   "source": [
    "import tensorflow as tf\n",
    "\n",
    "from tensorflow import keras\n",
    "from tensorflow.keras import layers\n",
    "\n",
    "print(tf.__version__)"
   ]
  },
  {
   "cell_type": "code",
   "execution_count": 3,
   "id": "ed0eb009",
   "metadata": {
    "execution": {
     "iopub.execute_input": "2023-05-08T01:05:11.365209Z",
     "iopub.status.busy": "2023-05-08T01:05:11.363759Z",
     "iopub.status.idle": "2023-05-08T01:05:11.494744Z",
     "shell.execute_reply": "2023-05-08T01:05:11.493652Z"
    },
    "papermill": {
     "duration": 0.1447,
     "end_time": "2023-05-08T01:05:11.497518",
     "exception": false,
     "start_time": "2023-05-08T01:05:11.352818",
     "status": "completed"
    },
    "tags": []
   },
   "outputs": [],
   "source": [
    "url = 'http://archive.ics.uci.edu/ml/machine-learning-databases/auto-mpg/auto-mpg.data'\n",
    "column_names = ['MPG', 'Cylinders', 'Displacement', 'Horsepower', 'Weight',\n",
    "                'Acceleration', 'Model Year', 'Origin']\n",
    "\n",
    "raw_dataset = pd.read_csv(url, names=column_names,\n",
    "                          na_values='?', comment='\\t',\n",
    "                          sep=' ', skipinitialspace=True)"
   ]
  },
  {
   "cell_type": "code",
   "execution_count": 4,
   "id": "91402922",
   "metadata": {
    "execution": {
     "iopub.execute_input": "2023-05-08T01:05:11.518197Z",
     "iopub.status.busy": "2023-05-08T01:05:11.516847Z",
     "iopub.status.idle": "2023-05-08T01:05:11.555741Z",
     "shell.execute_reply": "2023-05-08T01:05:11.554407Z"
    },
    "papermill": {
     "duration": 0.052133,
     "end_time": "2023-05-08T01:05:11.558883",
     "exception": false,
     "start_time": "2023-05-08T01:05:11.506750",
     "status": "completed"
    },
    "tags": []
   },
   "outputs": [
    {
     "data": {
      "text/html": [
       "<div>\n",
       "<style scoped>\n",
       "    .dataframe tbody tr th:only-of-type {\n",
       "        vertical-align: middle;\n",
       "    }\n",
       "\n",
       "    .dataframe tbody tr th {\n",
       "        vertical-align: top;\n",
       "    }\n",
       "\n",
       "    .dataframe thead th {\n",
       "        text-align: right;\n",
       "    }\n",
       "</style>\n",
       "<table border=\"1\" class=\"dataframe\">\n",
       "  <thead>\n",
       "    <tr style=\"text-align: right;\">\n",
       "      <th></th>\n",
       "      <th>MPG</th>\n",
       "      <th>Cylinders</th>\n",
       "      <th>Displacement</th>\n",
       "      <th>Horsepower</th>\n",
       "      <th>Weight</th>\n",
       "      <th>Acceleration</th>\n",
       "      <th>Model Year</th>\n",
       "      <th>Origin</th>\n",
       "    </tr>\n",
       "  </thead>\n",
       "  <tbody>\n",
       "    <tr>\n",
       "      <th>393</th>\n",
       "      <td>27.0</td>\n",
       "      <td>4</td>\n",
       "      <td>140.0</td>\n",
       "      <td>86.0</td>\n",
       "      <td>2790.0</td>\n",
       "      <td>15.6</td>\n",
       "      <td>82</td>\n",
       "      <td>1</td>\n",
       "    </tr>\n",
       "    <tr>\n",
       "      <th>394</th>\n",
       "      <td>44.0</td>\n",
       "      <td>4</td>\n",
       "      <td>97.0</td>\n",
       "      <td>52.0</td>\n",
       "      <td>2130.0</td>\n",
       "      <td>24.6</td>\n",
       "      <td>82</td>\n",
       "      <td>2</td>\n",
       "    </tr>\n",
       "    <tr>\n",
       "      <th>395</th>\n",
       "      <td>32.0</td>\n",
       "      <td>4</td>\n",
       "      <td>135.0</td>\n",
       "      <td>84.0</td>\n",
       "      <td>2295.0</td>\n",
       "      <td>11.6</td>\n",
       "      <td>82</td>\n",
       "      <td>1</td>\n",
       "    </tr>\n",
       "    <tr>\n",
       "      <th>396</th>\n",
       "      <td>28.0</td>\n",
       "      <td>4</td>\n",
       "      <td>120.0</td>\n",
       "      <td>79.0</td>\n",
       "      <td>2625.0</td>\n",
       "      <td>18.6</td>\n",
       "      <td>82</td>\n",
       "      <td>1</td>\n",
       "    </tr>\n",
       "    <tr>\n",
       "      <th>397</th>\n",
       "      <td>31.0</td>\n",
       "      <td>4</td>\n",
       "      <td>119.0</td>\n",
       "      <td>82.0</td>\n",
       "      <td>2720.0</td>\n",
       "      <td>19.4</td>\n",
       "      <td>82</td>\n",
       "      <td>1</td>\n",
       "    </tr>\n",
       "  </tbody>\n",
       "</table>\n",
       "</div>"
      ],
      "text/plain": [
       "      MPG  Cylinders  Displacement  Horsepower  Weight  Acceleration  \\\n",
       "393  27.0          4         140.0        86.0  2790.0          15.6   \n",
       "394  44.0          4          97.0        52.0  2130.0          24.6   \n",
       "395  32.0          4         135.0        84.0  2295.0          11.6   \n",
       "396  28.0          4         120.0        79.0  2625.0          18.6   \n",
       "397  31.0          4         119.0        82.0  2720.0          19.4   \n",
       "\n",
       "     Model Year  Origin  \n",
       "393          82       1  \n",
       "394          82       2  \n",
       "395          82       1  \n",
       "396          82       1  \n",
       "397          82       1  "
      ]
     },
     "execution_count": 4,
     "metadata": {},
     "output_type": "execute_result"
    }
   ],
   "source": [
    "dataset = raw_dataset.copy()\n",
    "dataset.tail()"
   ]
  },
  {
   "cell_type": "code",
   "execution_count": 5,
   "id": "b5cf7be7",
   "metadata": {
    "execution": {
     "iopub.execute_input": "2023-05-08T01:05:11.579367Z",
     "iopub.status.busy": "2023-05-08T01:05:11.578924Z",
     "iopub.status.idle": "2023-05-08T01:05:11.591791Z",
     "shell.execute_reply": "2023-05-08T01:05:11.590403Z"
    },
    "papermill": {
     "duration": 0.025904,
     "end_time": "2023-05-08T01:05:11.594293",
     "exception": false,
     "start_time": "2023-05-08T01:05:11.568389",
     "status": "completed"
    },
    "tags": []
   },
   "outputs": [
    {
     "data": {
      "text/plain": [
       "MPG             0\n",
       "Cylinders       0\n",
       "Displacement    0\n",
       "Horsepower      6\n",
       "Weight          0\n",
       "Acceleration    0\n",
       "Model Year      0\n",
       "Origin          0\n",
       "dtype: int64"
      ]
     },
     "execution_count": 5,
     "metadata": {},
     "output_type": "execute_result"
    }
   ],
   "source": [
    "dataset.isna().sum()"
   ]
  },
  {
   "cell_type": "code",
   "execution_count": 6,
   "id": "0420a9da",
   "metadata": {
    "execution": {
     "iopub.execute_input": "2023-05-08T01:05:11.613797Z",
     "iopub.status.busy": "2023-05-08T01:05:11.613372Z",
     "iopub.status.idle": "2023-05-08T01:05:11.625559Z",
     "shell.execute_reply": "2023-05-08T01:05:11.623999Z"
    },
    "papermill": {
     "duration": 0.025626,
     "end_time": "2023-05-08T01:05:11.628586",
     "exception": false,
     "start_time": "2023-05-08T01:05:11.602960",
     "status": "completed"
    },
    "tags": []
   },
   "outputs": [],
   "source": [
    "dataset = dataset.dropna()"
   ]
  },
  {
   "cell_type": "code",
   "execution_count": 7,
   "id": "32ae7e4a",
   "metadata": {
    "execution": {
     "iopub.execute_input": "2023-05-08T01:05:11.648977Z",
     "iopub.status.busy": "2023-05-08T01:05:11.648525Z",
     "iopub.status.idle": "2023-05-08T01:05:11.662266Z",
     "shell.execute_reply": "2023-05-08T01:05:11.661211Z"
    },
    "papermill": {
     "duration": 0.027276,
     "end_time": "2023-05-08T01:05:11.665029",
     "exception": false,
     "start_time": "2023-05-08T01:05:11.637753",
     "status": "completed"
    },
    "tags": []
   },
   "outputs": [],
   "source": [
    "dataset['Origin'] = dataset['Origin'].map({1: 'USA', 2: 'Europe', 3: 'Japan'})"
   ]
  },
  {
   "cell_type": "code",
   "execution_count": 8,
   "id": "edf5632d",
   "metadata": {
    "execution": {
     "iopub.execute_input": "2023-05-08T01:05:11.685529Z",
     "iopub.status.busy": "2023-05-08T01:05:11.685063Z",
     "iopub.status.idle": "2023-05-08T01:05:11.709802Z",
     "shell.execute_reply": "2023-05-08T01:05:11.708343Z"
    },
    "papermill": {
     "duration": 0.038455,
     "end_time": "2023-05-08T01:05:11.712513",
     "exception": false,
     "start_time": "2023-05-08T01:05:11.674058",
     "status": "completed"
    },
    "tags": []
   },
   "outputs": [
    {
     "data": {
      "text/html": [
       "<div>\n",
       "<style scoped>\n",
       "    .dataframe tbody tr th:only-of-type {\n",
       "        vertical-align: middle;\n",
       "    }\n",
       "\n",
       "    .dataframe tbody tr th {\n",
       "        vertical-align: top;\n",
       "    }\n",
       "\n",
       "    .dataframe thead th {\n",
       "        text-align: right;\n",
       "    }\n",
       "</style>\n",
       "<table border=\"1\" class=\"dataframe\">\n",
       "  <thead>\n",
       "    <tr style=\"text-align: right;\">\n",
       "      <th></th>\n",
       "      <th>MPG</th>\n",
       "      <th>Cylinders</th>\n",
       "      <th>Displacement</th>\n",
       "      <th>Horsepower</th>\n",
       "      <th>Weight</th>\n",
       "      <th>Acceleration</th>\n",
       "      <th>Model Year</th>\n",
       "      <th>Europe</th>\n",
       "      <th>Japan</th>\n",
       "      <th>USA</th>\n",
       "    </tr>\n",
       "  </thead>\n",
       "  <tbody>\n",
       "    <tr>\n",
       "      <th>393</th>\n",
       "      <td>27.0</td>\n",
       "      <td>4</td>\n",
       "      <td>140.0</td>\n",
       "      <td>86.0</td>\n",
       "      <td>2790.0</td>\n",
       "      <td>15.6</td>\n",
       "      <td>82</td>\n",
       "      <td>0</td>\n",
       "      <td>0</td>\n",
       "      <td>1</td>\n",
       "    </tr>\n",
       "    <tr>\n",
       "      <th>394</th>\n",
       "      <td>44.0</td>\n",
       "      <td>4</td>\n",
       "      <td>97.0</td>\n",
       "      <td>52.0</td>\n",
       "      <td>2130.0</td>\n",
       "      <td>24.6</td>\n",
       "      <td>82</td>\n",
       "      <td>1</td>\n",
       "      <td>0</td>\n",
       "      <td>0</td>\n",
       "    </tr>\n",
       "    <tr>\n",
       "      <th>395</th>\n",
       "      <td>32.0</td>\n",
       "      <td>4</td>\n",
       "      <td>135.0</td>\n",
       "      <td>84.0</td>\n",
       "      <td>2295.0</td>\n",
       "      <td>11.6</td>\n",
       "      <td>82</td>\n",
       "      <td>0</td>\n",
       "      <td>0</td>\n",
       "      <td>1</td>\n",
       "    </tr>\n",
       "    <tr>\n",
       "      <th>396</th>\n",
       "      <td>28.0</td>\n",
       "      <td>4</td>\n",
       "      <td>120.0</td>\n",
       "      <td>79.0</td>\n",
       "      <td>2625.0</td>\n",
       "      <td>18.6</td>\n",
       "      <td>82</td>\n",
       "      <td>0</td>\n",
       "      <td>0</td>\n",
       "      <td>1</td>\n",
       "    </tr>\n",
       "    <tr>\n",
       "      <th>397</th>\n",
       "      <td>31.0</td>\n",
       "      <td>4</td>\n",
       "      <td>119.0</td>\n",
       "      <td>82.0</td>\n",
       "      <td>2720.0</td>\n",
       "      <td>19.4</td>\n",
       "      <td>82</td>\n",
       "      <td>0</td>\n",
       "      <td>0</td>\n",
       "      <td>1</td>\n",
       "    </tr>\n",
       "  </tbody>\n",
       "</table>\n",
       "</div>"
      ],
      "text/plain": [
       "      MPG  Cylinders  Displacement  Horsepower  Weight  Acceleration  \\\n",
       "393  27.0          4         140.0        86.0  2790.0          15.6   \n",
       "394  44.0          4          97.0        52.0  2130.0          24.6   \n",
       "395  32.0          4         135.0        84.0  2295.0          11.6   \n",
       "396  28.0          4         120.0        79.0  2625.0          18.6   \n",
       "397  31.0          4         119.0        82.0  2720.0          19.4   \n",
       "\n",
       "     Model Year  Europe  Japan  USA  \n",
       "393          82       0      0    1  \n",
       "394          82       1      0    0  \n",
       "395          82       0      0    1  \n",
       "396          82       0      0    1  \n",
       "397          82       0      0    1  "
      ]
     },
     "execution_count": 8,
     "metadata": {},
     "output_type": "execute_result"
    }
   ],
   "source": [
    "dataset = pd.get_dummies(dataset, columns=['Origin'], prefix='', prefix_sep='')\n",
    "dataset.tail()"
   ]
  },
  {
   "cell_type": "code",
   "execution_count": 9,
   "id": "f7cf2423",
   "metadata": {
    "execution": {
     "iopub.execute_input": "2023-05-08T01:05:11.732711Z",
     "iopub.status.busy": "2023-05-08T01:05:11.732271Z",
     "iopub.status.idle": "2023-05-08T01:05:11.739739Z",
     "shell.execute_reply": "2023-05-08T01:05:11.738465Z"
    },
    "papermill": {
     "duration": 0.02069,
     "end_time": "2023-05-08T01:05:11.742254",
     "exception": false,
     "start_time": "2023-05-08T01:05:11.721564",
     "status": "completed"
    },
    "tags": []
   },
   "outputs": [],
   "source": [
    "train_dataset = dataset.sample(frac=0.8, random_state=0)\n",
    "test_dataset = dataset.drop(train_dataset.index)"
   ]
  },
  {
   "cell_type": "code",
   "execution_count": 10,
   "id": "92c3bb8d",
   "metadata": {
    "execution": {
     "iopub.execute_input": "2023-05-08T01:05:11.763215Z",
     "iopub.status.busy": "2023-05-08T01:05:11.762470Z",
     "iopub.status.idle": "2023-05-08T01:05:15.779998Z",
     "shell.execute_reply": "2023-05-08T01:05:15.778905Z"
    },
    "papermill": {
     "duration": 4.032484,
     "end_time": "2023-05-08T01:05:15.783535",
     "exception": false,
     "start_time": "2023-05-08T01:05:11.751051",
     "status": "completed"
    },
    "tags": []
   },
   "outputs": [
    {
     "data": {
      "text/plain": [
       "<seaborn.axisgrid.PairGrid at 0x7d17ff4c2f80>"
      ]
     },
     "execution_count": 10,
     "metadata": {},
     "output_type": "execute_result"
    },
    {
     "data": {
      "image/png": "[encoded data removed]",
      "text/plain": [
       "<Figure size 1000x1000 with 20 Axes>"
      ]
     },
     "metadata": {},
     "output_type": "display_data"
    }
   ],
   "source": [
    "sns.pairplot(train_dataset[['MPG', 'Cylinders', 'Displacement', 'Weight']], diag_kind='kde')"
   ]
  },
  {
   "cell_type": "code",
   "execution_count": 11,
   "id": "18703ffd",
   "metadata": {
    "execution": {
     "iopub.execute_input": "2023-05-08T01:05:15.808592Z",
     "iopub.status.busy": "2023-05-08T01:05:15.807735Z",
     "iopub.status.idle": "2023-05-08T01:05:15.850967Z",
     "shell.execute_reply": "2023-05-08T01:05:15.849872Z"
    },
    "papermill": {
     "duration": 0.058776,
     "end_time": "2023-05-08T01:05:15.853458",
     "exception": false,
     "start_time": "2023-05-08T01:05:15.794682",
     "status": "completed"
    },
    "tags": []
   },
   "outputs": [
    {
     "data": {
      "text/html": [
       "<div>\n",
       "<style scoped>\n",
       "    .dataframe tbody tr th:only-of-type {\n",
       "        vertical-align: middle;\n",
       "    }\n",
       "\n",
       "    .dataframe tbody tr th {\n",
       "        vertical-align: top;\n",
       "    }\n",
       "\n",
       "    .dataframe thead th {\n",
       "        text-align: right;\n",
       "    }\n",
       "</style>\n",
       "<table border=\"1\" class=\"dataframe\">\n",
       "  <thead>\n",
       "    <tr style=\"text-align: right;\">\n",
       "      <th></th>\n",
       "      <th>count</th>\n",
       "      <th>mean</th>\n",
       "      <th>std</th>\n",
       "      <th>min</th>\n",
       "      <th>25%</th>\n",
       "      <th>50%</th>\n",
       "      <th>75%</th>\n",
       "      <th>max</th>\n",
       "    </tr>\n",
       "  </thead>\n",
       "  <tbody>\n",
       "    <tr>\n",
       "      <th>MPG</th>\n",
       "      <td>314.0</td>\n",
       "      <td>23.310510</td>\n",
       "      <td>7.728652</td>\n",
       "      <td>10.0</td>\n",
       "      <td>17.00</td>\n",
       "      <td>22.0</td>\n",
       "      <td>28.95</td>\n",
       "      <td>46.6</td>\n",
       "    </tr>\n",
       "    <tr>\n",
       "      <th>Cylinders</th>\n",
       "      <td>314.0</td>\n",
       "      <td>5.477707</td>\n",
       "      <td>1.699788</td>\n",
       "      <td>3.0</td>\n",
       "      <td>4.00</td>\n",
       "      <td>4.0</td>\n",
       "      <td>8.00</td>\n",
       "      <td>8.0</td>\n",
       "    </tr>\n",
       "    <tr>\n",
       "      <th>Displacement</th>\n",
       "      <td>314.0</td>\n",
       "      <td>195.318471</td>\n",
       "      <td>104.331589</td>\n",
       "      <td>68.0</td>\n",
       "      <td>105.50</td>\n",
       "      <td>151.0</td>\n",
       "      <td>265.75</td>\n",
       "      <td>455.0</td>\n",
       "    </tr>\n",
       "    <tr>\n",
       "      <th>Horsepower</th>\n",
       "      <td>314.0</td>\n",
       "      <td>104.869427</td>\n",
       "      <td>38.096214</td>\n",
       "      <td>46.0</td>\n",
       "      <td>76.25</td>\n",
       "      <td>94.5</td>\n",
       "      <td>128.00</td>\n",
       "      <td>225.0</td>\n",
       "    </tr>\n",
       "    <tr>\n",
       "      <th>Weight</th>\n",
       "      <td>314.0</td>\n",
       "      <td>2990.251592</td>\n",
       "      <td>843.898596</td>\n",
       "      <td>1649.0</td>\n",
       "      <td>2256.50</td>\n",
       "      <td>2822.5</td>\n",
       "      <td>3608.00</td>\n",
       "      <td>5140.0</td>\n",
       "    </tr>\n",
       "    <tr>\n",
       "      <th>Acceleration</th>\n",
       "      <td>314.0</td>\n",
       "      <td>15.559236</td>\n",
       "      <td>2.789230</td>\n",
       "      <td>8.0</td>\n",
       "      <td>13.80</td>\n",
       "      <td>15.5</td>\n",
       "      <td>17.20</td>\n",
       "      <td>24.8</td>\n",
       "    </tr>\n",
       "    <tr>\n",
       "      <th>Model Year</th>\n",
       "      <td>314.0</td>\n",
       "      <td>75.898089</td>\n",
       "      <td>3.675642</td>\n",
       "      <td>70.0</td>\n",
       "      <td>73.00</td>\n",
       "      <td>76.0</td>\n",
       "      <td>79.00</td>\n",
       "      <td>82.0</td>\n",
       "    </tr>\n",
       "    <tr>\n",
       "      <th>Europe</th>\n",
       "      <td>314.0</td>\n",
       "      <td>0.178344</td>\n",
       "      <td>0.383413</td>\n",
       "      <td>0.0</td>\n",
       "      <td>0.00</td>\n",
       "      <td>0.0</td>\n",
       "      <td>0.00</td>\n",
       "      <td>1.0</td>\n",
       "    </tr>\n",
       "    <tr>\n",
       "      <th>Japan</th>\n",
       "      <td>314.0</td>\n",
       "      <td>0.197452</td>\n",
       "      <td>0.398712</td>\n",
       "      <td>0.0</td>\n",
       "      <td>0.00</td>\n",
       "      <td>0.0</td>\n",
       "      <td>0.00</td>\n",
       "      <td>1.0</td>\n",
       "    </tr>\n",
       "    <tr>\n",
       "      <th>USA</th>\n",
       "      <td>314.0</td>\n",
       "      <td>0.624204</td>\n",
       "      <td>0.485101</td>\n",
       "      <td>0.0</td>\n",
       "      <td>0.00</td>\n",
       "      <td>1.0</td>\n",
       "      <td>1.00</td>\n",
       "      <td>1.0</td>\n",
       "    </tr>\n",
       "  </tbody>\n",
       "</table>\n",
       "</div>"
      ],
      "text/plain": [
       "              count         mean         std     min      25%     50%  \\\n",
       "MPG           314.0    23.310510    7.728652    10.0    17.00    22.0   \n",
       "Cylinders     314.0     5.477707    1.699788     3.0     4.00     4.0   \n",
       "Displacement  314.0   195.318471  104.331589    68.0   105.50   151.0   \n",
       "Horsepower    314.0   104.869427   38.096214    46.0    76.25    94.5   \n",
       "Weight        314.0  2990.251592  843.898596  1649.0  2256.50  2822.5   \n",
       "Acceleration  314.0    15.559236    2.789230     8.0    13.80    15.5   \n",
       "Model Year    314.0    75.898089    3.675642    70.0    73.00    76.0   \n",
       "Europe        314.0     0.178344    0.383413     0.0     0.00     0.0   \n",
       "Japan         314.0     0.197452    0.398712     0.0     0.00     0.0   \n",
       "USA           314.0     0.624204    0.485101     0.0     0.00     1.0   \n",
       "\n",
       "                  75%     max  \n",
       "MPG             28.95    46.6  \n",
       "Cylinders        8.00     8.0  \n",
       "Displacement   265.75   455.0  \n",
       "Horsepower     128.00   225.0  \n",
       "Weight        3608.00  5140.0  \n",
       "Acceleration    17.20    24.8  \n",
       "Model Year      79.00    82.0  \n",
       "Europe           0.00     1.0  \n",
       "Japan            0.00     1.0  \n",
       "USA              1.00     1.0  "
      ]
     },
     "execution_count": 11,
     "metadata": {},
     "output_type": "execute_result"
    }
   ],
   "source": [
    "train_dataset.describe().transpose()"
   ]
  },
  {
   "cell_type": "code",
   "execution_count": 12,
   "id": "e2ea4ebb",
   "metadata": {
    "execution": {
     "iopub.execute_input": "2023-05-08T01:05:15.878069Z",
     "iopub.status.busy": "2023-05-08T01:05:15.877488Z",
     "iopub.status.idle": "2023-05-08T01:05:15.883566Z",
     "shell.execute_reply": "2023-05-08T01:05:15.882669Z"
    },
    "papermill": {
     "duration": 0.02145,
     "end_time": "2023-05-08T01:05:15.886113",
     "exception": false,
     "start_time": "2023-05-08T01:05:15.864663",
     "status": "completed"
    },
    "tags": []
   },
   "outputs": [],
   "source": [
    "train_features = train_dataset.copy()\n",
    "test_features = test_dataset.copy()\n",
    "\n",
    "train_labels = train_features.pop('MPG')\n",
    "test_labels = test_features.pop('MPG')"
   ]
  },
  {
   "cell_type": "code",
   "execution_count": 13,
   "id": "79d02d67",
   "metadata": {
    "execution": {
     "iopub.execute_input": "2023-05-08T01:05:15.912728Z",
     "iopub.status.busy": "2023-05-08T01:05:15.912056Z",
     "iopub.status.idle": "2023-05-08T01:05:15.948139Z",
     "shell.execute_reply": "2023-05-08T01:05:15.946906Z"
    },
    "papermill": {
     "duration": 0.052703,
     "end_time": "2023-05-08T01:05:15.950711",
     "exception": false,
     "start_time": "2023-05-08T01:05:15.898008",
     "status": "completed"
    },
    "tags": []
   },
   "outputs": [
    {
     "data": {
      "text/html": [
       "<div>\n",
       "<style scoped>\n",
       "    .dataframe tbody tr th:only-of-type {\n",
       "        vertical-align: middle;\n",
       "    }\n",
       "\n",
       "    .dataframe tbody tr th {\n",
       "        vertical-align: top;\n",
       "    }\n",
       "\n",
       "    .dataframe thead th {\n",
       "        text-align: right;\n",
       "    }\n",
       "</style>\n",
       "<table border=\"1\" class=\"dataframe\">\n",
       "  <thead>\n",
       "    <tr style=\"text-align: right;\">\n",
       "      <th></th>\n",
       "      <th>mean</th>\n",
       "      <th>std</th>\n",
       "    </tr>\n",
       "  </thead>\n",
       "  <tbody>\n",
       "    <tr>\n",
       "      <th>MPG</th>\n",
       "      <td>23.310510</td>\n",
       "      <td>7.728652</td>\n",
       "    </tr>\n",
       "    <tr>\n",
       "      <th>Cylinders</th>\n",
       "      <td>5.477707</td>\n",
       "      <td>1.699788</td>\n",
       "    </tr>\n",
       "    <tr>\n",
       "      <th>Displacement</th>\n",
       "      <td>195.318471</td>\n",
       "      <td>104.331589</td>\n",
       "    </tr>\n",
       "    <tr>\n",
       "      <th>Horsepower</th>\n",
       "      <td>104.869427</td>\n",
       "      <td>38.096214</td>\n",
       "    </tr>\n",
       "    <tr>\n",
       "      <th>Weight</th>\n",
       "      <td>2990.251592</td>\n",
       "      <td>843.898596</td>\n",
       "    </tr>\n",
       "    <tr>\n",
       "      <th>Acceleration</th>\n",
       "      <td>15.559236</td>\n",
       "      <td>2.789230</td>\n",
       "    </tr>\n",
       "    <tr>\n",
       "      <th>Model Year</th>\n",
       "      <td>75.898089</td>\n",
       "      <td>3.675642</td>\n",
       "    </tr>\n",
       "    <tr>\n",
       "      <th>Europe</th>\n",
       "      <td>0.178344</td>\n",
       "      <td>0.383413</td>\n",
       "    </tr>\n",
       "    <tr>\n",
       "      <th>Japan</th>\n",
       "      <td>0.197452</td>\n",
       "      <td>0.398712</td>\n",
       "    </tr>\n",
       "    <tr>\n",
       "      <th>USA</th>\n",
       "      <td>0.624204</td>\n",
       "      <td>0.485101</td>\n",
       "    </tr>\n",
       "  </tbody>\n",
       "</table>\n",
       "</div>"
      ],
      "text/plain": [
       "                     mean         std\n",
       "MPG             23.310510    7.728652\n",
       "Cylinders        5.477707    1.699788\n",
       "Displacement   195.318471  104.331589\n",
       "Horsepower     104.869427   38.096214\n",
       "Weight        2990.251592  843.898596\n",
       "Acceleration    15.559236    2.789230\n",
       "Model Year      75.898089    3.675642\n",
       "Europe           0.178344    0.383413\n",
       "Japan            0.197452    0.398712\n",
       "USA              0.624204    0.485101"
      ]
     },
     "execution_count": 13,
     "metadata": {},
     "output_type": "execute_result"
    }
   ],
   "source": [
    "train_dataset.describe().transpose()[['mean', 'std']]"
   ]
  },
  {
   "cell_type": "code",
   "execution_count": 14,
   "id": "f501f476",
   "metadata": {
    "execution": {
     "iopub.execute_input": "2023-05-08T01:05:15.977011Z",
     "iopub.status.busy": "2023-05-08T01:05:15.976608Z",
     "iopub.status.idle": "2023-05-08T01:05:15.995665Z",
     "shell.execute_reply": "2023-05-08T01:05:15.994515Z"
    },
    "papermill": {
     "duration": 0.035829,
     "end_time": "2023-05-08T01:05:15.998668",
     "exception": false,
     "start_time": "2023-05-08T01:05:15.962839",
     "status": "completed"
    },
    "tags": []
   },
   "outputs": [],
   "source": [
    "normalizer = tf.keras.layers.Normalization(axis=-1)"
   ]
  },
  {
   "cell_type": "code",
   "execution_count": 15,
   "id": "cb89dd89",
   "metadata": {
    "execution": {
     "iopub.execute_input": "2023-05-08T01:05:16.026473Z",
     "iopub.status.busy": "2023-05-08T01:05:16.025720Z",
     "iopub.status.idle": "2023-05-08T01:05:16.640442Z",
     "shell.execute_reply": "2023-05-08T01:05:16.639311Z"
    },
    "papermill": {
     "duration": 0.632128,
     "end_time": "2023-05-08T01:05:16.643288",
     "exception": false,
     "start_time": "2023-05-08T01:05:16.011160",
     "status": "completed"
    },
    "tags": []
   },
   "outputs": [],
   "source": [
    "normalizer.adapt(np.array(train_features))"
   ]
  },
  {
   "cell_type": "code",
   "execution_count": 16,
   "id": "ccb59fb1",
   "metadata": {
    "execution": {
     "iopub.execute_input": "2023-05-08T01:05:16.669819Z",
     "iopub.status.busy": "2023-05-08T01:05:16.669395Z",
     "iopub.status.idle": "2023-05-08T01:05:16.675622Z",
     "shell.execute_reply": "2023-05-08T01:05:16.674264Z"
    },
    "papermill": {
     "duration": 0.022913,
     "end_time": "2023-05-08T01:05:16.678642",
     "exception": false,
     "start_time": "2023-05-08T01:05:16.655729",
     "status": "completed"
    },
    "tags": []
   },
   "outputs": [
    {
     "name": "stdout",
     "output_type": "stream",
     "text": [
      "[[   5.478  195.318  104.869 2990.252   15.559   75.898    0.178    0.197\n",
      "     0.624]]\n"
     ]
    }
   ],
   "source": [
    "print(normalizer.mean.numpy())"
   ]
  },
  {
   "cell_type": "code",
   "execution_count": 17,
   "id": "a5cb2ad6",
   "metadata": {
    "execution": {
     "iopub.execute_input": "2023-05-08T01:05:16.706304Z",
     "iopub.status.busy": "2023-05-08T01:05:16.705813Z",
     "iopub.status.idle": "2023-05-08T01:05:16.728056Z",
     "shell.execute_reply": "2023-05-08T01:05:16.726325Z"
    },
    "papermill": {
     "duration": 0.040092,
     "end_time": "2023-05-08T01:05:16.730818",
     "exception": false,
     "start_time": "2023-05-08T01:05:16.690726",
     "status": "completed"
    },
    "tags": []
   },
   "outputs": [
    {
     "name": "stdout",
     "output_type": "stream",
     "text": [
      "First example: [[   4.    90.    75.  2125.    14.5   74.     0.     0.     1. ]]\n",
      "\n",
      "Normalized: [[-0.87 -1.01 -0.79 -1.03 -0.38 -0.52 -0.47 -0.5   0.78]]\n"
     ]
    }
   ],
   "source": [
    "first = np.array(train_features[:1])\n",
    "\n",
    "with np.printoptions(precision=2, suppress=True):\n",
    "  print('First example:', first)\n",
    "  print()\n",
    "  print('Normalized:', normalizer(first).numpy())"
   ]
  },
  {
   "cell_type": "code",
   "execution_count": 18,
   "id": "64184e64",
   "metadata": {
    "execution": {
     "iopub.execute_input": "2023-05-08T01:05:16.756979Z",
     "iopub.status.busy": "2023-05-08T01:05:16.756561Z",
     "iopub.status.idle": "2023-05-08T01:05:17.000751Z",
     "shell.execute_reply": "2023-05-08T01:05:16.999016Z"
    },
    "papermill": {
     "duration": 0.260519,
     "end_time": "2023-05-08T01:05:17.003480",
     "exception": false,
     "start_time": "2023-05-08T01:05:16.742961",
     "status": "completed"
    },
    "tags": []
   },
   "outputs": [],
   "source": [
    "horsepower = np.array(train_features['Horsepower'])\n",
    "\n",
    "horsepower_normalizer = layers.Normalization(input_shape=[1,], axis=None)\n",
    "horsepower_normalizer.adapt(horsepower)"
   ]
  },
  {
   "cell_type": "code",
   "execution_count": 19,
   "id": "b8ce5118",
   "metadata": {
    "execution": {
     "iopub.execute_input": "2023-05-08T01:05:17.031123Z",
     "iopub.status.busy": "2023-05-08T01:05:17.030625Z",
     "iopub.status.idle": "2023-05-08T01:05:17.103573Z",
     "shell.execute_reply": "2023-05-08T01:05:17.102119Z"
    },
    "papermill": {
     "duration": 0.091303,
     "end_time": "2023-05-08T01:05:17.107857",
     "exception": false,
     "start_time": "2023-05-08T01:05:17.016554",
     "status": "completed"
    },
    "tags": []
   },
   "outputs": [
    {
     "name": "stdout",
     "output_type": "stream",
     "text": [
      "Model: \"sequential\"\n",
      "_________________________________________________________________\n",
      " Layer (type)                Output Shape              Param #   \n",
      "=================================================================\n",
      " normalization_1 (Normalizat  (None, 1)                3         \n",
      " ion)                                                            \n",
      "                                                                 \n",
      " dense (Dense)               (None, 1)                 2         \n",
      "                                                                 \n",
      "=================================================================\n",
      "Total params: 5\n",
      "Trainable params: 2\n",
      "Non-trainable params: 3\n",
      "_________________________________________________________________\n"
     ]
    }
   ],
   "source": [
    "horsepower_model = tf.keras.Sequential([\n",
    "    horsepower_normalizer,\n",
    "    layers.Dense(units=1)\n",
    "])\n",
    "\n",
    "horsepower_model.summary()"
   ]
  },
  {
   "cell_type": "code",
   "execution_count": 20,
   "id": "8c76a964",
   "metadata": {
    "execution": {
     "iopub.execute_input": "2023-05-08T01:05:17.138254Z",
     "iopub.status.busy": "2023-05-08T01:05:17.137682Z",
     "iopub.status.idle": "2023-05-08T01:05:17.346578Z",
     "shell.execute_reply": "2023-05-08T01:05:17.345090Z"
    },
    "papermill": {
     "duration": 0.228451,
     "end_time": "2023-05-08T01:05:17.349417",
     "exception": false,
     "start_time": "2023-05-08T01:05:17.120966",
     "status": "completed"
    },
    "tags": []
   },
   "outputs": [
    {
     "name": "stdout",
     "output_type": "stream",
     "text": [
      "1/1 [==============================] - 0s 130ms/step\n"
     ]
    },
    {
     "data": {
      "text/plain": [
       "array([[ 1.147],\n",
       "       [ 0.648],\n",
       "       [-2.117],\n",
       "       [ 1.608],\n",
       "       [ 1.454],\n",
       "       [ 0.571],\n",
       "       [ 1.723],\n",
       "       [ 1.454],\n",
       "       [ 0.379],\n",
       "       [ 0.648]], dtype=float32)"
      ]
     },
     "execution_count": 20,
     "metadata": {},
     "output_type": "execute_result"
    }
   ],
   "source": [
    "horsepower_model.predict(horsepower[:10])"
   ]
  },
  {
   "cell_type": "code",
   "execution_count": 21,
   "id": "f2856794",
   "metadata": {
    "execution": {
     "iopub.execute_input": "2023-05-08T01:05:17.378353Z",
     "iopub.status.busy": "2023-05-08T01:05:17.377826Z",
     "iopub.status.idle": "2023-05-08T01:05:17.400792Z",
     "shell.execute_reply": "2023-05-08T01:05:17.399572Z"
    },
    "papermill": {
     "duration": 0.041033,
     "end_time": "2023-05-08T01:05:17.403637",
     "exception": false,
     "start_time": "2023-05-08T01:05:17.362604",
     "status": "completed"
    },
    "tags": []
   },
   "outputs": [],
   "source": [
    "horsepower_model.compile(\n",
    "    optimizer=tf.keras.optimizers.Adam(learning_rate=0.1),\n",
    "    loss='mean_absolute_error')"
   ]
  },
  {
   "cell_type": "code",
   "execution_count": 22,
   "id": "3014db1c",
   "metadata": {
    "execution": {
     "iopub.execute_input": "2023-05-08T01:05:17.431361Z",
     "iopub.status.busy": "2023-05-08T01:05:17.430838Z",
     "iopub.status.idle": "2023-05-08T01:05:22.895201Z",
     "shell.execute_reply": "2023-05-08T01:05:22.893554Z"
    },
    "papermill": {
     "duration": 5.482122,
     "end_time": "2023-05-08T01:05:22.898483",
     "exception": false,
     "start_time": "2023-05-08T01:05:17.416361",
     "status": "completed"
    },
    "tags": []
   },
   "outputs": [
    {
     "name": "stdout",
     "output_type": "stream",
     "text": [
      "CPU times: user 5.49 s, sys: 390 ms, total: 5.88 s\n",
      "Wall time: 5.45 s\n"
     ]
    }
   ],
   "source": [
    "%%time\n",
    "history = horsepower_model.fit(\n",
    "    train_features['Horsepower'],\n",
    "    train_labels,\n",
    "    epochs=100,\n",
    "    # Suppress logging.\n",
    "    verbose=0,\n",
    "    # Calculate validation results on 20% of the training data.\n",
    "    validation_split = 0.2)"
   ]
  },
  {
   "cell_type": "code",
   "execution_count": 23,
   "id": "c8a3496b",
   "metadata": {
    "execution": {
     "iopub.execute_input": "2023-05-08T01:05:22.927589Z",
     "iopub.status.busy": "2023-05-08T01:05:22.926805Z",
     "iopub.status.idle": "2023-05-08T01:05:22.942260Z",
     "shell.execute_reply": "2023-05-08T01:05:22.940971Z"
    },
    "papermill": {
     "duration": 0.033678,
     "end_time": "2023-05-08T01:05:22.945335",
     "exception": false,
     "start_time": "2023-05-08T01:05:22.911657",
     "status": "completed"
    },
    "tags": []
   },
   "outputs": [
    {
     "data": {
      "text/html": [
       "<div>\n",
       "<style scoped>\n",
       "    .dataframe tbody tr th:only-of-type {\n",
       "        vertical-align: middle;\n",
       "    }\n",
       "\n",
       "    .dataframe tbody tr th {\n",
       "        vertical-align: top;\n",
       "    }\n",
       "\n",
       "    .dataframe thead th {\n",
       "        text-align: right;\n",
       "    }\n",
       "</style>\n",
       "<table border=\"1\" class=\"dataframe\">\n",
       "  <thead>\n",
       "    <tr style=\"text-align: right;\">\n",
       "      <th></th>\n",
       "      <th>loss</th>\n",
       "      <th>val_loss</th>\n",
       "      <th>epoch</th>\n",
       "    </tr>\n",
       "  </thead>\n",
       "  <tbody>\n",
       "    <tr>\n",
       "      <th>95</th>\n",
       "      <td>3.803071</td>\n",
       "      <td>4.178753</td>\n",
       "      <td>95</td>\n",
       "    </tr>\n",
       "    <tr>\n",
       "      <th>96</th>\n",
       "      <td>3.806149</td>\n",
       "      <td>4.207171</td>\n",
       "      <td>96</td>\n",
       "    </tr>\n",
       "    <tr>\n",
       "      <th>97</th>\n",
       "      <td>3.803588</td>\n",
       "      <td>4.194237</td>\n",
       "      <td>97</td>\n",
       "    </tr>\n",
       "    <tr>\n",
       "      <th>98</th>\n",
       "      <td>3.805985</td>\n",
       "      <td>4.180471</td>\n",
       "      <td>98</td>\n",
       "    </tr>\n",
       "    <tr>\n",
       "      <th>99</th>\n",
       "      <td>3.803369</td>\n",
       "      <td>4.186300</td>\n",
       "      <td>99</td>\n",
       "    </tr>\n",
       "  </tbody>\n",
       "</table>\n",
       "</div>"
      ],
      "text/plain": [
       "        loss  val_loss  epoch\n",
       "95  3.803071  4.178753     95\n",
       "96  3.806149  4.207171     96\n",
       "97  3.803588  4.194237     97\n",
       "98  3.805985  4.180471     98\n",
       "99  3.803369  4.186300     99"
      ]
     },
     "execution_count": 23,
     "metadata": {},
     "output_type": "execute_result"
    }
   ],
   "source": [
    "hist = pd.DataFrame(history.history)\n",
    "hist['epoch'] = history.epoch\n",
    "hist.tail()"
   ]
  },
  {
   "cell_type": "code",
   "execution_count": 24,
   "id": "aa0c24c2",
   "metadata": {
    "execution": {
     "iopub.execute_input": "2023-05-08T01:05:22.974125Z",
     "iopub.status.busy": "2023-05-08T01:05:22.973682Z",
     "iopub.status.idle": "2023-05-08T01:05:22.980744Z",
     "shell.execute_reply": "2023-05-08T01:05:22.979276Z"
    },
    "papermill": {
     "duration": 0.024417,
     "end_time": "2023-05-08T01:05:22.983209",
     "exception": false,
     "start_time": "2023-05-08T01:05:22.958792",
     "status": "completed"
    },
    "tags": []
   },
   "outputs": [],
   "source": [
    "def plot_loss(history):\n",
    "  plt.plot(history.history['loss'], label='loss')\n",
    "  plt.plot(history.history['val_loss'], label='val_loss')\n",
    "  plt.ylim([0, 10])\n",
    "  plt.xlabel('Epoch')\n",
    "  plt.ylabel('Error [MPG]')\n",
    "  plt.legend()\n",
    "  plt.grid(True)"
   ]
  },
  {
   "cell_type": "code",
   "execution_count": 25,
   "id": "e1f73d2d",
   "metadata": {
    "execution": {
     "iopub.execute_input": "2023-05-08T01:05:23.012800Z",
     "iopub.status.busy": "2023-05-08T01:05:23.012392Z",
     "iopub.status.idle": "2023-05-08T01:05:23.285533Z",
     "shell.execute_reply": "2023-05-08T01:05:23.284069Z"
    },
    "papermill": {
     "duration": 0.2911,
     "end_time": "2023-05-08T01:05:23.288400",
     "exception": false,
     "start_time": "2023-05-08T01:05:22.997300",
     "status": "completed"
    },
    "tags": []
   },
   "outputs": [
    {
     "data": {
      "image/png": "[encoded data removed]",
      "text/plain": [
       "<Figure size 640x480 with 1 Axes>"
      ]
     },
     "metadata": {},
     "output_type": "display_data"
    }
   ],
   "source": [
    "plot_loss(history)"
   ]
  },
  {
   "cell_type": "code",
   "execution_count": 26,
   "id": "9ff53dad",
   "metadata": {
    "execution": {
     "iopub.execute_input": "2023-05-08T01:05:23.319220Z",
     "iopub.status.busy": "2023-05-08T01:05:23.318815Z",
     "iopub.status.idle": "2023-05-08T01:05:23.404153Z",
     "shell.execute_reply": "2023-05-08T01:05:23.402719Z"
    },
    "papermill": {
     "duration": 0.104968,
     "end_time": "2023-05-08T01:05:23.407782",
     "exception": false,
     "start_time": "2023-05-08T01:05:23.302814",
     "status": "completed"
    },
    "tags": []
   },
   "outputs": [],
   "source": [
    "test_results = {}\n",
    "\n",
    "test_results['horsepower_model'] = horsepower_model.evaluate(\n",
    "    test_features['Horsepower'],\n",
    "    test_labels, verbose=0)"
   ]
  },
  {
   "cell_type": "code",
   "execution_count": 27,
   "id": "13cf5283",
   "metadata": {
    "execution": {
     "iopub.execute_input": "2023-05-08T01:05:23.436298Z",
     "iopub.status.busy": "2023-05-08T01:05:23.435881Z",
     "iopub.status.idle": "2023-05-08T01:05:23.611366Z",
     "shell.execute_reply": "2023-05-08T01:05:23.610015Z"
    },
    "papermill": {
     "duration": 0.192799,
     "end_time": "2023-05-08T01:05:23.614082",
     "exception": false,
     "start_time": "2023-05-08T01:05:23.421283",
     "status": "completed"
    },
    "tags": []
   },
   "outputs": [
    {
     "name": "stdout",
     "output_type": "stream",
     "text": [
      "8/8 [==============================] - 0s 2ms/step\n"
     ]
    }
   ],
   "source": [
    "x = tf.linspace(0.0, 250, 251)\n",
    "y = horsepower_model.predict(x)"
   ]
  },
  {
   "cell_type": "code",
   "execution_count": 28,
   "id": "f5450d09",
   "metadata": {
    "execution": {
     "iopub.execute_input": "2023-05-08T01:05:23.643277Z",
     "iopub.status.busy": "2023-05-08T01:05:23.642854Z",
     "iopub.status.idle": "2023-05-08T01:05:23.649431Z",
     "shell.execute_reply": "2023-05-08T01:05:23.648417Z"
    },
    "papermill": {
     "duration": 0.02392,
     "end_time": "2023-05-08T01:05:23.651620",
     "exception": false,
     "start_time": "2023-05-08T01:05:23.627700",
     "status": "completed"
    },
    "tags": []
   },
   "outputs": [],
   "source": [
    "def plot_horsepower(x, y):\n",
    "  plt.scatter(train_features['Horsepower'], train_labels, label='Data')\n",
    "  plt.plot(x, y, color='k', label='Predictions')\n",
    "  plt.xlabel('Horsepower')\n",
    "  plt.ylabel('MPG')\n",
    "  plt.legend()"
   ]
  },
  {
   "cell_type": "code",
   "execution_count": 29,
   "id": "3f90674a",
   "metadata": {
    "execution": {
     "iopub.execute_input": "2023-05-08T01:05:23.682284Z",
     "iopub.status.busy": "2023-05-08T01:05:23.680713Z",
     "iopub.status.idle": "2023-05-08T01:05:23.972724Z",
     "shell.execute_reply": "2023-05-08T01:05:23.971496Z"
    },
    "papermill": {
     "duration": 0.309616,
     "end_time": "2023-05-08T01:05:23.975077",
     "exception": false,
     "start_time": "2023-05-08T01:05:23.665461",
     "status": "completed"
    },
    "tags": []
   },
   "outputs": [
    {
     "data": {
      "image/png": "[encoded data removed]",
      "text/plain": [
       "<Figure size 640x480 with 1 Axes>"
      ]
     },
     "metadata": {},
     "output_type": "display_data"
    }
   ],
   "source": [
    "plot_horsepower(x, y)"
   ]
  },
  {
   "cell_type": "code",
   "execution_count": 30,
   "id": "066d71b5",
   "metadata": {
    "execution": {
     "iopub.execute_input": "2023-05-08T01:05:24.005700Z",
     "iopub.status.busy": "2023-05-08T01:05:24.005180Z",
     "iopub.status.idle": "2023-05-08T01:05:24.039806Z",
     "shell.execute_reply": "2023-05-08T01:05:24.038507Z"
    },
    "papermill": {
     "duration": 0.053133,
     "end_time": "2023-05-08T01:05:24.042673",
     "exception": false,
     "start_time": "2023-05-08T01:05:23.989540",
     "status": "completed"
    },
    "tags": []
   },
   "outputs": [],
   "source": [
    "linear_model = tf.keras.Sequential([\n",
    "    normalizer,\n",
    "    layers.Dense(units=1)\n",
    "])"
   ]
  },
  {
   "cell_type": "code",
   "execution_count": 31,
   "id": "bdd73a45",
   "metadata": {
    "execution": {
     "iopub.execute_input": "2023-05-08T01:05:24.074544Z",
     "iopub.status.busy": "2023-05-08T01:05:24.074049Z",
     "iopub.status.idle": "2023-05-08T01:05:24.226521Z",
     "shell.execute_reply": "2023-05-08T01:05:24.225430Z"
    },
    "papermill": {
     "duration": 0.172267,
     "end_time": "2023-05-08T01:05:24.228693",
     "exception": false,
     "start_time": "2023-05-08T01:05:24.056426",
     "status": "completed"
    },
    "tags": []
   },
   "outputs": [
    {
     "name": "stdout",
     "output_type": "stream",
     "text": [
      "1/1 [==============================] - 0s 71ms/step\n"
     ]
    },
    {
     "data": {
      "text/plain": [
       "array([[-1.072],\n",
       "       [-0.523],\n",
       "       [-0.677],\n",
       "       [-0.135],\n",
       "       [ 0.834],\n",
       "       [-0.887],\n",
       "       [ 0.658],\n",
       "       [ 1.464],\n",
       "       [-1.217],\n",
       "       [-0.009]], dtype=float32)"
      ]
     },
     "execution_count": 31,
     "metadata": {},
     "output_type": "execute_result"
    }
   ],
   "source": [
    "linear_model.predict(train_features[:10])"
   ]
  },
  {
   "cell_type": "code",
   "execution_count": 32,
   "id": "47f8c439",
   "metadata": {
    "execution": {
     "iopub.execute_input": "2023-05-08T01:05:24.262603Z",
     "iopub.status.busy": "2023-05-08T01:05:24.260345Z",
     "iopub.status.idle": "2023-05-08T01:05:24.275686Z",
     "shell.execute_reply": "2023-05-08T01:05:24.273932Z"
    },
    "papermill": {
     "duration": 0.03522,
     "end_time": "2023-05-08T01:05:24.278680",
     "exception": false,
     "start_time": "2023-05-08T01:05:24.243460",
     "status": "completed"
    },
    "tags": []
   },
   "outputs": [
    {
     "data": {
      "text/plain": [
       "<tf.Variable 'dense_1/kernel:0' shape=(9, 1) dtype=float32, numpy=\n",
       "array([[ 0.048],\n",
       "       [-0.432],\n",
       "       [ 0.457],\n",
       "       [ 0.189],\n",
       "       [-0.297],\n",
       "       [ 0.534],\n",
       "       [ 0.704],\n",
       "       [ 0.337],\n",
       "       [-0.329]], dtype=float32)>"
      ]
     },
     "execution_count": 32,
     "metadata": {},
     "output_type": "execute_result"
    }
   ],
   "source": [
    "linear_model.layers[1].kernel"
   ]
  },
  {
   "cell_type": "code",
   "execution_count": 33,
   "id": "033ef3fb",
   "metadata": {
    "execution": {
     "iopub.execute_input": "2023-05-08T01:05:24.312625Z",
     "iopub.status.busy": "2023-05-08T01:05:24.312243Z",
     "iopub.status.idle": "2023-05-08T01:05:24.325800Z",
     "shell.execute_reply": "2023-05-08T01:05:24.324592Z"
    },
    "papermill": {
     "duration": 0.034491,
     "end_time": "2023-05-08T01:05:24.328840",
     "exception": false,
     "start_time": "2023-05-08T01:05:24.294349",
     "status": "completed"
    },
    "tags": []
   },
   "outputs": [],
   "source": [
    "linear_model.compile(\n",
    "    optimizer=tf.keras.optimizers.Adam(learning_rate=0.1),\n",
    "    loss='mean_absolute_error')"
   ]
  },
  {
   "cell_type": "code",
   "execution_count": 34,
   "id": "d4414271",
   "metadata": {
    "execution": {
     "iopub.execute_input": "2023-05-08T01:05:24.363789Z",
     "iopub.status.busy": "2023-05-08T01:05:24.363404Z",
     "iopub.status.idle": "2023-05-08T01:05:29.600271Z",
     "shell.execute_reply": "2023-05-08T01:05:29.598652Z"
    },
    "papermill": {
     "duration": 5.25731,
     "end_time": "2023-05-08T01:05:29.602807",
     "exception": false,
     "start_time": "2023-05-08T01:05:24.345497",
     "status": "completed"
    },
    "tags": []
   },
   "outputs": [
    {
     "name": "stdout",
     "output_type": "stream",
     "text": [
      "CPU times: user 5.49 s, sys: 291 ms, total: 5.78 s\n",
      "Wall time: 5.23 s\n"
     ]
    }
   ],
   "source": [
    "%%time\n",
    "history = linear_model.fit(\n",
    "    train_features,\n",
    "    train_labels,\n",
    "    epochs=100,\n",
    "    # Suppress logging.\n",
    "    verbose=0,\n",
    "    # Calculate validation results on 20% of the training data.\n",
    "    validation_split = 0.2)"
   ]
  },
  {
   "cell_type": "code",
   "execution_count": 35,
   "id": "814c6f15",
   "metadata": {
    "execution": {
     "iopub.execute_input": "2023-05-08T01:05:29.635046Z",
     "iopub.status.busy": "2023-05-08T01:05:29.634569Z",
     "iopub.status.idle": "2023-05-08T01:05:29.914468Z",
     "shell.execute_reply": "2023-05-08T01:05:29.913164Z"
    },
    "papermill": {
     "duration": 0.298787,
     "end_time": "2023-05-08T01:05:29.917088",
     "exception": false,
     "start_time": "2023-05-08T01:05:29.618301",
     "status": "completed"
    },
    "tags": []
   },
   "outputs": [
    {
     "data": {
      "image/png": "[encoded data removed]",
      "text/plain": [
       "<Figure size 640x480 with 1 Axes>"
      ]
     },
     "metadata": {},
     "output_type": "display_data"
    }
   ],
   "source": [
    "plot_loss(history)"
   ]
  },
  {
   "cell_type": "code",
   "execution_count": 36,
   "id": "30252abd",
   "metadata": {
    "execution": {
     "iopub.execute_input": "2023-05-08T01:05:29.950669Z",
     "iopub.status.busy": "2023-05-08T01:05:29.949460Z",
     "iopub.status.idle": "2023-05-08T01:05:30.053546Z",
     "shell.execute_reply": "2023-05-08T01:05:30.052018Z"
    },
    "papermill": {
     "duration": 0.124143,
     "end_time": "2023-05-08T01:05:30.056597",
     "exception": false,
     "start_time": "2023-05-08T01:05:29.932454",
     "status": "completed"
    },
    "tags": []
   },
   "outputs": [],
   "source": [
    "test_results['linear_model'] = linear_model.evaluate(\n",
    "    test_features, test_labels, verbose=0)"
   ]
  },
  {
   "cell_type": "code",
   "execution_count": 37,
   "id": "f146b2e2",
   "metadata": {
    "execution": {
     "iopub.execute_input": "2023-05-08T01:05:30.089509Z",
     "iopub.status.busy": "2023-05-08T01:05:30.088961Z",
     "iopub.status.idle": "2023-05-08T01:05:30.095939Z",
     "shell.execute_reply": "2023-05-08T01:05:30.094437Z"
    },
    "papermill": {
     "duration": 0.025954,
     "end_time": "2023-05-08T01:05:30.098144",
     "exception": false,
     "start_time": "2023-05-08T01:05:30.072190",
     "status": "completed"
    },
    "tags": []
   },
   "outputs": [],
   "source": [
    "def build_and_compile_model(norm):\n",
    "  model = keras.Sequential([\n",
    "      norm,\n",
    "      layers.Dense(64, activation='relu'),\n",
    "      layers.Dense(64, activation='relu'),\n",
    "      layers.Dense(1)\n",
    "  ])\n",
    "\n",
    "  model.compile(loss='mean_absolute_error',\n",
    "                optimizer=tf.keras.optimizers.Adam(0.001))\n",
    "  return model"
   ]
  }
 ],
 "metadata": {
  "kernelspec": {
   "display_name": "Python 3",
   "language": "python",
   "name": "python3"
  },
  "language_info": {
   "codemirror_mode": {
    "name": "ipython",
    "version": 3
   },
   "file_extension": ".py",
   "mimetype": "text/x-python",
   "name": "python",
   "nbconvert_exporter": "python",
   "pygments_lexer": "ipython3",
   "version": "3.10.10"
  },
  "papermill": {
   "default_parameters": {},
   "duration": 44.650569,
   "end_time": "2023-05-08T01:05:33.073181",
   "environment_variables": {},
   "exception": null,
   "input_path": "__notebook__.ipynb",
   "output_path": "__notebook__.ipynb",
   "parameters": {},
   "start_time": "2023-05-08T01:04:48.422612",
   "version": "2.4.0"
  }
 },
 "nbformat": 4,
 "nbformat_minor": 5
}
