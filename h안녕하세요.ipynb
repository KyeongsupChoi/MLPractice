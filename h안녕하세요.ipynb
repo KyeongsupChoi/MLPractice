{
 "cells": [
  {
   "cell_type": "markdown",
   "id": "e74c9933",
   "metadata": {
    "_cell_guid": "b1076dfc-b9ad-4769-8c92-a6c4dae69d19",
    "_uuid": "8f2839f25d086af736a60e9eeb907d3b93b6e0e5",
    "papermill": {
     "duration": 0.002639,
     "end_time": "2023-04-17T00:31:41.158102",
     "exception": false,
     "start_time": "2023-04-17T00:31:41.155463",
     "status": "completed"
    },
    "tags": []
   },
   "source": [
    "<a id=\"introduction\"></a>\n",
    "\n",
    "* [프로젝트 소개](#introduction)\n",
    "* [1 단계: Exploratory Data Analysis](#step-one)\n",
    "* [2 단계: Model Training](#step-two)\n",
    "* [3 단계: Model Validation](#step-three)"
   ]
  },
  {
   "cell_type": "code",
   "execution_count": null,
   "id": "770628dd",
   "metadata": {
    "papermill": {
     "duration": 0.001201,
     "end_time": "2023-04-17T00:31:41.161155",
     "exception": false,
     "start_time": "2023-04-17T00:31:41.159954",
     "status": "completed"
    },
    "tags": []
   },
   "outputs": [],
   "source": []
  }
 ],
 "metadata": {
  "kernelspec": {
   "display_name": "Python 3",
   "language": "python",
   "name": "python3"
  },
  "language_info": {
   "codemirror_mode": {
    "name": "ipython",
    "version": 3
   },
   "file_extension": ".py",
   "mimetype": "text/x-python",
   "name": "python",
   "nbconvert_exporter": "python",
   "pygments_lexer": "ipython3",
   "version": "3.7.12"
  },
  "papermill": {
   "default_parameters": {},
   "duration": 11.785994,
   "end_time": "2023-04-17T00:31:41.887658",
   "environment_variables": {},
   "exception": null,
   "input_path": "__notebook__.ipynb",
   "output_path": "__notebook__.ipynb",
   "parameters": {},
   "start_time": "2023-04-17T00:31:30.101664",
   "version": "2.4.0"
  }
 },
 "nbformat": 4,
 "nbformat_minor": 5
}
