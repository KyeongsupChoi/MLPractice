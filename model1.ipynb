{
 "cells": [
  {
   "cell_type": "markdown",
   "id": "f9e2ec90",
   "metadata": {
    "papermill": {
     "duration": 0.005399,
     "end_time": "2023-04-20T05:55:46.080616",
     "exception": false,
     "start_time": "2023-04-20T05:55:46.075217",
     "status": "completed"
    },
    "tags": []
   },
   "source": [
    "# 택시 시계열 이상 감지"
   ]
  },
  {
   "cell_type": "markdown",
   "id": "aaf5ef08",
   "metadata": {
    "papermill": {
     "duration": 0.003876,
     "end_time": "2023-04-20T05:55:46.088878",
     "exception": false,
     "start_time": "2023-04-20T05:55:46.085002",
     "status": "completed"
    },
    "tags": []
   },
   "source": [
    "* [Step 1: Exploratory Data Analysis](#step-one)\n",
    "* [Step 2: Model Training](#step-two)\n",
    "* [Step 3: Data Visualization](#step-three)"
   ]
  },
  {
   "cell_type": "markdown",
   "id": "2edbcceb",
   "metadata": {
    "papermill": {
     "duration": 0.003904,
     "end_time": "2023-04-20T05:55:46.096939",
     "exception": false,
     "start_time": "2023-04-20T05:55:46.093035",
     "status": "completed"
    },
    "tags": []
   },
   "source": [
    "<a id=\"step-one\"></a>\n",
    "# Step 1: Load Libraries (Sklearn, Pandas, Matplotlib)"
   ]
  },
  {
   "cell_type": "code",
   "execution_count": 1,
   "id": "9ae74378",
   "metadata": {
    "_cell_guid": "b1076dfc-b9ad-4769-8c92-a6c4dae69d19",
    "_kg_hide-input": true,
    "_uuid": "8f2839f25d086af736a60e9eeb907d3b93b6e0e5",
    "execution": {
     "iopub.execute_input": "2023-04-20T05:55:46.107864Z",
     "iopub.status.busy": "2023-04-20T05:55:46.107000Z",
     "iopub.status.idle": "2023-04-20T05:55:47.813777Z",
     "shell.execute_reply": "2023-04-20T05:55:47.812395Z"
    },
    "papermill": {
     "duration": 1.715841,
     "end_time": "2023-04-20T05:55:47.816946",
     "exception": false,
     "start_time": "2023-04-20T05:55:46.101105",
     "status": "completed"
    },
    "tags": []
   },
   "outputs": [],
   "source": [
    "from sklearn.ensemble import IsolationForest\n",
    "from sklearn.tree import DecisionTreeRegressor\n",
    "from sklearn.model_selection import train_test_split\n",
    "from sklearn.metrics import r2_score\n",
    "import pandas as pd\n",
    "import matplotlib.pyplot as plt"
   ]
  },
  {
   "cell_type": "markdown",
   "id": "3d84b7a3",
   "metadata": {
    "papermill": {
     "duration": 0.003949,
     "end_time": "2023-04-20T05:55:47.825433",
     "exception": false,
     "start_time": "2023-04-20T05:55:47.821484",
     "status": "completed"
    },
    "tags": []
   },
   "source": [
    "<a id=\"step-one\"></a>\n",
    "# Step 1: Exploratory Data Analysis"
   ]
  },
  {
   "cell_type": "code",
   "execution_count": null,
   "id": "c18143c1",
   "metadata": {
    "papermill": {
     "duration": 0.003981,
     "end_time": "2023-04-20T05:55:47.834136",
     "exception": false,
     "start_time": "2023-04-20T05:55:47.830155",
     "status": "completed"
    },
    "tags": []
   },
   "outputs": [],
   "source": []
  },
  {
   "cell_type": "code",
   "execution_count": 2,
   "id": "3eac707c",
   "metadata": {
    "execution": {
     "iopub.execute_input": "2023-04-20T05:55:47.845230Z",
     "iopub.status.busy": "2023-04-20T05:55:47.844335Z",
     "iopub.status.idle": "2023-04-20T05:55:47.916652Z",
     "shell.execute_reply": "2023-04-20T05:55:47.915531Z"
    },
    "papermill": {
     "duration": 0.081088,
     "end_time": "2023-04-20T05:55:47.919475",
     "exception": false,
     "start_time": "2023-04-20T05:55:47.838387",
     "status": "completed"
    },
    "tags": []
   },
   "outputs": [
    {
     "data": {
      "text/html": [
       "<div>\n",
       "<style scoped>\n",
       "    .dataframe tbody tr th:only-of-type {\n",
       "        vertical-align: middle;\n",
       "    }\n",
       "\n",
       "    .dataframe tbody tr th {\n",
       "        vertical-align: top;\n",
       "    }\n",
       "\n",
       "    .dataframe thead th {\n",
       "        text-align: right;\n",
       "    }\n",
       "</style>\n",
       "<table border=\"1\" class=\"dataframe\">\n",
       "  <thead>\n",
       "    <tr style=\"text-align: right;\">\n",
       "      <th></th>\n",
       "      <th>timestamp</th>\n",
       "      <th>value</th>\n",
       "    </tr>\n",
       "  </thead>\n",
       "  <tbody>\n",
       "    <tr>\n",
       "      <th>0</th>\n",
       "      <td>2014-07-01 00:00:00</td>\n",
       "      <td>10844</td>\n",
       "    </tr>\n",
       "    <tr>\n",
       "      <th>1</th>\n",
       "      <td>2014-07-01 00:30:00</td>\n",
       "      <td>8127</td>\n",
       "    </tr>\n",
       "    <tr>\n",
       "      <th>2</th>\n",
       "      <td>2014-07-01 01:00:00</td>\n",
       "      <td>6210</td>\n",
       "    </tr>\n",
       "    <tr>\n",
       "      <th>3</th>\n",
       "      <td>2014-07-01 01:30:00</td>\n",
       "      <td>4656</td>\n",
       "    </tr>\n",
       "    <tr>\n",
       "      <th>4</th>\n",
       "      <td>2014-07-01 02:00:00</td>\n",
       "      <td>3820</td>\n",
       "    </tr>\n",
       "  </tbody>\n",
       "</table>\n",
       "</div>"
      ],
      "text/plain": [
       "            timestamp  value\n",
       "0 2014-07-01 00:00:00  10844\n",
       "1 2014-07-01 00:30:00   8127\n",
       "2 2014-07-01 01:00:00   6210\n",
       "3 2014-07-01 01:30:00   4656\n",
       "4 2014-07-01 02:00:00   3820"
      ]
     },
     "execution_count": 2,
     "metadata": {},
     "output_type": "execute_result"
    }
   ],
   "source": [
    "# Loads dataframe from csv file\n",
    "# csv 파일에서 데이터프레임을 로드합니다.\n",
    "datum = pd.read_csv(\"/kaggle/input/nyc-taxi-traffic/dataset.csv\",\n",
    "                parse_dates=['timestamp'],\n",
    "                index_col=0)\n",
    "\n",
    "datum.head()"
   ]
  },
  {
   "cell_type": "code",
   "execution_count": 3,
   "id": "920251b1",
   "metadata": {
    "execution": {
     "iopub.execute_input": "2023-04-20T05:55:47.931039Z",
     "iopub.status.busy": "2023-04-20T05:55:47.929920Z",
     "iopub.status.idle": "2023-04-20T05:55:47.952875Z",
     "shell.execute_reply": "2023-04-20T05:55:47.949590Z"
    },
    "papermill": {
     "duration": 0.032361,
     "end_time": "2023-04-20T05:55:47.956414",
     "exception": false,
     "start_time": "2023-04-20T05:55:47.924053",
     "status": "completed"
    },
    "tags": []
   },
   "outputs": [
    {
     "name": "stdout",
     "output_type": "stream",
     "text": [
      "<class 'pandas.core.frame.DataFrame'>\n",
      "Int64Index: 10320 entries, 0 to 10319\n",
      "Data columns (total 2 columns):\n",
      " #   Column     Non-Null Count  Dtype         \n",
      "---  ------     --------------  -----         \n",
      " 0   timestamp  10320 non-null  datetime64[ns]\n",
      " 1   value      10320 non-null  int64         \n",
      "dtypes: datetime64[ns](1), int64(1)\n",
      "memory usage: 241.9 KB\n"
     ]
    }
   ],
   "source": [
    "datum.info()"
   ]
  },
  {
   "cell_type": "code",
   "execution_count": 4,
   "id": "64982efb",
   "metadata": {
    "execution": {
     "iopub.execute_input": "2023-04-20T05:55:47.968531Z",
     "iopub.status.busy": "2023-04-20T05:55:47.967579Z",
     "iopub.status.idle": "2023-04-20T05:55:47.988294Z",
     "shell.execute_reply": "2023-04-20T05:55:47.986565Z"
    },
    "papermill": {
     "duration": 0.029706,
     "end_time": "2023-04-20T05:55:47.991193",
     "exception": false,
     "start_time": "2023-04-20T05:55:47.961487",
     "status": "completed"
    },
    "tags": []
   },
   "outputs": [
    {
     "data": {
      "text/html": [
       "<div>\n",
       "<style scoped>\n",
       "    .dataframe tbody tr th:only-of-type {\n",
       "        vertical-align: middle;\n",
       "    }\n",
       "\n",
       "    .dataframe tbody tr th {\n",
       "        vertical-align: top;\n",
       "    }\n",
       "\n",
       "    .dataframe thead th {\n",
       "        text-align: right;\n",
       "    }\n",
       "</style>\n",
       "<table border=\"1\" class=\"dataframe\">\n",
       "  <thead>\n",
       "    <tr style=\"text-align: right;\">\n",
       "      <th></th>\n",
       "      <th>value</th>\n",
       "    </tr>\n",
       "  </thead>\n",
       "  <tbody>\n",
       "    <tr>\n",
       "      <th>count</th>\n",
       "      <td>10320.000000</td>\n",
       "    </tr>\n",
       "    <tr>\n",
       "      <th>mean</th>\n",
       "      <td>15137.569380</td>\n",
       "    </tr>\n",
       "    <tr>\n",
       "      <th>std</th>\n",
       "      <td>6939.495808</td>\n",
       "    </tr>\n",
       "    <tr>\n",
       "      <th>min</th>\n",
       "      <td>8.000000</td>\n",
       "    </tr>\n",
       "    <tr>\n",
       "      <th>25%</th>\n",
       "      <td>10262.000000</td>\n",
       "    </tr>\n",
       "    <tr>\n",
       "      <th>50%</th>\n",
       "      <td>16778.000000</td>\n",
       "    </tr>\n",
       "    <tr>\n",
       "      <th>75%</th>\n",
       "      <td>19838.750000</td>\n",
       "    </tr>\n",
       "    <tr>\n",
       "      <th>max</th>\n",
       "      <td>39197.000000</td>\n",
       "    </tr>\n",
       "  </tbody>\n",
       "</table>\n",
       "</div>"
      ],
      "text/plain": [
       "              value\n",
       "count  10320.000000\n",
       "mean   15137.569380\n",
       "std     6939.495808\n",
       "min        8.000000\n",
       "25%    10262.000000\n",
       "50%    16778.000000\n",
       "75%    19838.750000\n",
       "max    39197.000000"
      ]
     },
     "execution_count": 4,
     "metadata": {},
     "output_type": "execute_result"
    }
   ],
   "source": [
    "datum.describe()"
   ]
  },
  {
   "cell_type": "markdown",
   "id": "3614678b",
   "metadata": {
    "papermill": {
     "duration": 0.00434,
     "end_time": "2023-04-20T05:55:48.000396",
     "exception": false,
     "start_time": "2023-04-20T05:55:47.996056",
     "status": "completed"
    },
    "tags": []
   },
   "source": [
    "Step 2 Conclusions\n",
    "- Dataset of two columns and 10,320 rows.\n",
    "- The first column 'timestamp' begins at \"2014-07-01 00:00:00\" and each row increments at a rate of 30 minutes, the Series is parsed as a Pandas datestamp object.\n",
    "- The second column 'value' is the current number of active taxis in NYC at the timestamp, with a mean of 15138 and standard deviation of 6939, values are saved as int datatype."
   ]
  },
  {
   "cell_type": "markdown",
   "id": "0a000833",
   "metadata": {
    "papermill": {
     "duration": 0.004278,
     "end_time": "2023-04-20T05:55:48.009340",
     "exception": false,
     "start_time": "2023-04-20T05:55:48.005062",
     "status": "completed"
    },
    "tags": []
   },
   "source": [
    "<a id=\"step-two\"></a>\n",
    "# Step 2: Model Training"
   ]
  },
  {
   "cell_type": "code",
   "execution_count": 5,
   "id": "a321c6b7",
   "metadata": {
    "execution": {
     "iopub.execute_input": "2023-04-20T05:55:48.020749Z",
     "iopub.status.busy": "2023-04-20T05:55:48.020338Z",
     "iopub.status.idle": "2023-04-20T05:55:48.840603Z",
     "shell.execute_reply": "2023-04-20T05:55:48.839492Z"
    },
    "papermill": {
     "duration": 0.82939,
     "end_time": "2023-04-20T05:55:48.843306",
     "exception": false,
     "start_time": "2023-04-20T05:55:48.013916",
     "status": "completed"
    },
    "tags": []
   },
   "outputs": [
    {
     "name": "stderr",
     "output_type": "stream",
     "text": [
      "/opt/conda/lib/python3.7/site-packages/sklearn/base.py:451: UserWarning: X does not have valid feature names, but IsolationForest was fitted with feature names\n",
      "  \"X does not have valid feature names, but\"\n"
     ]
    }
   ],
   "source": [
    "# Initialize Classifier object\n",
    "# 분류자 객체 초기화\n",
    "isoforest = IsolationForest(contamination=float(0.01))\n",
    "\n",
    "# Train Classifier object on Trained Data\n",
    "# 훈련된 데이터에 대한 분류자 객체 훈련\n",
    "isoforest.fit(pd.DataFrame(datum['value']))\n",
    "\n",
    "# Predict the response for test dataset\n",
    "# 테스트 데이터 세트에 대한 응답 예측\n",
    "predictions = isoforest.predict(pd.DataFrame(datum['value']))\n",
    "\n",
    "# Concatenates the predictions to the initial dataframe\n",
    "# 예측을 초기 데이터프레임에 연결합니다.\n",
    "datums = pd.concat([datum.reset_index(drop=True), pd.DataFrame(predictions)], axis=1)\n",
    "\n"
   ]
  },
  {
   "cell_type": "markdown",
   "id": "3454592b",
   "metadata": {
    "papermill": {
     "duration": 0.004349,
     "end_time": "2023-04-20T05:55:48.852543",
     "exception": false,
     "start_time": "2023-04-20T05:55:48.848194",
     "status": "completed"
    },
    "tags": []
   },
   "source": [
    "<a id=\"step-three\"></a>\n",
    "# Step 3: Data Visualization"
   ]
  },
  {
   "cell_type": "code",
   "execution_count": 6,
   "id": "a351df15",
   "metadata": {
    "execution": {
     "iopub.execute_input": "2023-04-20T05:55:48.864019Z",
     "iopub.status.busy": "2023-04-20T05:55:48.863561Z",
     "iopub.status.idle": "2023-04-20T05:55:49.231374Z",
     "shell.execute_reply": "2023-04-20T05:55:49.229289Z"
    },
    "papermill": {
     "duration": 0.377441,
     "end_time": "2023-04-20T05:55:49.234820",
     "exception": false,
     "start_time": "2023-04-20T05:55:48.857379",
     "status": "completed"
    },
    "tags": []
   },
   "outputs": [
    {
     "data": {
      "image/png": "[encoded data removed]",
      "text/plain": [
       "<Figure size 640x480 with 1 Axes>"
      ]
     },
     "metadata": {},
     "output_type": "display_data"
    }
   ],
   "source": [
    "fig, ax = plt.subplots()\n",
    "\n",
    "# Isolate anomaly times\n",
    "# 이상 시간 격리\n",
    "a = datums.loc[datums[0] == -1, ['timestamp', 'value']]\n",
    "\n",
    "# Plot the initial data\n",
    "# 초기 데이터를 그래프\n",
    "ax.plot(datum['timestamp'], datum['value'], color='blue')\n",
    "\n",
    "# Scatterplot the anomalies\n",
    "# 이상 현상을 산점도 그래프\n",
    "ax.scatter(a['timestamp'], a['value'], color='red')\n",
    "\n",
    "plt.xticks(rotation=90)\n",
    "\n",
    "plt.show()"
   ]
  },
  {
   "cell_type": "code",
   "execution_count": 7,
   "id": "7f76629e",
   "metadata": {
    "execution": {
     "iopub.execute_input": "2023-04-20T05:55:49.249915Z",
     "iopub.status.busy": "2023-04-20T05:55:49.249468Z",
     "iopub.status.idle": "2023-04-20T05:55:49.272248Z",
     "shell.execute_reply": "2023-04-20T05:55:49.270362Z"
    },
    "papermill": {
     "duration": 0.033265,
     "end_time": "2023-04-20T05:55:49.275272",
     "exception": false,
     "start_time": "2023-04-20T05:55:49.242007",
     "status": "completed"
    },
    "tags": []
   },
   "outputs": [
    {
     "data": {
      "text/html": [
       "<div>\n",
       "<style scoped>\n",
       "    .dataframe tbody tr th:only-of-type {\n",
       "        vertical-align: middle;\n",
       "    }\n",
       "\n",
       "    .dataframe tbody tr th {\n",
       "        vertical-align: top;\n",
       "    }\n",
       "\n",
       "    .dataframe thead th {\n",
       "        text-align: right;\n",
       "    }\n",
       "</style>\n",
       "<table border=\"1\" class=\"dataframe\">\n",
       "  <thead>\n",
       "    <tr style=\"text-align: right;\">\n",
       "      <th></th>\n",
       "      <th>timestamp</th>\n",
       "      <th>value</th>\n",
       "      <th>hour</th>\n",
       "      <th>weekday</th>\n",
       "    </tr>\n",
       "  </thead>\n",
       "  <tbody>\n",
       "    <tr>\n",
       "      <th>0</th>\n",
       "      <td>2014-07-01 00:00:00</td>\n",
       "      <td>10844</td>\n",
       "      <td>0</td>\n",
       "      <td>1</td>\n",
       "    </tr>\n",
       "    <tr>\n",
       "      <th>1</th>\n",
       "      <td>2014-07-01 00:30:00</td>\n",
       "      <td>8127</td>\n",
       "      <td>0</td>\n",
       "      <td>1</td>\n",
       "    </tr>\n",
       "    <tr>\n",
       "      <th>2</th>\n",
       "      <td>2014-07-01 01:00:00</td>\n",
       "      <td>6210</td>\n",
       "      <td>1</td>\n",
       "      <td>1</td>\n",
       "    </tr>\n",
       "    <tr>\n",
       "      <th>3</th>\n",
       "      <td>2014-07-01 01:30:00</td>\n",
       "      <td>4656</td>\n",
       "      <td>1</td>\n",
       "      <td>1</td>\n",
       "    </tr>\n",
       "    <tr>\n",
       "      <th>4</th>\n",
       "      <td>2014-07-01 02:00:00</td>\n",
       "      <td>3820</td>\n",
       "      <td>2</td>\n",
       "      <td>1</td>\n",
       "    </tr>\n",
       "    <tr>\n",
       "      <th>...</th>\n",
       "      <td>...</td>\n",
       "      <td>...</td>\n",
       "      <td>...</td>\n",
       "      <td>...</td>\n",
       "    </tr>\n",
       "    <tr>\n",
       "      <th>10315</th>\n",
       "      <td>2015-01-31 21:30:00</td>\n",
       "      <td>24670</td>\n",
       "      <td>21</td>\n",
       "      <td>5</td>\n",
       "    </tr>\n",
       "    <tr>\n",
       "      <th>10316</th>\n",
       "      <td>2015-01-31 22:00:00</td>\n",
       "      <td>25721</td>\n",
       "      <td>22</td>\n",
       "      <td>5</td>\n",
       "    </tr>\n",
       "    <tr>\n",
       "      <th>10317</th>\n",
       "      <td>2015-01-31 22:30:00</td>\n",
       "      <td>27309</td>\n",
       "      <td>22</td>\n",
       "      <td>5</td>\n",
       "    </tr>\n",
       "    <tr>\n",
       "      <th>10318</th>\n",
       "      <td>2015-01-31 23:00:00</td>\n",
       "      <td>26591</td>\n",
       "      <td>23</td>\n",
       "      <td>5</td>\n",
       "    </tr>\n",
       "    <tr>\n",
       "      <th>10319</th>\n",
       "      <td>2015-01-31 23:30:00</td>\n",
       "      <td>26288</td>\n",
       "      <td>23</td>\n",
       "      <td>5</td>\n",
       "    </tr>\n",
       "  </tbody>\n",
       "</table>\n",
       "<p>10320 rows × 4 columns</p>\n",
       "</div>"
      ],
      "text/plain": [
       "                timestamp  value  hour  weekday\n",
       "0     2014-07-01 00:00:00  10844     0        1\n",
       "1     2014-07-01 00:30:00   8127     0        1\n",
       "2     2014-07-01 01:00:00   6210     1        1\n",
       "3     2014-07-01 01:30:00   4656     1        1\n",
       "4     2014-07-01 02:00:00   3820     2        1\n",
       "...                   ...    ...   ...      ...\n",
       "10315 2015-01-31 21:30:00  24670    21        5\n",
       "10316 2015-01-31 22:00:00  25721    22        5\n",
       "10317 2015-01-31 22:30:00  27309    22        5\n",
       "10318 2015-01-31 23:00:00  26591    23        5\n",
       "10319 2015-01-31 23:30:00  26288    23        5\n",
       "\n",
       "[10320 rows x 4 columns]"
      ]
     },
     "execution_count": 7,
     "metadata": {},
     "output_type": "execute_result"
    }
   ],
   "source": [
    "datum['hour'] = datum['timestamp'].dt.hour\n",
    "datum['weekday'] = datum['timestamp'].dt.weekday\n",
    "datum"
   ]
  },
  {
   "cell_type": "markdown",
   "id": "09d6c2c3",
   "metadata": {
    "papermill": {
     "duration": 0.005614,
     "end_time": "2023-04-20T05:55:49.287211",
     "exception": false,
     "start_time": "2023-04-20T05:55:49.281597",
     "status": "completed"
    },
    "tags": []
   },
   "source": [
    "Should analyze outliers"
   ]
  }
 ],
 "metadata": {
  "kernelspec": {
   "display_name": "Python 3",
   "language": "python",
   "name": "python3"
  },
  "language_info": {
   "codemirror_mode": {
    "name": "ipython",
    "version": 3
   },
   "file_extension": ".py",
   "mimetype": "text/x-python",
   "name": "python",
   "nbconvert_exporter": "python",
   "pygments_lexer": "ipython3",
   "version": "3.7.12"
  },
  "papermill": {
   "default_parameters": {},
   "duration": 19.091661,
   "end_time": "2023-04-20T05:55:52.442591",
   "environment_variables": {},
   "exception": null,
   "input_path": "__notebook__.ipynb",
   "output_path": "__notebook__.ipynb",
   "parameters": {},
   "start_time": "2023-04-20T05:55:33.350930",
   "version": "2.4.0"
  }
 },
 "nbformat": 4,
 "nbformat_minor": 5
}
