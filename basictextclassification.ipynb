{
 "cells": [
  {
   "cell_type": "code",
   "execution_count": 1,
   "id": "60eaf1af",
   "metadata": {
    "_cell_guid": "b1076dfc-b9ad-4769-8c92-a6c4dae69d19",
    "_kg_hide-input": true,
    "_uuid": "8f2839f25d086af736a60e9eeb907d3b93b6e0e5",
    "execution": {
     "iopub.execute_input": "2023-04-28T00:44:59.841365Z",
     "iopub.status.busy": "2023-04-28T00:44:59.840807Z",
     "iopub.status.idle": "2023-04-28T00:45:09.366416Z",
     "shell.execute_reply": "2023-04-28T00:45:09.364591Z"
    },
    "papermill": {
     "duration": 9.541242,
     "end_time": "2023-04-28T00:45:09.370390",
     "exception": false,
     "start_time": "2023-04-28T00:44:59.829148",
     "status": "completed"
    },
    "tags": []
   },
   "outputs": [],
   "source": [
    "import matplotlib.pyplot as plt\n",
    "import os\n",
    "import re\n",
    "import shutil\n",
    "import string\n",
    "import tensorflow as tf\n",
    "\n",
    "from tensorflow.keras import layers\n",
    "from tensorflow.keras import losses"
   ]
  },
  {
   "cell_type": "code",
   "execution_count": 2,
   "id": "525738cd",
   "metadata": {
    "execution": {
     "iopub.execute_input": "2023-04-28T00:45:09.392957Z",
     "iopub.status.busy": "2023-04-28T00:45:09.391505Z",
     "iopub.status.idle": "2023-04-28T00:45:09.399314Z",
     "shell.execute_reply": "2023-04-28T00:45:09.397965Z"
    },
    "papermill": {
     "duration": 0.022316,
     "end_time": "2023-04-28T00:45:09.402494",
     "exception": false,
     "start_time": "2023-04-28T00:45:09.380178",
     "status": "completed"
    },
    "tags": []
   },
   "outputs": [
    {
     "name": "stdout",
     "output_type": "stream",
     "text": [
      "2.11.0\n"
     ]
    }
   ],
   "source": [
    "print(tf.__version__)"
   ]
  },
  {
   "cell_type": "markdown",
   "id": "fa875dd6",
   "metadata": {
    "papermill": {
     "duration": 0.0089,
     "end_time": "2023-04-28T00:45:09.420909",
     "exception": false,
     "start_time": "2023-04-28T00:45:09.412009",
     "status": "completed"
    },
    "tags": []
   },
   "source": [
    "Loading sentiment dataset from stanford site"
   ]
  },
  {
   "cell_type": "code",
   "execution_count": 3,
   "id": "295afec1",
   "metadata": {
    "execution": {
     "iopub.execute_input": "2023-04-28T00:45:09.442113Z",
     "iopub.status.busy": "2023-04-28T00:45:09.441649Z",
     "iopub.status.idle": "2023-04-28T00:45:48.557332Z",
     "shell.execute_reply": "2023-04-28T00:45:48.555978Z"
    },
    "papermill": {
     "duration": 39.12934,
     "end_time": "2023-04-28T00:45:48.560267",
     "exception": false,
     "start_time": "2023-04-28T00:45:09.430927",
     "status": "completed"
    },
    "tags": []
   },
   "outputs": [
    {
     "name": "stdout",
     "output_type": "stream",
     "text": [
      "Downloading data from https://ai.stanford.edu/~amaas/data/sentiment/aclImdb_v1.tar.gz\n",
      "84125825/84125825 [==============================] - 10s 0us/step\n"
     ]
    }
   ],
   "source": [
    "url = \"https://ai.stanford.edu/~amaas/data/sentiment/aclImdb_v1.tar.gz\"\n",
    "\n",
    "dataset = tf.keras.utils.get_file(\"aclImdb_v1\", url,\n",
    "                                    untar=True, cache_dir='.',\n",
    "                                    cache_subdir='')\n",
    "\n",
    "dataset_dir = os.path.join(os.path.dirname(dataset), 'aclImdb')"
   ]
  },
  {
   "cell_type": "code",
   "execution_count": 4,
   "id": "0fea5dcb",
   "metadata": {
    "execution": {
     "iopub.execute_input": "2023-04-28T00:45:48.590764Z",
     "iopub.status.busy": "2023-04-28T00:45:48.590345Z",
     "iopub.status.idle": "2023-04-28T00:45:48.600627Z",
     "shell.execute_reply": "2023-04-28T00:45:48.599190Z"
    },
    "papermill": {
     "duration": 0.028438,
     "end_time": "2023-04-28T00:45:48.603629",
     "exception": false,
     "start_time": "2023-04-28T00:45:48.575191",
     "status": "completed"
    },
    "tags": []
   },
   "outputs": [
    {
     "data": {
      "text/plain": [
       "['imdb.vocab', 'test', 'README', 'train', 'imdbEr.txt']"
      ]
     },
     "execution_count": 4,
     "metadata": {},
     "output_type": "execute_result"
    }
   ],
   "source": [
    "os.listdir(dataset_dir)"
   ]
  },
  {
   "cell_type": "code",
   "execution_count": 5,
   "id": "60e81b2b",
   "metadata": {
    "execution": {
     "iopub.execute_input": "2023-04-28T00:45:48.636518Z",
     "iopub.status.busy": "2023-04-28T00:45:48.636084Z",
     "iopub.status.idle": "2023-04-28T00:45:48.644958Z",
     "shell.execute_reply": "2023-04-28T00:45:48.643533Z"
    },
    "papermill": {
     "duration": 0.028691,
     "end_time": "2023-04-28T00:45:48.647680",
     "exception": false,
     "start_time": "2023-04-28T00:45:48.618989",
     "status": "completed"
    },
    "tags": []
   },
   "outputs": [
    {
     "data": {
      "text/plain": [
       "['labeledBow.feat',\n",
       " 'unsup',\n",
       " 'neg',\n",
       " 'urls_unsup.txt',\n",
       " 'urls_pos.txt',\n",
       " 'pos',\n",
       " 'unsupBow.feat',\n",
       " 'urls_neg.txt']"
      ]
     },
     "execution_count": 5,
     "metadata": {},
     "output_type": "execute_result"
    }
   ],
   "source": [
    "train_dir = os.path.join(dataset_dir, 'train')\n",
    "os.listdir(train_dir)"
   ]
  },
  {
   "cell_type": "code",
   "execution_count": 6,
   "id": "487fba44",
   "metadata": {
    "execution": {
     "iopub.execute_input": "2023-04-28T00:45:48.678463Z",
     "iopub.status.busy": "2023-04-28T00:45:48.678018Z",
     "iopub.status.idle": "2023-04-28T00:45:48.686393Z",
     "shell.execute_reply": "2023-04-28T00:45:48.684713Z"
    },
    "papermill": {
     "duration": 0.027552,
     "end_time": "2023-04-28T00:45:48.688804",
     "exception": false,
     "start_time": "2023-04-28T00:45:48.661252",
     "status": "completed"
    },
    "tags": []
   },
   "outputs": [
    {
     "name": "stdout",
     "output_type": "stream",
     "text": [
      "Rachel Griffiths writes and directs this award winning short film. A heartwarming story about coping with grief and cherishing the memory of those we've loved and lost. Although, only 15 minutes long, Griffiths manages to capture so much emotion and truth onto film in the short space of time. Bud Tingwell gives a touching performance as Will, a widower struggling to cope with his wife's death. Will is confronted by the harsh reality of loneliness and helplessness as he proceeds to take care of Ruth's pet cow, Tulip. The film displays the grief and responsibility one feels for those they have loved and lost. Good cinematography, great direction, and superbly acted. It will bring tears to all those who have lost a loved one, and survived.\n"
     ]
    }
   ],
   "source": [
    "sample_file = os.path.join(train_dir, 'pos/1181_9.txt')\n",
    "with open(sample_file) as f:\n",
    "  print(f.read())"
   ]
  },
  {
   "cell_type": "code",
   "execution_count": 7,
   "id": "653c23cc",
   "metadata": {
    "execution": {
     "iopub.execute_input": "2023-04-28T00:45:48.720968Z",
     "iopub.status.busy": "2023-04-28T00:45:48.720512Z",
     "iopub.status.idle": "2023-04-28T00:45:50.012571Z",
     "shell.execute_reply": "2023-04-28T00:45:50.011561Z"
    },
    "papermill": {
     "duration": 1.311121,
     "end_time": "2023-04-28T00:45:50.015294",
     "exception": false,
     "start_time": "2023-04-28T00:45:48.704173",
     "status": "completed"
    },
    "tags": []
   },
   "outputs": [],
   "source": [
    "remove_dir = os.path.join(train_dir, 'unsup')\n",
    "shutil.rmtree(remove_dir)"
   ]
  },
  {
   "cell_type": "code",
   "execution_count": 8,
   "id": "afe153b8",
   "metadata": {
    "execution": {
     "iopub.execute_input": "2023-04-28T00:45:50.044821Z",
     "iopub.status.busy": "2023-04-28T00:45:50.044364Z",
     "iopub.status.idle": "2023-04-28T00:45:52.131908Z",
     "shell.execute_reply": "2023-04-28T00:45:52.130166Z"
    },
    "papermill": {
     "duration": 2.106666,
     "end_time": "2023-04-28T00:45:52.135634",
     "exception": false,
     "start_time": "2023-04-28T00:45:50.028968",
     "status": "completed"
    },
    "tags": []
   },
   "outputs": [
    {
     "name": "stdout",
     "output_type": "stream",
     "text": [
      "Found 25000 files belonging to 2 classes.\n",
      "Using 20000 files for training.\n"
     ]
    }
   ],
   "source": [
    "batch_size = 32\n",
    "seed = 42\n",
    "\n",
    "raw_train_ds = tf.keras.utils.text_dataset_from_directory(\n",
    "    'aclImdb/train', \n",
    "    batch_size=batch_size, \n",
    "    validation_split=0.2, \n",
    "    subset='training', \n",
    "    seed=seed)"
   ]
  },
  {
   "cell_type": "code",
   "execution_count": 9,
   "id": "8b395d26",
   "metadata": {
    "execution": {
     "iopub.execute_input": "2023-04-28T00:45:52.165657Z",
     "iopub.status.busy": "2023-04-28T00:45:52.164179Z",
     "iopub.status.idle": "2023-04-28T00:45:52.335574Z",
     "shell.execute_reply": "2023-04-28T00:45:52.333486Z"
    },
    "papermill": {
     "duration": 0.189578,
     "end_time": "2023-04-28T00:45:52.338736",
     "exception": false,
     "start_time": "2023-04-28T00:45:52.149158",
     "status": "completed"
    },
    "tags": []
   },
   "outputs": [
    {
     "name": "stdout",
     "output_type": "stream",
     "text": [
      "Review b'\"Pandemonium\" is a horror movie spoof that comes off more stupid than funny. Believe me when I tell you, I love comedies. Especially comedy spoofs. \"Airplane\", \"The Naked Gun\" trilogy, \"Blazing Saddles\", \"High Anxiety\", and \"Spaceballs\" are some of my favorite comedies that spoof a particular genre. \"Pandemonium\" is not up there with those films. Most of the scenes in this movie had me sitting there in stunned silence because the movie wasn\\'t all that funny. There are a few laughs in the film, but when you watch a comedy, you expect to laugh a lot more than a few times and that\\'s all this film has going for it. Geez, \"Scream\" had more laughs than this film and that was more of a horror film. How bizarre is that?<br /><br />*1/2 (out of four)'\n",
      "Label 0\n",
      "Review b\"David Mamet is a very interesting and a very un-equal director. His first movie 'House of Games' was the one I liked best, and it set a series of films with characters whose perspective of life changes as they get into complicated situations, and so does the perspective of the viewer.<br /><br />So is 'Homicide' which from the title tries to set the mind of the viewer to the usual crime drama. The principal characters are two cops, one Jewish and one Irish who deal with a racially charged area. The murder of an old Jewish shop owner who proves to be an ancient veteran of the Israeli Independence war triggers the Jewish identity in the mind and heart of the Jewish detective.<br /><br />This is were the flaws of the film are the more obvious. The process of awakening is theatrical and hard to believe, the group of Jewish militants is operatic, and the way the detective eventually walks to the final violent confrontation is pathetic. The end of the film itself is Mamet-like smart, but disappoints from a human emotional perspective.<br /><br />Joe Mantegna and William Macy give strong performances, but the flaws of the story are too evident to be easily compensated.\"\n",
      "Label 0\n",
      "Review b'Great documentary about the lives of NY firefighters during the worst terrorist attack of all time.. That reason alone is why this should be a must see collectors item.. What shocked me was not only the attacks, but the\"High Fat Diet\" and physical appearance of some of these firefighters. I think a lot of Doctors would agree with me that,in the physical shape they were in, some of these firefighters would NOT of made it to the 79th floor carrying over 60 lbs of gear. Having said that i now have a greater respect for firefighters and i realize becoming a firefighter is a life altering job. The French have a history of making great documentary\\'s and that is what this is, a Great Documentary.....'\n",
      "Label 1\n"
     ]
    }
   ],
   "source": [
    "for text_batch, label_batch in raw_train_ds.take(1):\n",
    "  for i in range(3):\n",
    "    print(\"Review\", text_batch.numpy()[i])\n",
    "    print(\"Label\", label_batch.numpy()[i])"
   ]
  },
  {
   "cell_type": "code",
   "execution_count": 10,
   "id": "6b38e490",
   "metadata": {
    "execution": {
     "iopub.execute_input": "2023-04-28T00:45:52.369892Z",
     "iopub.status.busy": "2023-04-28T00:45:52.369001Z",
     "iopub.status.idle": "2023-04-28T00:45:52.377068Z",
     "shell.execute_reply": "2023-04-28T00:45:52.375481Z"
    },
    "papermill": {
     "duration": 0.026034,
     "end_time": "2023-04-28T00:45:52.379715",
     "exception": false,
     "start_time": "2023-04-28T00:45:52.353681",
     "status": "completed"
    },
    "tags": []
   },
   "outputs": [
    {
     "name": "stdout",
     "output_type": "stream",
     "text": [
      "Label 0 corresponds to neg\n",
      "Label 1 corresponds to pos\n"
     ]
    }
   ],
   "source": [
    "print(\"Label 0 corresponds to\", raw_train_ds.class_names[0])\n",
    "print(\"Label 1 corresponds to\", raw_train_ds.class_names[1])"
   ]
  },
  {
   "cell_type": "code",
   "execution_count": 11,
   "id": "9f076f51",
   "metadata": {
    "execution": {
     "iopub.execute_input": "2023-04-28T00:45:52.408888Z",
     "iopub.status.busy": "2023-04-28T00:45:52.408275Z",
     "iopub.status.idle": "2023-04-28T00:45:54.381704Z",
     "shell.execute_reply": "2023-04-28T00:45:54.380237Z"
    },
    "papermill": {
     "duration": 1.991443,
     "end_time": "2023-04-28T00:45:54.384980",
     "exception": false,
     "start_time": "2023-04-28T00:45:52.393537",
     "status": "completed"
    },
    "tags": []
   },
   "outputs": [
    {
     "name": "stdout",
     "output_type": "stream",
     "text": [
      "Found 25000 files belonging to 2 classes.\n",
      "Using 5000 files for validation.\n"
     ]
    }
   ],
   "source": [
    "raw_val_ds = tf.keras.utils.text_dataset_from_directory(\n",
    "    'aclImdb/train', \n",
    "    batch_size=batch_size, \n",
    "    validation_split=0.2, \n",
    "    subset='validation', \n",
    "    seed=seed)"
   ]
  },
  {
   "cell_type": "code",
   "execution_count": 12,
   "id": "dac0d356",
   "metadata": {
    "execution": {
     "iopub.execute_input": "2023-04-28T00:45:54.416503Z",
     "iopub.status.busy": "2023-04-28T00:45:54.415717Z",
     "iopub.status.idle": "2023-04-28T00:45:56.416447Z",
     "shell.execute_reply": "2023-04-28T00:45:56.414548Z"
    },
    "papermill": {
     "duration": 2.021197,
     "end_time": "2023-04-28T00:45:56.419647",
     "exception": false,
     "start_time": "2023-04-28T00:45:54.398450",
     "status": "completed"
    },
    "tags": []
   },
   "outputs": [
    {
     "name": "stdout",
     "output_type": "stream",
     "text": [
      "Found 25000 files belonging to 2 classes.\n"
     ]
    }
   ],
   "source": [
    "raw_test_ds = tf.keras.utils.text_dataset_from_directory(\n",
    "    'aclImdb/test', \n",
    "    batch_size=batch_size)"
   ]
  },
  {
   "cell_type": "markdown",
   "id": "eb599d39",
   "metadata": {
    "papermill": {
     "duration": 0.014509,
     "end_time": "2023-04-28T00:45:56.448317",
     "exception": false,
     "start_time": "2023-04-28T00:45:56.433808",
     "status": "completed"
    },
    "tags": []
   },
   "source": [
    "Cleaning data and removing line break tags"
   ]
  },
  {
   "cell_type": "code",
   "execution_count": 13,
   "id": "33776fd5",
   "metadata": {
    "execution": {
     "iopub.execute_input": "2023-04-28T00:45:56.479782Z",
     "iopub.status.busy": "2023-04-28T00:45:56.479194Z",
     "iopub.status.idle": "2023-04-28T00:45:56.486181Z",
     "shell.execute_reply": "2023-04-28T00:45:56.484702Z"
    },
    "papermill": {
     "duration": 0.026423,
     "end_time": "2023-04-28T00:45:56.488685",
     "exception": false,
     "start_time": "2023-04-28T00:45:56.462262",
     "status": "completed"
    },
    "tags": []
   },
   "outputs": [],
   "source": [
    "def custom_standardization(input_data):\n",
    "  lowercase = tf.strings.lower(input_data)\n",
    "  stripped_html = tf.strings.regex_replace(lowercase, '<br />', ' ')\n",
    "  return tf.strings.regex_replace(stripped_html,\n",
    "                                  '[%s]' % re.escape(string.punctuation),\n",
    "                                  '')"
   ]
  },
  {
   "cell_type": "code",
   "execution_count": 14,
   "id": "5f6a4266",
   "metadata": {
    "execution": {
     "iopub.execute_input": "2023-04-28T00:45:56.518695Z",
     "iopub.status.busy": "2023-04-28T00:45:56.517448Z",
     "iopub.status.idle": "2023-04-28T00:45:56.544365Z",
     "shell.execute_reply": "2023-04-28T00:45:56.542964Z"
    },
    "papermill": {
     "duration": 0.044506,
     "end_time": "2023-04-28T00:45:56.547230",
     "exception": false,
     "start_time": "2023-04-28T00:45:56.502724",
     "status": "completed"
    },
    "tags": []
   },
   "outputs": [],
   "source": [
    "max_features = 10000\n",
    "sequence_length = 250\n",
    "\n",
    "vectorize_layer = layers.TextVectorization(\n",
    "    standardize=custom_standardization,\n",
    "    max_tokens=max_features,\n",
    "    output_mode='int',\n",
    "    output_sequence_length=sequence_length)"
   ]
  },
  {
   "cell_type": "code",
   "execution_count": 15,
   "id": "5007163c",
   "metadata": {
    "execution": {
     "iopub.execute_input": "2023-04-28T00:45:56.576411Z",
     "iopub.status.busy": "2023-04-28T00:45:56.575973Z",
     "iopub.status.idle": "2023-04-28T00:46:01.871703Z",
     "shell.execute_reply": "2023-04-28T00:46:01.869990Z"
    },
    "papermill": {
     "duration": 5.314186,
     "end_time": "2023-04-28T00:46:01.874920",
     "exception": false,
     "start_time": "2023-04-28T00:45:56.560734",
     "status": "completed"
    },
    "tags": []
   },
   "outputs": [],
   "source": [
    "# Make a text-only dataset (without labels), then call adapt\n",
    "train_text = raw_train_ds.map(lambda x, y: x)\n",
    "vectorize_layer.adapt(train_text)"
   ]
  },
  {
   "cell_type": "code",
   "execution_count": 16,
   "id": "a976582a",
   "metadata": {
    "execution": {
     "iopub.execute_input": "2023-04-28T00:46:01.908290Z",
     "iopub.status.busy": "2023-04-28T00:46:01.907750Z",
     "iopub.status.idle": "2023-04-28T00:46:01.915337Z",
     "shell.execute_reply": "2023-04-28T00:46:01.913279Z"
    },
    "papermill": {
     "duration": 0.026623,
     "end_time": "2023-04-28T00:46:01.918251",
     "exception": false,
     "start_time": "2023-04-28T00:46:01.891628",
     "status": "completed"
    },
    "tags": []
   },
   "outputs": [],
   "source": [
    "def vectorize_text(text, label):\n",
    "  text = tf.expand_dims(text, -1)\n",
    "  return vectorize_layer(text), label"
   ]
  },
  {
   "cell_type": "code",
   "execution_count": 17,
   "id": "54b5dc3c",
   "metadata": {
    "execution": {
     "iopub.execute_input": "2023-04-28T00:46:01.951064Z",
     "iopub.status.busy": "2023-04-28T00:46:01.949977Z",
     "iopub.status.idle": "2023-04-28T00:46:02.097068Z",
     "shell.execute_reply": "2023-04-28T00:46:02.095515Z"
    },
    "papermill": {
     "duration": 0.167374,
     "end_time": "2023-04-28T00:46:02.100056",
     "exception": false,
     "start_time": "2023-04-28T00:46:01.932682",
     "status": "completed"
    },
    "tags": []
   },
   "outputs": [
    {
     "name": "stdout",
     "output_type": "stream",
     "text": [
      "Review tf.Tensor(b'Great movie - especially the music - Etta James - \"At Last\". This speaks volumes when you have finally found that special someone.', shape=(), dtype=string)\n",
      "Label neg\n",
      "Vectorized review (<tf.Tensor: shape=(1, 250), dtype=int64, numpy=\n",
      "array([[  86,   17,  260,    2,  222,    1,  571,   31,  229,   11, 2418,\n",
      "           1,   51,   22,   25,  404,  251,   12,  306,  282,    0,    0,\n",
      "           0,    0,    0,    0,    0,    0,    0,    0,    0,    0,    0,\n",
      "           0,    0,    0,    0,    0,    0,    0,    0,    0,    0,    0,\n",
      "           0,    0,    0,    0,    0,    0,    0,    0,    0,    0,    0,\n",
      "           0,    0,    0,    0,    0,    0,    0,    0,    0,    0,    0,\n",
      "           0,    0,    0,    0,    0,    0,    0,    0,    0,    0,    0,\n",
      "           0,    0,    0,    0,    0,    0,    0,    0,    0,    0,    0,\n",
      "           0,    0,    0,    0,    0,    0,    0,    0,    0,    0,    0,\n",
      "           0,    0,    0,    0,    0,    0,    0,    0,    0,    0,    0,\n",
      "           0,    0,    0,    0,    0,    0,    0,    0,    0,    0,    0,\n",
      "           0,    0,    0,    0,    0,    0,    0,    0,    0,    0,    0,\n",
      "           0,    0,    0,    0,    0,    0,    0,    0,    0,    0,    0,\n",
      "           0,    0,    0,    0,    0,    0,    0,    0,    0,    0,    0,\n",
      "           0,    0,    0,    0,    0,    0,    0,    0,    0,    0,    0,\n",
      "           0,    0,    0,    0,    0,    0,    0,    0,    0,    0,    0,\n",
      "           0,    0,    0,    0,    0,    0,    0,    0,    0,    0,    0,\n",
      "           0,    0,    0,    0,    0,    0,    0,    0,    0,    0,    0,\n",
      "           0,    0,    0,    0,    0,    0,    0,    0,    0,    0,    0,\n",
      "           0,    0,    0,    0,    0,    0,    0,    0,    0,    0,    0,\n",
      "           0,    0,    0,    0,    0,    0,    0,    0,    0,    0,    0,\n",
      "           0,    0,    0,    0,    0,    0,    0,    0,    0,    0,    0,\n",
      "           0,    0,    0,    0,    0,    0,    0,    0]])>, <tf.Tensor: shape=(), dtype=int32, numpy=0>)\n"
     ]
    }
   ],
   "source": [
    "# retrieve a batch (of 32 reviews and labels) from the dataset\n",
    "text_batch, label_batch = next(iter(raw_train_ds))\n",
    "first_review, first_label = text_batch[0], label_batch[0]\n",
    "print(\"Review\", first_review)\n",
    "print(\"Label\", raw_train_ds.class_names[first_label])\n",
    "print(\"Vectorized review\", vectorize_text(first_review, first_label))"
   ]
  },
  {
   "cell_type": "code",
   "execution_count": 18,
   "id": "d1669455",
   "metadata": {
    "execution": {
     "iopub.execute_input": "2023-04-28T00:46:02.134330Z",
     "iopub.status.busy": "2023-04-28T00:46:02.132925Z",
     "iopub.status.idle": "2023-04-28T00:46:02.235130Z",
     "shell.execute_reply": "2023-04-28T00:46:02.233577Z"
    },
    "papermill": {
     "duration": 0.12413,
     "end_time": "2023-04-28T00:46:02.238116",
     "exception": false,
     "start_time": "2023-04-28T00:46:02.113986",
     "status": "completed"
    },
    "tags": []
   },
   "outputs": [
    {
     "name": "stdout",
     "output_type": "stream",
     "text": [
      "1287 --->  silent\n",
      " 313 --->  night\n",
      "Vocabulary size: 10000\n"
     ]
    }
   ],
   "source": [
    "print(\"1287 ---> \",vectorize_layer.get_vocabulary()[1287])\n",
    "print(\" 313 ---> \",vectorize_layer.get_vocabulary()[313])\n",
    "print('Vocabulary size: {}'.format(len(vectorize_layer.get_vocabulary())))"
   ]
  },
  {
   "cell_type": "code",
   "execution_count": 19,
   "id": "3200b2ca",
   "metadata": {
    "execution": {
     "iopub.execute_input": "2023-04-28T00:46:02.271395Z",
     "iopub.status.busy": "2023-04-28T00:46:02.270946Z",
     "iopub.status.idle": "2023-04-28T00:46:02.500176Z",
     "shell.execute_reply": "2023-04-28T00:46:02.498046Z"
    },
    "papermill": {
     "duration": 0.250537,
     "end_time": "2023-04-28T00:46:02.503724",
     "exception": false,
     "start_time": "2023-04-28T00:46:02.253187",
     "status": "completed"
    },
    "tags": []
   },
   "outputs": [],
   "source": [
    "train_ds = raw_train_ds.map(vectorize_text)\n",
    "val_ds = raw_val_ds.map(vectorize_text)\n",
    "test_ds = raw_test_ds.map(vectorize_text)"
   ]
  },
  {
   "cell_type": "code",
   "execution_count": 20,
   "id": "30e42368",
   "metadata": {
    "execution": {
     "iopub.execute_input": "2023-04-28T00:46:02.536044Z",
     "iopub.status.busy": "2023-04-28T00:46:02.535567Z",
     "iopub.status.idle": "2023-04-28T00:46:02.549493Z",
     "shell.execute_reply": "2023-04-28T00:46:02.548060Z"
    },
    "papermill": {
     "duration": 0.033834,
     "end_time": "2023-04-28T00:46:02.552535",
     "exception": false,
     "start_time": "2023-04-28T00:46:02.518701",
     "status": "completed"
    },
    "tags": []
   },
   "outputs": [],
   "source": [
    "AUTOTUNE = tf.data.AUTOTUNE\n",
    "\n",
    "train_ds = train_ds.cache().prefetch(buffer_size=AUTOTUNE)\n",
    "val_ds = val_ds.cache().prefetch(buffer_size=AUTOTUNE)\n",
    "test_ds = test_ds.cache().prefetch(buffer_size=AUTOTUNE)"
   ]
  },
  {
   "cell_type": "code",
   "execution_count": 21,
   "id": "ea7aadc9",
   "metadata": {
    "execution": {
     "iopub.execute_input": "2023-04-28T00:46:02.585217Z",
     "iopub.status.busy": "2023-04-28T00:46:02.584744Z",
     "iopub.status.idle": "2023-04-28T00:46:02.591111Z",
     "shell.execute_reply": "2023-04-28T00:46:02.589588Z"
    },
    "papermill": {
     "duration": 0.026417,
     "end_time": "2023-04-28T00:46:02.594301",
     "exception": false,
     "start_time": "2023-04-28T00:46:02.567884",
     "status": "completed"
    },
    "tags": []
   },
   "outputs": [],
   "source": [
    "embedding_dim = 16"
   ]
  },
  {
   "cell_type": "code",
   "execution_count": 22,
   "id": "a4b6a1f2",
   "metadata": {
    "execution": {
     "iopub.execute_input": "2023-04-28T00:46:02.628988Z",
     "iopub.status.busy": "2023-04-28T00:46:02.628334Z",
     "iopub.status.idle": "2023-04-28T00:46:02.753247Z",
     "shell.execute_reply": "2023-04-28T00:46:02.751443Z"
    },
    "papermill": {
     "duration": 0.156316,
     "end_time": "2023-04-28T00:46:02.766447",
     "exception": false,
     "start_time": "2023-04-28T00:46:02.610131",
     "status": "completed"
    },
    "tags": []
   },
   "outputs": [
    {
     "name": "stdout",
     "output_type": "stream",
     "text": [
      "Model: \"sequential\"\n",
      "_________________________________________________________________\n",
      " Layer (type)                Output Shape              Param #   \n",
      "=================================================================\n",
      " embedding (Embedding)       (None, None, 16)          160016    \n",
      "                                                                 \n",
      " dropout (Dropout)           (None, None, 16)          0         \n",
      "                                                                 \n",
      " global_average_pooling1d (G  (None, 16)               0         \n",
      " lobalAveragePooling1D)                                          \n",
      "                                                                 \n",
      " dropout_1 (Dropout)         (None, 16)                0         \n",
      "                                                                 \n",
      " dense (Dense)               (None, 1)                 17        \n",
      "                                                                 \n",
      "=================================================================\n",
      "Total params: 160,033\n",
      "Trainable params: 160,033\n",
      "Non-trainable params: 0\n",
      "_________________________________________________________________\n"
     ]
    }
   ],
   "source": [
    "model = tf.keras.Sequential([\n",
    "  layers.Embedding(max_features + 1, embedding_dim),\n",
    "  layers.Dropout(0.2),\n",
    "  layers.GlobalAveragePooling1D(),\n",
    "  layers.Dropout(0.2),\n",
    "  layers.Dense(1)])\n",
    "\n",
    "model.summary()"
   ]
  },
  {
   "cell_type": "code",
   "execution_count": 23,
   "id": "cdbe1b8d",
   "metadata": {
    "execution": {
     "iopub.execute_input": "2023-04-28T00:46:02.804078Z",
     "iopub.status.busy": "2023-04-28T00:46:02.803653Z",
     "iopub.status.idle": "2023-04-28T00:46:02.832573Z",
     "shell.execute_reply": "2023-04-28T00:46:02.831028Z"
    },
    "papermill": {
     "duration": 0.05112,
     "end_time": "2023-04-28T00:46:02.835937",
     "exception": false,
     "start_time": "2023-04-28T00:46:02.784817",
     "status": "completed"
    },
    "tags": []
   },
   "outputs": [],
   "source": [
    "model.compile(loss=losses.BinaryCrossentropy(from_logits=True),\n",
    "              optimizer='adam',\n",
    "              metrics=tf.metrics.BinaryAccuracy(threshold=0.0))"
   ]
  },
  {
   "cell_type": "code",
   "execution_count": 24,
   "id": "b6cbe023",
   "metadata": {
    "execution": {
     "iopub.execute_input": "2023-04-28T00:46:02.870222Z",
     "iopub.status.busy": "2023-04-28T00:46:02.869431Z",
     "iopub.status.idle": "2023-04-28T00:46:53.812571Z",
     "shell.execute_reply": "2023-04-28T00:46:53.811368Z"
    },
    "papermill": {
     "duration": 50.963232,
     "end_time": "2023-04-28T00:46:53.815473",
     "exception": false,
     "start_time": "2023-04-28T00:46:02.852241",
     "status": "completed"
    },
    "tags": []
   },
   "outputs": [
    {
     "name": "stdout",
     "output_type": "stream",
     "text": [
      "Epoch 1/10\n",
      "625/625 [==============================] - 7s 10ms/step - loss: 0.6643 - binary_accuracy: 0.6960 - val_loss: 0.6150 - val_binary_accuracy: 0.7734\n",
      "Epoch 2/10\n",
      "625/625 [==============================] - 5s 8ms/step - loss: 0.5488 - binary_accuracy: 0.8032 - val_loss: 0.4985 - val_binary_accuracy: 0.8218\n",
      "Epoch 3/10\n",
      "625/625 [==============================] - 5s 8ms/step - loss: 0.4451 - binary_accuracy: 0.8444 - val_loss: 0.4201 - val_binary_accuracy: 0.8474\n",
      "Epoch 4/10\n",
      "625/625 [==============================] - 4s 7ms/step - loss: 0.3785 - binary_accuracy: 0.8662 - val_loss: 0.3740 - val_binary_accuracy: 0.8606\n",
      "Epoch 5/10\n",
      "625/625 [==============================] - 4s 7ms/step - loss: 0.3364 - binary_accuracy: 0.8782 - val_loss: 0.3452 - val_binary_accuracy: 0.8672\n",
      "Epoch 6/10\n",
      "625/625 [==============================] - 5s 7ms/step - loss: 0.3048 - binary_accuracy: 0.8875 - val_loss: 0.3260 - val_binary_accuracy: 0.8720\n",
      "Epoch 7/10\n",
      "625/625 [==============================] - 5s 7ms/step - loss: 0.2817 - binary_accuracy: 0.8963 - val_loss: 0.3128 - val_binary_accuracy: 0.8730\n",
      "Epoch 8/10\n",
      "625/625 [==============================] - 5s 7ms/step - loss: 0.2625 - binary_accuracy: 0.9042 - val_loss: 0.3033 - val_binary_accuracy: 0.8762\n",
      "Epoch 9/10\n",
      "625/625 [==============================] - 5s 8ms/step - loss: 0.2453 - binary_accuracy: 0.9114 - val_loss: 0.2964 - val_binary_accuracy: 0.8782\n",
      "Epoch 10/10\n",
      "625/625 [==============================] - 4s 7ms/step - loss: 0.2321 - binary_accuracy: 0.9168 - val_loss: 0.2922 - val_binary_accuracy: 0.8798\n"
     ]
    }
   ],
   "source": [
    "epochs = 10\n",
    "history = model.fit(\n",
    "    train_ds,\n",
    "    validation_data=val_ds,\n",
    "    epochs=epochs)"
   ]
  },
  {
   "cell_type": "code",
   "execution_count": 25,
   "id": "dc30f4e3",
   "metadata": {
    "execution": {
     "iopub.execute_input": "2023-04-28T00:46:53.954915Z",
     "iopub.status.busy": "2023-04-28T00:46:53.953575Z",
     "iopub.status.idle": "2023-04-28T00:46:56.300192Z",
     "shell.execute_reply": "2023-04-28T00:46:56.298713Z"
    },
    "papermill": {
     "duration": 2.418756,
     "end_time": "2023-04-28T00:46:56.302965",
     "exception": false,
     "start_time": "2023-04-28T00:46:53.884209",
     "status": "completed"
    },
    "tags": []
   },
   "outputs": [
    {
     "name": "stdout",
     "output_type": "stream",
     "text": [
      "782/782 [==============================] - 2s 3ms/step - loss: 0.3102 - binary_accuracy: 0.8736\n",
      "Loss:  0.3102076053619385\n",
      "Accuracy:  0.8736400008201599\n"
     ]
    }
   ],
   "source": [
    "loss, accuracy = model.evaluate(test_ds)\n",
    "\n",
    "print(\"Loss: \", loss)\n",
    "print(\"Accuracy: \", accuracy)"
   ]
  },
  {
   "cell_type": "code",
   "execution_count": 26,
   "id": "fc8f8ba2",
   "metadata": {
    "execution": {
     "iopub.execute_input": "2023-04-28T00:46:56.452395Z",
     "iopub.status.busy": "2023-04-28T00:46:56.451975Z",
     "iopub.status.idle": "2023-04-28T00:46:56.459855Z",
     "shell.execute_reply": "2023-04-28T00:46:56.458568Z"
    },
    "papermill": {
     "duration": 0.086307,
     "end_time": "2023-04-28T00:46:56.463205",
     "exception": false,
     "start_time": "2023-04-28T00:46:56.376898",
     "status": "completed"
    },
    "tags": []
   },
   "outputs": [
    {
     "data": {
      "text/plain": [
       "dict_keys(['loss', 'binary_accuracy', 'val_loss', 'val_binary_accuracy'])"
      ]
     },
     "execution_count": 26,
     "metadata": {},
     "output_type": "execute_result"
    }
   ],
   "source": [
    "history_dict = history.history\n",
    "history_dict.keys()"
   ]
  },
  {
   "cell_type": "code",
   "execution_count": 27,
   "id": "2187ffe5",
   "metadata": {
    "execution": {
     "iopub.execute_input": "2023-04-28T00:46:56.613550Z",
     "iopub.status.busy": "2023-04-28T00:46:56.613125Z",
     "iopub.status.idle": "2023-04-28T00:46:56.870027Z",
     "shell.execute_reply": "2023-04-28T00:46:56.868979Z"
    },
    "papermill": {
     "duration": 0.33568,
     "end_time": "2023-04-28T00:46:56.872700",
     "exception": false,
     "start_time": "2023-04-28T00:46:56.537020",
     "status": "completed"
    },
    "tags": []
   },
   "outputs": [
    {
     "data": {
      "image/png": "[encoded data removed]",
      "text/plain": [
       "<Figure size 640x480 with 1 Axes>"
      ]
     },
     "metadata": {},
     "output_type": "display_data"
    }
   ],
   "source": [
    "acc = history_dict['binary_accuracy']\n",
    "val_acc = history_dict['val_binary_accuracy']\n",
    "loss = history_dict['loss']\n",
    "val_loss = history_dict['val_loss']\n",
    "\n",
    "epochs = range(1, len(acc) + 1)\n",
    "\n",
    "# \"bo\" is for \"blue dot\"\n",
    "plt.plot(epochs, loss, 'bo', label='Training loss')\n",
    "# b is for \"solid blue line\"\n",
    "plt.plot(epochs, val_loss, 'b', label='Validation loss')\n",
    "plt.title('Training and validation loss')\n",
    "plt.xlabel('Epochs')\n",
    "plt.ylabel('Loss')\n",
    "plt.legend()\n",
    "\n",
    "plt.show()"
   ]
  },
  {
   "cell_type": "code",
   "execution_count": 28,
   "id": "be851182",
   "metadata": {
    "execution": {
     "iopub.execute_input": "2023-04-28T00:46:57.022679Z",
     "iopub.status.busy": "2023-04-28T00:46:57.021812Z",
     "iopub.status.idle": "2023-04-28T00:46:57.241305Z",
     "shell.execute_reply": "2023-04-28T00:46:57.239971Z"
    },
    "papermill": {
     "duration": 0.299117,
     "end_time": "2023-04-28T00:46:57.243922",
     "exception": false,
     "start_time": "2023-04-28T00:46:56.944805",
     "status": "completed"
    },
    "tags": []
   },
   "outputs": [
    {
     "data": {
      "image/png": "[encoded data removed]",
      "text/plain": [
       "<Figure size 640x480 with 1 Axes>"
      ]
     },
     "metadata": {},
     "output_type": "display_data"
    }
   ],
   "source": [
    "plt.plot(epochs, acc, 'bo', label='Training acc')\n",
    "plt.plot(epochs, val_acc, 'b', label='Validation acc')\n",
    "plt.title('Training and validation accuracy')\n",
    "plt.xlabel('Epochs')\n",
    "plt.ylabel('Accuracy')\n",
    "plt.legend(loc='lower right')\n",
    "\n",
    "plt.show()"
   ]
  },
  {
   "cell_type": "code",
   "execution_count": 29,
   "id": "9d44cd3a",
   "metadata": {
    "execution": {
     "iopub.execute_input": "2023-04-28T00:46:57.400952Z",
     "iopub.status.busy": "2023-04-28T00:46:57.400536Z",
     "iopub.status.idle": "2023-04-28T00:47:01.844003Z",
     "shell.execute_reply": "2023-04-28T00:47:01.842676Z"
    },
    "papermill": {
     "duration": 4.526604,
     "end_time": "2023-04-28T00:47:01.846643",
     "exception": false,
     "start_time": "2023-04-28T00:46:57.320039",
     "status": "completed"
    },
    "tags": []
   },
   "outputs": [
    {
     "name": "stdout",
     "output_type": "stream",
     "text": [
      "782/782 [==============================] - 4s 5ms/step - loss: 0.3102 - accuracy: 0.8736\n",
      "0.8736400008201599\n"
     ]
    }
   ],
   "source": [
    "export_model = tf.keras.Sequential([\n",
    "  vectorize_layer,\n",
    "  model,\n",
    "  layers.Activation('sigmoid')\n",
    "])\n",
    "\n",
    "export_model.compile(\n",
    "    loss=losses.BinaryCrossentropy(from_logits=False), optimizer=\"adam\", metrics=['accuracy']\n",
    ")\n",
    "\n",
    "# Test it with `raw_test_ds`, which yields raw strings\n",
    "loss, accuracy = export_model.evaluate(raw_test_ds)\n",
    "print(accuracy)"
   ]
  },
  {
   "cell_type": "code",
   "execution_count": 30,
   "id": "013b3be6",
   "metadata": {
    "execution": {
     "iopub.execute_input": "2023-04-28T00:47:02.010731Z",
     "iopub.status.busy": "2023-04-28T00:47:02.009474Z",
     "iopub.status.idle": "2023-04-28T00:47:02.256029Z",
     "shell.execute_reply": "2023-04-28T00:47:02.254514Z"
    },
    "papermill": {
     "duration": 0.330774,
     "end_time": "2023-04-28T00:47:02.258830",
     "exception": false,
     "start_time": "2023-04-28T00:47:01.928056",
     "status": "completed"
    },
    "tags": []
   },
   "outputs": [
    {
     "name": "stdout",
     "output_type": "stream",
     "text": [
      "1/1 [==============================] - 0s 173ms/step\n"
     ]
    },
    {
     "data": {
      "text/plain": [
       "array([[0.59410053],\n",
       "       [0.4909809 ],\n",
       "       [0.41246104],\n",
       "       [0.2811544 ],\n",
       "       [0.60785836],\n",
       "       [0.34419888]], dtype=float32)"
      ]
     },
     "execution_count": 30,
     "metadata": {},
     "output_type": "execute_result"
    }
   ],
   "source": [
    "examples = [\n",
    "  \"A classic for all ages\",\n",
    "    \"I do not recommend this movie at all\",\n",
    "    \"This movie failed\",\n",
    "    \"Worst movie of all time\",\n",
    "    \"Everyone is, but “Love & Death” belongs to Elizabeth Olsen. The fourth centerpiece episode is a master class on her part, capturing how Candy could have gone through the day after such a brutal crime. Olsen becomes increasingly riveting as “Love & Death” unfolds, forcing us to question how much we should like, forgive, or understand her. I’m not sure we ever will. But we’ll clearly continue to be fascinated by her.\",\n",
    "    \"Now, after sitting through Aster's latest, the three-hour horror-comedy fantasia Beau Is Afraid, my admiration hasn't dimmed, exactly; it's the kind of freakish jumble only a gifted filmmaker could make. And I'm grateful that a company as adventurous as A24 is willing to give an ambitious director carte blanche to make the unhinged passion project of his dreams. But Beau Is Afraid still strikes me as an audacious misfire. Aster is still flicking at his characters' raw nerves, to say nothing of ours, but for the first time, he seems to be doing it more for effect than anything else.\"\n",
    "]\n",
    "\n",
    "export_model.predict(examples)"
   ]
  }
 ],
 "metadata": {
  "kernelspec": {
   "display_name": "Python 3",
   "language": "python",
   "name": "python3"
  },
  "language_info": {
   "codemirror_mode": {
    "name": "ipython",
    "version": 3
   },
   "file_extension": ".py",
   "mimetype": "text/x-python",
   "name": "python",
   "nbconvert_exporter": "python",
   "pygments_lexer": "ipython3",
   "version": "3.7.12"
  },
  "papermill": {
   "default_parameters": {},
   "duration": 136.899959,
   "end_time": "2023-04-28T00:47:05.531837",
   "environment_variables": {},
   "exception": null,
   "input_path": "__notebook__.ipynb",
   "output_path": "__notebook__.ipynb",
   "parameters": {},
   "start_time": "2023-04-28T00:44:48.631878",
   "version": "2.4.0"
  }
 },
 "nbformat": 4,
 "nbformat_minor": 5
}
