{
 "cells": [
  {
   "cell_type": "code",
   "execution_count": 1,
   "id": "2d5a8e4f",
   "metadata": {
    "_cell_guid": "b1076dfc-b9ad-4769-8c92-a6c4dae69d19",
    "_kg_hide-input": true,
    "_uuid": "8f2839f25d086af736a60e9eeb907d3b93b6e0e5",
    "execution": {
     "iopub.execute_input": "2023-04-29T00:10:48.356092Z",
     "iopub.status.busy": "2023-04-29T00:10:48.355530Z",
     "iopub.status.idle": "2023-04-29T00:10:57.162091Z",
     "shell.execute_reply": "2023-04-29T00:10:57.160691Z"
    },
    "papermill": {
     "duration": 8.82121,
     "end_time": "2023-04-29T00:10:57.165339",
     "exception": false,
     "start_time": "2023-04-29T00:10:48.344129",
     "status": "completed"
    },
    "tags": []
   },
   "outputs": [],
   "source": [
    "import matplotlib.pyplot as plt\n",
    "import os\n",
    "import re\n",
    "import shutil\n",
    "import string\n",
    "import tensorflow as tf\n",
    "\n",
    "from tensorflow.keras import layers\n",
    "from tensorflow.keras import losses"
   ]
  },
  {
   "cell_type": "code",
   "execution_count": 2,
   "id": "f82a3cd2",
   "metadata": {
    "execution": {
     "iopub.execute_input": "2023-04-29T00:10:57.184815Z",
     "iopub.status.busy": "2023-04-29T00:10:57.183995Z",
     "iopub.status.idle": "2023-04-29T00:10:57.190855Z",
     "shell.execute_reply": "2023-04-29T00:10:57.189411Z"
    },
    "papermill": {
     "duration": 0.021019,
     "end_time": "2023-04-29T00:10:57.194803",
     "exception": false,
     "start_time": "2023-04-29T00:10:57.173784",
     "status": "completed"
    },
    "tags": []
   },
   "outputs": [
    {
     "name": "stdout",
     "output_type": "stream",
     "text": [
      "2.11.0\n"
     ]
    }
   ],
   "source": [
    "print(tf.__version__)"
   ]
  },
  {
   "cell_type": "markdown",
   "id": "e78fdeb0",
   "metadata": {
    "papermill": {
     "duration": 0.007676,
     "end_time": "2023-04-29T00:10:57.210823",
     "exception": false,
     "start_time": "2023-04-29T00:10:57.203147",
     "status": "completed"
    },
    "tags": []
   },
   "source": [
    "Loading sentiment dataset from stanford site"
   ]
  },
  {
   "cell_type": "code",
   "execution_count": 3,
   "id": "657830b4",
   "metadata": {
    "execution": {
     "iopub.execute_input": "2023-04-29T00:10:57.229719Z",
     "iopub.status.busy": "2023-04-29T00:10:57.229257Z",
     "iopub.status.idle": "2023-04-29T00:11:33.133805Z",
     "shell.execute_reply": "2023-04-29T00:11:33.132366Z"
    },
    "papermill": {
     "duration": 35.917846,
     "end_time": "2023-04-29T00:11:33.137103",
     "exception": false,
     "start_time": "2023-04-29T00:10:57.219257",
     "status": "completed"
    },
    "tags": []
   },
   "outputs": [
    {
     "name": "stdout",
     "output_type": "stream",
     "text": [
      "Downloading data from https://ai.stanford.edu/~amaas/data/sentiment/aclImdb_v1.tar.gz\n",
      "84125825/84125825 [==============================] - 10s 0us/step\n"
     ]
    }
   ],
   "source": [
    "url = \"https://ai.stanford.edu/~amaas/data/sentiment/aclImdb_v1.tar.gz\"\n",
    "\n",
    "dataset = tf.keras.utils.get_file(\"aclImdb_v1\", url,\n",
    "                                    untar=True, cache_dir='.',\n",
    "                                    cache_subdir='')\n",
    "\n",
    "dataset_dir = os.path.join(os.path.dirname(dataset), 'aclImdb')"
   ]
  },
  {
   "cell_type": "code",
   "execution_count": 4,
   "id": "cc8bf141",
   "metadata": {
    "execution": {
     "iopub.execute_input": "2023-04-29T00:11:33.175627Z",
     "iopub.status.busy": "2023-04-29T00:11:33.175179Z",
     "iopub.status.idle": "2023-04-29T00:11:33.186215Z",
     "shell.execute_reply": "2023-04-29T00:11:33.184890Z"
    },
    "papermill": {
     "duration": 0.034715,
     "end_time": "2023-04-29T00:11:33.189132",
     "exception": false,
     "start_time": "2023-04-29T00:11:33.154417",
     "status": "completed"
    },
    "tags": []
   },
   "outputs": [
    {
     "data": {
      "text/plain": [
       "['README', 'train', 'imdbEr.txt', 'imdb.vocab', 'test']"
      ]
     },
     "execution_count": 4,
     "metadata": {},
     "output_type": "execute_result"
    }
   ],
   "source": [
    "os.listdir(dataset_dir)"
   ]
  },
  {
   "cell_type": "code",
   "execution_count": 5,
   "id": "d36809fd",
   "metadata": {
    "execution": {
     "iopub.execute_input": "2023-04-29T00:11:33.224371Z",
     "iopub.status.busy": "2023-04-29T00:11:33.223920Z",
     "iopub.status.idle": "2023-04-29T00:11:33.231885Z",
     "shell.execute_reply": "2023-04-29T00:11:33.230740Z"
    },
    "papermill": {
     "duration": 0.025095,
     "end_time": "2023-04-29T00:11:33.234152",
     "exception": false,
     "start_time": "2023-04-29T00:11:33.209057",
     "status": "completed"
    },
    "tags": []
   },
   "outputs": [
    {
     "data": {
      "text/plain": [
       "['unsup',\n",
       " 'unsupBow.feat',\n",
       " 'pos',\n",
       " 'neg',\n",
       " 'labeledBow.feat',\n",
       " 'urls_neg.txt',\n",
       " 'urls_pos.txt',\n",
       " 'urls_unsup.txt']"
      ]
     },
     "execution_count": 5,
     "metadata": {},
     "output_type": "execute_result"
    }
   ],
   "source": [
    "train_dir = os.path.join(dataset_dir, 'train')\n",
    "os.listdir(train_dir)"
   ]
  },
  {
   "cell_type": "code",
   "execution_count": 6,
   "id": "b8b06233",
   "metadata": {
    "execution": {
     "iopub.execute_input": "2023-04-29T00:11:33.263299Z",
     "iopub.status.busy": "2023-04-29T00:11:33.262876Z",
     "iopub.status.idle": "2023-04-29T00:11:33.268525Z",
     "shell.execute_reply": "2023-04-29T00:11:33.267503Z"
    },
    "papermill": {
     "duration": 0.023003,
     "end_time": "2023-04-29T00:11:33.270969",
     "exception": false,
     "start_time": "2023-04-29T00:11:33.247966",
     "status": "completed"
    },
    "tags": []
   },
   "outputs": [
    {
     "name": "stdout",
     "output_type": "stream",
     "text": [
      "Rachel Griffiths writes and directs this award winning short film. A heartwarming story about coping with grief and cherishing the memory of those we've loved and lost. Although, only 15 minutes long, Griffiths manages to capture so much emotion and truth onto film in the short space of time. Bud Tingwell gives a touching performance as Will, a widower struggling to cope with his wife's death. Will is confronted by the harsh reality of loneliness and helplessness as he proceeds to take care of Ruth's pet cow, Tulip. The film displays the grief and responsibility one feels for those they have loved and lost. Good cinematography, great direction, and superbly acted. It will bring tears to all those who have lost a loved one, and survived.\n"
     ]
    }
   ],
   "source": [
    "sample_file = os.path.join(train_dir, 'pos/1181_9.txt')\n",
    "with open(sample_file) as f:\n",
    "  print(f.read())"
   ]
  },
  {
   "cell_type": "code",
   "execution_count": 7,
   "id": "649e23f4",
   "metadata": {
    "execution": {
     "iopub.execute_input": "2023-04-29T00:11:33.300327Z",
     "iopub.status.busy": "2023-04-29T00:11:33.299643Z",
     "iopub.status.idle": "2023-04-29T00:11:34.450325Z",
     "shell.execute_reply": "2023-04-29T00:11:34.444616Z"
    },
    "papermill": {
     "duration": 1.168815,
     "end_time": "2023-04-29T00:11:34.453285",
     "exception": false,
     "start_time": "2023-04-29T00:11:33.284470",
     "status": "completed"
    },
    "tags": []
   },
   "outputs": [],
   "source": [
    "remove_dir = os.path.join(train_dir, 'unsup')\n",
    "shutil.rmtree(remove_dir)"
   ]
  },
  {
   "cell_type": "code",
   "execution_count": 8,
   "id": "a147eabe",
   "metadata": {
    "execution": {
     "iopub.execute_input": "2023-04-29T00:11:34.481836Z",
     "iopub.status.busy": "2023-04-29T00:11:34.481380Z",
     "iopub.status.idle": "2023-04-29T00:11:36.450054Z",
     "shell.execute_reply": "2023-04-29T00:11:36.448559Z"
    },
    "papermill": {
     "duration": 1.986606,
     "end_time": "2023-04-29T00:11:36.453257",
     "exception": false,
     "start_time": "2023-04-29T00:11:34.466651",
     "status": "completed"
    },
    "tags": []
   },
   "outputs": [
    {
     "name": "stdout",
     "output_type": "stream",
     "text": [
      "Found 25000 files belonging to 2 classes.\n",
      "Using 20000 files for training.\n"
     ]
    }
   ],
   "source": [
    "batch_size = 32\n",
    "seed = 42\n",
    "\n",
    "raw_train_ds = tf.keras.utils.text_dataset_from_directory(\n",
    "    'aclImdb/train', \n",
    "    batch_size=batch_size, \n",
    "    validation_split=0.2, \n",
    "    subset='training', \n",
    "    seed=seed)"
   ]
  },
  {
   "cell_type": "code",
   "execution_count": 9,
   "id": "b8dbbe48",
   "metadata": {
    "execution": {
     "iopub.execute_input": "2023-04-29T00:11:36.482740Z",
     "iopub.status.busy": "2023-04-29T00:11:36.482257Z",
     "iopub.status.idle": "2023-04-29T00:11:36.624556Z",
     "shell.execute_reply": "2023-04-29T00:11:36.623405Z"
    },
    "papermill": {
     "duration": 0.160056,
     "end_time": "2023-04-29T00:11:36.627277",
     "exception": false,
     "start_time": "2023-04-29T00:11:36.467221",
     "status": "completed"
    },
    "tags": []
   },
   "outputs": [
    {
     "name": "stdout",
     "output_type": "stream",
     "text": [
      "Review b'\"Pandemonium\" is a horror movie spoof that comes off more stupid than funny. Believe me when I tell you, I love comedies. Especially comedy spoofs. \"Airplane\", \"The Naked Gun\" trilogy, \"Blazing Saddles\", \"High Anxiety\", and \"Spaceballs\" are some of my favorite comedies that spoof a particular genre. \"Pandemonium\" is not up there with those films. Most of the scenes in this movie had me sitting there in stunned silence because the movie wasn\\'t all that funny. There are a few laughs in the film, but when you watch a comedy, you expect to laugh a lot more than a few times and that\\'s all this film has going for it. Geez, \"Scream\" had more laughs than this film and that was more of a horror film. How bizarre is that?<br /><br />*1/2 (out of four)'\n",
      "Label 0\n",
      "Review b\"David Mamet is a very interesting and a very un-equal director. His first movie 'House of Games' was the one I liked best, and it set a series of films with characters whose perspective of life changes as they get into complicated situations, and so does the perspective of the viewer.<br /><br />So is 'Homicide' which from the title tries to set the mind of the viewer to the usual crime drama. The principal characters are two cops, one Jewish and one Irish who deal with a racially charged area. The murder of an old Jewish shop owner who proves to be an ancient veteran of the Israeli Independence war triggers the Jewish identity in the mind and heart of the Jewish detective.<br /><br />This is were the flaws of the film are the more obvious. The process of awakening is theatrical and hard to believe, the group of Jewish militants is operatic, and the way the detective eventually walks to the final violent confrontation is pathetic. The end of the film itself is Mamet-like smart, but disappoints from a human emotional perspective.<br /><br />Joe Mantegna and William Macy give strong performances, but the flaws of the story are too evident to be easily compensated.\"\n",
      "Label 0\n",
      "Review b'Great documentary about the lives of NY firefighters during the worst terrorist attack of all time.. That reason alone is why this should be a must see collectors item.. What shocked me was not only the attacks, but the\"High Fat Diet\" and physical appearance of some of these firefighters. I think a lot of Doctors would agree with me that,in the physical shape they were in, some of these firefighters would NOT of made it to the 79th floor carrying over 60 lbs of gear. Having said that i now have a greater respect for firefighters and i realize becoming a firefighter is a life altering job. The French have a history of making great documentary\\'s and that is what this is, a Great Documentary.....'\n",
      "Label 1\n"
     ]
    }
   ],
   "source": [
    "for text_batch, label_batch in raw_train_ds.take(1):\n",
    "  for i in range(3):\n",
    "    print(\"Review\", text_batch.numpy()[i])\n",
    "    print(\"Label\", label_batch.numpy()[i])"
   ]
  },
  {
   "cell_type": "code",
   "execution_count": 10,
   "id": "7a2b8235",
   "metadata": {
    "execution": {
     "iopub.execute_input": "2023-04-29T00:11:36.657434Z",
     "iopub.status.busy": "2023-04-29T00:11:36.656302Z",
     "iopub.status.idle": "2023-04-29T00:11:36.662476Z",
     "shell.execute_reply": "2023-04-29T00:11:36.661147Z"
    },
    "papermill": {
     "duration": 0.023578,
     "end_time": "2023-04-29T00:11:36.664920",
     "exception": false,
     "start_time": "2023-04-29T00:11:36.641342",
     "status": "completed"
    },
    "tags": []
   },
   "outputs": [
    {
     "name": "stdout",
     "output_type": "stream",
     "text": [
      "Label 0 corresponds to neg\n",
      "Label 1 corresponds to pos\n"
     ]
    }
   ],
   "source": [
    "print(\"Label 0 corresponds to\", raw_train_ds.class_names[0])\n",
    "print(\"Label 1 corresponds to\", raw_train_ds.class_names[1])"
   ]
  },
  {
   "cell_type": "code",
   "execution_count": 11,
   "id": "31751e86",
   "metadata": {
    "execution": {
     "iopub.execute_input": "2023-04-29T00:11:36.694378Z",
     "iopub.status.busy": "2023-04-29T00:11:36.693245Z",
     "iopub.status.idle": "2023-04-29T00:11:38.327423Z",
     "shell.execute_reply": "2023-04-29T00:11:38.325844Z"
    },
    "papermill": {
     "duration": 1.651876,
     "end_time": "2023-04-29T00:11:38.330302",
     "exception": false,
     "start_time": "2023-04-29T00:11:36.678426",
     "status": "completed"
    },
    "tags": []
   },
   "outputs": [
    {
     "name": "stdout",
     "output_type": "stream",
     "text": [
      "Found 25000 files belonging to 2 classes.\n",
      "Using 5000 files for validation.\n"
     ]
    }
   ],
   "source": [
    "raw_val_ds = tf.keras.utils.text_dataset_from_directory(\n",
    "    'aclImdb/train', \n",
    "    batch_size=batch_size, \n",
    "    validation_split=0.2, \n",
    "    subset='validation', \n",
    "    seed=seed)"
   ]
  },
  {
   "cell_type": "code",
   "execution_count": 12,
   "id": "253d55bb",
   "metadata": {
    "execution": {
     "iopub.execute_input": "2023-04-29T00:11:38.360437Z",
     "iopub.status.busy": "2023-04-29T00:11:38.359935Z",
     "iopub.status.idle": "2023-04-29T00:11:40.333227Z",
     "shell.execute_reply": "2023-04-29T00:11:40.332221Z"
    },
    "papermill": {
     "duration": 1.99146,
     "end_time": "2023-04-29T00:11:40.335884",
     "exception": false,
     "start_time": "2023-04-29T00:11:38.344424",
     "status": "completed"
    },
    "tags": []
   },
   "outputs": [
    {
     "name": "stdout",
     "output_type": "stream",
     "text": [
      "Found 25000 files belonging to 2 classes.\n"
     ]
    }
   ],
   "source": [
    "raw_test_ds = tf.keras.utils.text_dataset_from_directory(\n",
    "    'aclImdb/test', \n",
    "    batch_size=batch_size)"
   ]
  },
  {
   "cell_type": "markdown",
   "id": "85ce95f3",
   "metadata": {
    "papermill": {
     "duration": 0.013438,
     "end_time": "2023-04-29T00:11:40.363412",
     "exception": false,
     "start_time": "2023-04-29T00:11:40.349974",
     "status": "completed"
    },
    "tags": []
   },
   "source": [
    "Cleaning data and removing line break tags"
   ]
  },
  {
   "cell_type": "code",
   "execution_count": 13,
   "id": "91484660",
   "metadata": {
    "execution": {
     "iopub.execute_input": "2023-04-29T00:11:40.393025Z",
     "iopub.status.busy": "2023-04-29T00:11:40.392265Z",
     "iopub.status.idle": "2023-04-29T00:11:40.398643Z",
     "shell.execute_reply": "2023-04-29T00:11:40.397721Z"
    },
    "papermill": {
     "duration": 0.024033,
     "end_time": "2023-04-29T00:11:40.401006",
     "exception": false,
     "start_time": "2023-04-29T00:11:40.376973",
     "status": "completed"
    },
    "tags": []
   },
   "outputs": [],
   "source": [
    "def custom_standardization(input_data):\n",
    "  lowercase = tf.strings.lower(input_data)\n",
    "  stripped_html = tf.strings.regex_replace(lowercase, '<br />', ' ')\n",
    "  return tf.strings.regex_replace(stripped_html,\n",
    "                                  '[%s]' % re.escape(string.punctuation),\n",
    "                                  '')"
   ]
  },
  {
   "cell_type": "code",
   "execution_count": 14,
   "id": "562c6bb9",
   "metadata": {
    "execution": {
     "iopub.execute_input": "2023-04-29T00:11:40.430700Z",
     "iopub.status.busy": "2023-04-29T00:11:40.429975Z",
     "iopub.status.idle": "2023-04-29T00:11:40.454155Z",
     "shell.execute_reply": "2023-04-29T00:11:40.453017Z"
    },
    "papermill": {
     "duration": 0.042139,
     "end_time": "2023-04-29T00:11:40.456779",
     "exception": false,
     "start_time": "2023-04-29T00:11:40.414640",
     "status": "completed"
    },
    "tags": []
   },
   "outputs": [],
   "source": [
    "max_features = 10000\n",
    "sequence_length = 250\n",
    "\n",
    "vectorize_layer = layers.TextVectorization(\n",
    "    standardize=custom_standardization,\n",
    "    max_tokens=max_features,\n",
    "    output_mode='int',\n",
    "    output_sequence_length=sequence_length)"
   ]
  },
  {
   "cell_type": "code",
   "execution_count": 15,
   "id": "9e7148a4",
   "metadata": {
    "execution": {
     "iopub.execute_input": "2023-04-29T00:11:40.486305Z",
     "iopub.status.busy": "2023-04-29T00:11:40.485585Z",
     "iopub.status.idle": "2023-04-29T00:11:43.438539Z",
     "shell.execute_reply": "2023-04-29T00:11:43.437540Z"
    },
    "papermill": {
     "duration": 2.970908,
     "end_time": "2023-04-29T00:11:43.441321",
     "exception": false,
     "start_time": "2023-04-29T00:11:40.470413",
     "status": "completed"
    },
    "tags": []
   },
   "outputs": [],
   "source": [
    "# Make a text-only dataset (without labels), then call adapt\n",
    "train_text = raw_train_ds.map(lambda x, y: x)\n",
    "vectorize_layer.adapt(train_text)"
   ]
  },
  {
   "cell_type": "code",
   "execution_count": 16,
   "id": "450280e1",
   "metadata": {
    "execution": {
     "iopub.execute_input": "2023-04-29T00:11:43.472054Z",
     "iopub.status.busy": "2023-04-29T00:11:43.471188Z",
     "iopub.status.idle": "2023-04-29T00:11:43.476889Z",
     "shell.execute_reply": "2023-04-29T00:11:43.476006Z"
    },
    "papermill": {
     "duration": 0.023489,
     "end_time": "2023-04-29T00:11:43.479215",
     "exception": false,
     "start_time": "2023-04-29T00:11:43.455726",
     "status": "completed"
    },
    "tags": []
   },
   "outputs": [],
   "source": [
    "def vectorize_text(text, label):\n",
    "  text = tf.expand_dims(text, -1)\n",
    "  return vectorize_layer(text), label"
   ]
  },
  {
   "cell_type": "code",
   "execution_count": 17,
   "id": "e9f99a73",
   "metadata": {
    "execution": {
     "iopub.execute_input": "2023-04-29T00:11:43.509001Z",
     "iopub.status.busy": "2023-04-29T00:11:43.508249Z",
     "iopub.status.idle": "2023-04-29T00:11:43.625615Z",
     "shell.execute_reply": "2023-04-29T00:11:43.624152Z"
    },
    "papermill": {
     "duration": 0.135712,
     "end_time": "2023-04-29T00:11:43.628653",
     "exception": false,
     "start_time": "2023-04-29T00:11:43.492941",
     "status": "completed"
    },
    "tags": []
   },
   "outputs": [
    {
     "name": "stdout",
     "output_type": "stream",
     "text": [
      "Review tf.Tensor(b'Great movie - especially the music - Etta James - \"At Last\". This speaks volumes when you have finally found that special someone.', shape=(), dtype=string)\n",
      "Label neg\n",
      "Vectorized review (<tf.Tensor: shape=(1, 250), dtype=int64, numpy=\n",
      "array([[  86,   17,  260,    2,  222,    1,  571,   31,  229,   11, 2418,\n",
      "           1,   51,   22,   25,  404,  251,   12,  306,  282,    0,    0,\n",
      "           0,    0,    0,    0,    0,    0,    0,    0,    0,    0,    0,\n",
      "           0,    0,    0,    0,    0,    0,    0,    0,    0,    0,    0,\n",
      "           0,    0,    0,    0,    0,    0,    0,    0,    0,    0,    0,\n",
      "           0,    0,    0,    0,    0,    0,    0,    0,    0,    0,    0,\n",
      "           0,    0,    0,    0,    0,    0,    0,    0,    0,    0,    0,\n",
      "           0,    0,    0,    0,    0,    0,    0,    0,    0,    0,    0,\n",
      "           0,    0,    0,    0,    0,    0,    0,    0,    0,    0,    0,\n",
      "           0,    0,    0,    0,    0,    0,    0,    0,    0,    0,    0,\n",
      "           0,    0,    0,    0,    0,    0,    0,    0,    0,    0,    0,\n",
      "           0,    0,    0,    0,    0,    0,    0,    0,    0,    0,    0,\n",
      "           0,    0,    0,    0,    0,    0,    0,    0,    0,    0,    0,\n",
      "           0,    0,    0,    0,    0,    0,    0,    0,    0,    0,    0,\n",
      "           0,    0,    0,    0,    0,    0,    0,    0,    0,    0,    0,\n",
      "           0,    0,    0,    0,    0,    0,    0,    0,    0,    0,    0,\n",
      "           0,    0,    0,    0,    0,    0,    0,    0,    0,    0,    0,\n",
      "           0,    0,    0,    0,    0,    0,    0,    0,    0,    0,    0,\n",
      "           0,    0,    0,    0,    0,    0,    0,    0,    0,    0,    0,\n",
      "           0,    0,    0,    0,    0,    0,    0,    0,    0,    0,    0,\n",
      "           0,    0,    0,    0,    0,    0,    0,    0,    0,    0,    0,\n",
      "           0,    0,    0,    0,    0,    0,    0,    0,    0,    0,    0,\n",
      "           0,    0,    0,    0,    0,    0,    0,    0]])>, <tf.Tensor: shape=(), dtype=int32, numpy=0>)\n"
     ]
    }
   ],
   "source": [
    "# retrieve a batch (of 32 reviews and labels) from the dataset\n",
    "text_batch, label_batch = next(iter(raw_train_ds))\n",
    "first_review, first_label = text_batch[0], label_batch[0]\n",
    "print(\"Review\", first_review)\n",
    "print(\"Label\", raw_train_ds.class_names[first_label])\n",
    "print(\"Vectorized review\", vectorize_text(first_review, first_label))"
   ]
  },
  {
   "cell_type": "code",
   "execution_count": 18,
   "id": "4200de8e",
   "metadata": {
    "execution": {
     "iopub.execute_input": "2023-04-29T00:11:43.658503Z",
     "iopub.status.busy": "2023-04-29T00:11:43.658057Z",
     "iopub.status.idle": "2023-04-29T00:11:43.740104Z",
     "shell.execute_reply": "2023-04-29T00:11:43.738313Z"
    },
    "papermill": {
     "duration": 0.10007,
     "end_time": "2023-04-29T00:11:43.742823",
     "exception": false,
     "start_time": "2023-04-29T00:11:43.642753",
     "status": "completed"
    },
    "tags": []
   },
   "outputs": [
    {
     "name": "stdout",
     "output_type": "stream",
     "text": [
      "1287 --->  silent\n",
      " 313 --->  night\n",
      "Vocabulary size: 10000\n"
     ]
    }
   ],
   "source": [
    "print(\"1287 ---> \",vectorize_layer.get_vocabulary()[1287])\n",
    "print(\" 313 ---> \",vectorize_layer.get_vocabulary()[313])\n",
    "print('Vocabulary size: {}'.format(len(vectorize_layer.get_vocabulary())))"
   ]
  },
  {
   "cell_type": "code",
   "execution_count": 19,
   "id": "77f401b9",
   "metadata": {
    "execution": {
     "iopub.execute_input": "2023-04-29T00:11:43.773412Z",
     "iopub.status.busy": "2023-04-29T00:11:43.772229Z",
     "iopub.status.idle": "2023-04-29T00:11:43.960295Z",
     "shell.execute_reply": "2023-04-29T00:11:43.959172Z"
    },
    "papermill": {
     "duration": 0.206262,
     "end_time": "2023-04-29T00:11:43.963063",
     "exception": false,
     "start_time": "2023-04-29T00:11:43.756801",
     "status": "completed"
    },
    "tags": []
   },
   "outputs": [],
   "source": [
    "train_ds = raw_train_ds.map(vectorize_text)\n",
    "val_ds = raw_val_ds.map(vectorize_text)\n",
    "test_ds = raw_test_ds.map(vectorize_text)"
   ]
  },
  {
   "cell_type": "code",
   "execution_count": 20,
   "id": "5da4b398",
   "metadata": {
    "execution": {
     "iopub.execute_input": "2023-04-29T00:11:43.993570Z",
     "iopub.status.busy": "2023-04-29T00:11:43.992514Z",
     "iopub.status.idle": "2023-04-29T00:11:44.006524Z",
     "shell.execute_reply": "2023-04-29T00:11:44.005049Z"
    },
    "papermill": {
     "duration": 0.032467,
     "end_time": "2023-04-29T00:11:44.009564",
     "exception": false,
     "start_time": "2023-04-29T00:11:43.977097",
     "status": "completed"
    },
    "tags": []
   },
   "outputs": [],
   "source": [
    "AUTOTUNE = tf.data.AUTOTUNE\n",
    "\n",
    "train_ds = train_ds.cache().prefetch(buffer_size=AUTOTUNE)\n",
    "val_ds = val_ds.cache().prefetch(buffer_size=AUTOTUNE)\n",
    "test_ds = test_ds.cache().prefetch(buffer_size=AUTOTUNE)"
   ]
  },
  {
   "cell_type": "code",
   "execution_count": 21,
   "id": "a1930e1f",
   "metadata": {
    "execution": {
     "iopub.execute_input": "2023-04-29T00:11:44.040172Z",
     "iopub.status.busy": "2023-04-29T00:11:44.038873Z",
     "iopub.status.idle": "2023-04-29T00:11:44.043999Z",
     "shell.execute_reply": "2023-04-29T00:11:44.042990Z"
    },
    "papermill": {
     "duration": 0.022585,
     "end_time": "2023-04-29T00:11:44.046297",
     "exception": false,
     "start_time": "2023-04-29T00:11:44.023712",
     "status": "completed"
    },
    "tags": []
   },
   "outputs": [],
   "source": [
    "embedding_dim = 16"
   ]
  },
  {
   "cell_type": "code",
   "execution_count": 22,
   "id": "02962346",
   "metadata": {
    "execution": {
     "iopub.execute_input": "2023-04-29T00:11:44.075784Z",
     "iopub.status.busy": "2023-04-29T00:11:44.075303Z",
     "iopub.status.idle": "2023-04-29T00:11:44.188057Z",
     "shell.execute_reply": "2023-04-29T00:11:44.186753Z"
    },
    "papermill": {
     "duration": 0.130411,
     "end_time": "2023-04-29T00:11:44.190579",
     "exception": false,
     "start_time": "2023-04-29T00:11:44.060168",
     "status": "completed"
    },
    "tags": []
   },
   "outputs": [
    {
     "name": "stdout",
     "output_type": "stream",
     "text": [
      "Model: \"sequential\"\n",
      "_________________________________________________________________\n",
      " Layer (type)                Output Shape              Param #   \n",
      "=================================================================\n",
      " embedding (Embedding)       (None, None, 16)          160016    \n",
      "                                                                 \n",
      " dropout (Dropout)           (None, None, 16)          0         \n",
      "                                                                 \n",
      " global_average_pooling1d (G  (None, 16)               0         \n",
      " lobalAveragePooling1D)                                          \n",
      "                                                                 \n",
      " dropout_1 (Dropout)         (None, 16)                0         \n",
      "                                                                 \n",
      " dense (Dense)               (None, 1)                 17        \n",
      "                                                                 \n",
      "=================================================================\n",
      "Total params: 160,033\n",
      "Trainable params: 160,033\n",
      "Non-trainable params: 0\n",
      "_________________________________________________________________\n"
     ]
    }
   ],
   "source": [
    "model = tf.keras.Sequential([\n",
    "  layers.Embedding(max_features + 1, embedding_dim),\n",
    "  layers.Dropout(0.2),\n",
    "  layers.GlobalAveragePooling1D(),\n",
    "  layers.Dropout(0.2),\n",
    "  layers.Dense(1)])\n",
    "\n",
    "model.summary()"
   ]
  },
  {
   "cell_type": "code",
   "execution_count": 23,
   "id": "d755aa1a",
   "metadata": {
    "execution": {
     "iopub.execute_input": "2023-04-29T00:11:44.231270Z",
     "iopub.status.busy": "2023-04-29T00:11:44.230850Z",
     "iopub.status.idle": "2023-04-29T00:11:44.254077Z",
     "shell.execute_reply": "2023-04-29T00:11:44.252735Z"
    },
    "papermill": {
     "duration": 0.044438,
     "end_time": "2023-04-29T00:11:44.256970",
     "exception": false,
     "start_time": "2023-04-29T00:11:44.212532",
     "status": "completed"
    },
    "tags": []
   },
   "outputs": [],
   "source": [
    "model.compile(loss=losses.BinaryCrossentropy(from_logits=True),\n",
    "              optimizer='adam',\n",
    "              metrics=tf.metrics.BinaryAccuracy(threshold=0.0))"
   ]
  },
  {
   "cell_type": "code",
   "execution_count": 24,
   "id": "2498aa38",
   "metadata": {
    "execution": {
     "iopub.execute_input": "2023-04-29T00:11:44.289545Z",
     "iopub.status.busy": "2023-04-29T00:11:44.288390Z",
     "iopub.status.idle": "2023-04-29T00:12:32.561892Z",
     "shell.execute_reply": "2023-04-29T00:12:32.560691Z"
    },
    "papermill": {
     "duration": 48.292494,
     "end_time": "2023-04-29T00:12:32.564572",
     "exception": false,
     "start_time": "2023-04-29T00:11:44.272078",
     "status": "completed"
    },
    "tags": []
   },
   "outputs": [
    {
     "name": "stdout",
     "output_type": "stream",
     "text": [
      "Epoch 1/10\n",
      "625/625 [==============================] - 6s 8ms/step - loss: 0.6618 - binary_accuracy: 0.6971 - val_loss: 0.6113 - val_binary_accuracy: 0.7746\n",
      "Epoch 2/10\n",
      "625/625 [==============================] - 4s 6ms/step - loss: 0.5456 - binary_accuracy: 0.8029 - val_loss: 0.4956 - val_binary_accuracy: 0.8250\n",
      "Epoch 3/10\n",
      "625/625 [==============================] - 4s 6ms/step - loss: 0.4418 - binary_accuracy: 0.8479 - val_loss: 0.4181 - val_binary_accuracy: 0.8476\n",
      "Epoch 4/10\n",
      "625/625 [==============================] - 4s 6ms/step - loss: 0.3763 - binary_accuracy: 0.8662 - val_loss: 0.3726 - val_binary_accuracy: 0.8616\n",
      "Epoch 5/10\n",
      "625/625 [==============================] - 4s 6ms/step - loss: 0.3349 - binary_accuracy: 0.8794 - val_loss: 0.3440 - val_binary_accuracy: 0.8682\n",
      "Epoch 6/10\n",
      "625/625 [==============================] - 4s 6ms/step - loss: 0.3039 - binary_accuracy: 0.8894 - val_loss: 0.3253 - val_binary_accuracy: 0.8730\n",
      "Epoch 7/10\n",
      "625/625 [==============================] - 4s 6ms/step - loss: 0.2806 - binary_accuracy: 0.8989 - val_loss: 0.3121 - val_binary_accuracy: 0.8734\n",
      "Epoch 8/10\n",
      "625/625 [==============================] - 4s 6ms/step - loss: 0.2618 - binary_accuracy: 0.9047 - val_loss: 0.3028 - val_binary_accuracy: 0.8760\n",
      "Epoch 9/10\n",
      "625/625 [==============================] - 4s 6ms/step - loss: 0.2448 - binary_accuracy: 0.9115 - val_loss: 0.2965 - val_binary_accuracy: 0.8772\n",
      "Epoch 10/10\n",
      "625/625 [==============================] - 4s 6ms/step - loss: 0.2307 - binary_accuracy: 0.9176 - val_loss: 0.2919 - val_binary_accuracy: 0.8786\n"
     ]
    }
   ],
   "source": [
    "epochs = 10\n",
    "history = model.fit(\n",
    "    train_ds,\n",
    "    validation_data=val_ds,\n",
    "    epochs=epochs)"
   ]
  },
  {
   "cell_type": "code",
   "execution_count": 25,
   "id": "54bf128d",
   "metadata": {
    "execution": {
     "iopub.execute_input": "2023-04-29T00:12:32.690096Z",
     "iopub.status.busy": "2023-04-29T00:12:32.689297Z",
     "iopub.status.idle": "2023-04-29T00:12:35.306337Z",
     "shell.execute_reply": "2023-04-29T00:12:35.304954Z"
    },
    "papermill": {
     "duration": 2.682387,
     "end_time": "2023-04-29T00:12:35.309041",
     "exception": false,
     "start_time": "2023-04-29T00:12:32.626654",
     "status": "completed"
    },
    "tags": []
   },
   "outputs": [
    {
     "name": "stdout",
     "output_type": "stream",
     "text": [
      "782/782 [==============================] - 2s 3ms/step - loss: 0.3103 - binary_accuracy: 0.8728\n",
      "Loss:  0.3102995455265045\n",
      "Accuracy:  0.872759997844696\n"
     ]
    }
   ],
   "source": [
    "loss, accuracy = model.evaluate(test_ds)\n",
    "\n",
    "print(\"Loss: \", loss)\n",
    "print(\"Accuracy: \", accuracy)"
   ]
  },
  {
   "cell_type": "code",
   "execution_count": 26,
   "id": "d2ec7cc3",
   "metadata": {
    "execution": {
     "iopub.execute_input": "2023-04-29T00:12:35.438608Z",
     "iopub.status.busy": "2023-04-29T00:12:35.437406Z",
     "iopub.status.idle": "2023-04-29T00:12:35.444276Z",
     "shell.execute_reply": "2023-04-29T00:12:35.443388Z"
    },
    "papermill": {
     "duration": 0.073847,
     "end_time": "2023-04-29T00:12:35.446440",
     "exception": false,
     "start_time": "2023-04-29T00:12:35.372593",
     "status": "completed"
    },
    "tags": []
   },
   "outputs": [
    {
     "data": {
      "text/plain": [
       "dict_keys(['loss', 'binary_accuracy', 'val_loss', 'val_binary_accuracy'])"
      ]
     },
     "execution_count": 26,
     "metadata": {},
     "output_type": "execute_result"
    }
   ],
   "source": [
    "history_dict = history.history\n",
    "history_dict.keys()"
   ]
  },
  {
   "cell_type": "code",
   "execution_count": 27,
   "id": "740940f4",
   "metadata": {
    "execution": {
     "iopub.execute_input": "2023-04-29T00:12:35.576822Z",
     "iopub.status.busy": "2023-04-29T00:12:35.575399Z",
     "iopub.status.idle": "2023-04-29T00:12:35.810171Z",
     "shell.execute_reply": "2023-04-29T00:12:35.808898Z"
    },
    "papermill": {
     "duration": 0.302497,
     "end_time": "2023-04-29T00:12:35.812655",
     "exception": false,
     "start_time": "2023-04-29T00:12:35.510158",
     "status": "completed"
    },
    "tags": []
   },
   "outputs": [
    {
     "data": {
      "image/png": "[encoded data removed]",
      "text/plain": [
       "<Figure size 640x480 with 1 Axes>"
      ]
     },
     "metadata": {},
     "output_type": "display_data"
    }
   ],
   "source": [
    "acc = history_dict['binary_accuracy']\n",
    "val_acc = history_dict['val_binary_accuracy']\n",
    "loss = history_dict['loss']\n",
    "val_loss = history_dict['val_loss']\n",
    "\n",
    "epochs = range(1, len(acc) + 1)\n",
    "\n",
    "# \"bo\" is for \"blue dot\"\n",
    "plt.plot(epochs, loss, 'bo', label='Training loss')\n",
    "# b is for \"solid blue line\"\n",
    "plt.plot(epochs, val_loss, 'b', label='Validation loss')\n",
    "plt.title('Training and validation loss')\n",
    "plt.xlabel('Epochs')\n",
    "plt.ylabel('Loss')\n",
    "plt.legend()\n",
    "\n",
    "plt.show()"
   ]
  },
  {
   "cell_type": "code",
   "execution_count": 28,
   "id": "57c9e031",
   "metadata": {
    "execution": {
     "iopub.execute_input": "2023-04-29T00:12:35.943755Z",
     "iopub.status.busy": "2023-04-29T00:12:35.942185Z",
     "iopub.status.idle": "2023-04-29T00:12:36.101725Z",
     "shell.execute_reply": "2023-04-29T00:12:36.100752Z"
    },
    "papermill": {
     "duration": 0.22779,
     "end_time": "2023-04-29T00:12:36.104083",
     "exception": false,
     "start_time": "2023-04-29T00:12:35.876293",
     "status": "completed"
    },
    "tags": []
   },
   "outputs": [
    {
     "data": {
      "image/png": "[encoded data removed]",
      "text/plain": [
       "<Figure size 640x480 with 1 Axes>"
      ]
     },
     "metadata": {},
     "output_type": "display_data"
    }
   ],
   "source": [
    "plt.plot(epochs, acc, 'bo', label='Training acc')\n",
    "plt.plot(epochs, val_acc, 'b', label='Validation acc')\n",
    "plt.title('Training and validation accuracy')\n",
    "plt.xlabel('Epochs')\n",
    "plt.ylabel('Accuracy')\n",
    "plt.legend(loc='lower right')\n",
    "\n",
    "plt.show()"
   ]
  },
  {
   "cell_type": "code",
   "execution_count": 29,
   "id": "161c75a2",
   "metadata": {
    "execution": {
     "iopub.execute_input": "2023-04-29T00:12:36.237174Z",
     "iopub.status.busy": "2023-04-29T00:12:36.235985Z",
     "iopub.status.idle": "2023-04-29T00:12:39.929793Z",
     "shell.execute_reply": "2023-04-29T00:12:39.928195Z"
    },
    "papermill": {
     "duration": 3.763009,
     "end_time": "2023-04-29T00:12:39.932360",
     "exception": false,
     "start_time": "2023-04-29T00:12:36.169351",
     "status": "completed"
    },
    "tags": []
   },
   "outputs": [
    {
     "name": "stdout",
     "output_type": "stream",
     "text": [
      "782/782 [==============================] - 4s 4ms/step - loss: 0.3103 - accuracy: 0.8728\n",
      "0.872759997844696\n"
     ]
    }
   ],
   "source": [
    "export_model = tf.keras.Sequential([\n",
    "  vectorize_layer,\n",
    "  model,\n",
    "  layers.Activation('sigmoid')\n",
    "])\n",
    "\n",
    "export_model.compile(\n",
    "    loss=losses.BinaryCrossentropy(from_logits=False), optimizer=\"adam\", metrics=['accuracy']\n",
    ")\n",
    "\n",
    "# Test it with `raw_test_ds`, which yields raw strings\n",
    "loss, accuracy = export_model.evaluate(raw_test_ds)\n",
    "print(accuracy)"
   ]
  },
  {
   "cell_type": "code",
   "execution_count": 30,
   "id": "fed41da3",
   "metadata": {
    "execution": {
     "iopub.execute_input": "2023-04-29T00:12:40.073911Z",
     "iopub.status.busy": "2023-04-29T00:12:40.073475Z",
     "iopub.status.idle": "2023-04-29T00:12:40.304244Z",
     "shell.execute_reply": "2023-04-29T00:12:40.303020Z"
    },
    "papermill": {
     "duration": 0.304079,
     "end_time": "2023-04-29T00:12:40.307239",
     "exception": false,
     "start_time": "2023-04-29T00:12:40.003160",
     "status": "completed"
    },
    "tags": []
   },
   "outputs": [
    {
     "name": "stdout",
     "output_type": "stream",
     "text": [
      "1/1 [==============================] - 0s 163ms/step\n"
     ]
    },
    {
     "data": {
      "text/plain": [
       "array([[0.5823841 ],\n",
       "       [0.4803525 ],\n",
       "       [0.40067643],\n",
       "       [0.39755437],\n",
       "       [0.75351435],\n",
       "       [0.6068401 ],\n",
       "       [0.3401557 ]], dtype=float32)"
      ]
     },
     "execution_count": 30,
     "metadata": {},
     "output_type": "execute_result"
    }
   ],
   "source": [
    "examples = [\n",
    "  \"A classic for all ages\",\n",
    "    \"I do not recommend this movie at all\",\n",
    "    \"This movie failed\",\n",
    "    \"I really wanted to like this movie. I actually bought it on the strong positive reviews. I thought it's in my library now. I will love this. However I struggled to get through it to the end. Its a watch movie, referring to the number of times I looked at my timepiece. The premise feels weak and the road movie antics felt like a bad Karaoke of past brilliance. The saving grace are the two lead actresses whose chemistry is great. There are moments of brilliance here and that would be one reason to give this movie a go. However their excellence, juxtaposed with less sincere, not so clever comedy struggled to keep me engaged.\",\n",
    "    \"I first thought this was going to be a 'girly movie', and while it was, it featured funny characters (I think Gigi had me rolling on the floor the most). Let's be honest, we've all seen this story being told but of course, as an aspiring actor/screenwriter, it's the way you tell the story that makes it stand out. Props to Kaitlyn Dever, Beanie Feldstein and the entire cast and Olivia Wilde, who directed this in her debut in the role.\"\n",
    "    \"Worst movie of all time\",\n",
    "    \"Everyone is, but “Love & Death” belongs to Elizabeth Olsen. The fourth centerpiece episode is a master class on her part, capturing how Candy could have gone through the day after such a brutal crime. Olsen becomes increasingly riveting as “Love & Death” unfolds, forcing us to question how much we should like, forgive, or understand her. I’m not sure we ever will. But we’ll clearly continue to be fascinated by her.\",\n",
    "    \"Now, after sitting through Aster's latest, the three-hour horror-comedy fantasia Beau Is Afraid, my admiration hasn't dimmed, exactly; it's the kind of freakish jumble only a gifted filmmaker could make. And I'm grateful that a company as adventurous as A24 is willing to give an ambitious director carte blanche to make the unhinged passion project of his dreams. But Beau Is Afraid still strikes me as an audacious misfire. Aster is still flicking at his characters' raw nerves, to say nothing of ours, but for the first time, he seems to be doing it more for effect than anything else.\"\n",
    "]\n",
    "\n",
    "export_model.predict(examples)"
   ]
  }
 ],
 "metadata": {
  "kernelspec": {
   "display_name": "Python 3",
   "language": "python",
   "name": "python3"
  },
  "language_info": {
   "codemirror_mode": {
    "name": "ipython",
    "version": 3
   },
   "file_extension": ".py",
   "mimetype": "text/x-python",
   "name": "python",
   "nbconvert_exporter": "python",
   "pygments_lexer": "ipython3",
   "version": "3.7.12"
  },
  "papermill": {
   "default_parameters": {},
   "duration": 125.762792,
   "end_time": "2023-04-29T00:12:43.951575",
   "environment_variables": {},
   "exception": null,
   "input_path": "__notebook__.ipynb",
   "output_path": "__notebook__.ipynb",
   "parameters": {},
   "start_time": "2023-04-29T00:10:38.188783",
   "version": "2.4.0"
  }
 },
 "nbformat": 4,
 "nbformat_minor": 5
}
