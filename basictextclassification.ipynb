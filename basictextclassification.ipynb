{
 "cells": [
  {
   "cell_type": "code",
   "execution_count": 1,
   "id": "aca31e67",
   "metadata": {
    "_cell_guid": "b1076dfc-b9ad-4769-8c92-a6c4dae69d19",
    "_uuid": "8f2839f25d086af736a60e9eeb907d3b93b6e0e5",
    "execution": {
     "iopub.execute_input": "2023-04-25T05:33:25.092037Z",
     "iopub.status.busy": "2023-04-25T05:33:25.091604Z",
     "iopub.status.idle": "2023-04-25T05:33:33.836550Z",
     "shell.execute_reply": "2023-04-25T05:33:33.835160Z"
    },
    "papermill": {
     "duration": 8.758701,
     "end_time": "2023-04-25T05:33:33.839584",
     "exception": false,
     "start_time": "2023-04-25T05:33:25.080883",
     "status": "completed"
    },
    "tags": []
   },
   "outputs": [],
   "source": [
    "import matplotlib.pyplot as plt\n",
    "import os\n",
    "import re\n",
    "import shutil\n",
    "import string\n",
    "import tensorflow as tf\n",
    "\n",
    "from tensorflow.keras import layers\n",
    "from tensorflow.keras import losses"
   ]
  },
  {
   "cell_type": "code",
   "execution_count": 2,
   "id": "f5692943",
   "metadata": {
    "execution": {
     "iopub.execute_input": "2023-04-25T05:33:33.858061Z",
     "iopub.status.busy": "2023-04-25T05:33:33.856421Z",
     "iopub.status.idle": "2023-04-25T05:33:33.864264Z",
     "shell.execute_reply": "2023-04-25T05:33:33.862905Z"
    },
    "papermill": {
     "duration": 0.019586,
     "end_time": "2023-04-25T05:33:33.866944",
     "exception": false,
     "start_time": "2023-04-25T05:33:33.847358",
     "status": "completed"
    },
    "tags": []
   },
   "outputs": [
    {
     "name": "stdout",
     "output_type": "stream",
     "text": [
      "2.11.0\n"
     ]
    }
   ],
   "source": [
    "print(tf.__version__)"
   ]
  },
  {
   "cell_type": "code",
   "execution_count": 3,
   "id": "3c830fe1",
   "metadata": {
    "execution": {
     "iopub.execute_input": "2023-04-25T05:33:33.884569Z",
     "iopub.status.busy": "2023-04-25T05:33:33.883760Z",
     "iopub.status.idle": "2023-04-25T05:34:07.050557Z",
     "shell.execute_reply": "2023-04-25T05:34:07.048956Z"
    },
    "papermill": {
     "duration": 33.179091,
     "end_time": "2023-04-25T05:34:07.053806",
     "exception": false,
     "start_time": "2023-04-25T05:33:33.874715",
     "status": "completed"
    },
    "tags": []
   },
   "outputs": [
    {
     "name": "stdout",
     "output_type": "stream",
     "text": [
      "Downloading data from https://ai.stanford.edu/~amaas/data/sentiment/aclImdb_v1.tar.gz\n",
      "84125825/84125825 [==============================] - 7s 0us/step\n"
     ]
    }
   ],
   "source": [
    "url = \"https://ai.stanford.edu/~amaas/data/sentiment/aclImdb_v1.tar.gz\"\n",
    "\n",
    "dataset = tf.keras.utils.get_file(\"aclImdb_v1\", url,\n",
    "                                    untar=True, cache_dir='.',\n",
    "                                    cache_subdir='')\n",
    "\n",
    "dataset_dir = os.path.join(os.path.dirname(dataset), 'aclImdb')"
   ]
  },
  {
   "cell_type": "code",
   "execution_count": 4,
   "id": "d46744a6",
   "metadata": {
    "execution": {
     "iopub.execute_input": "2023-04-25T05:34:07.085718Z",
     "iopub.status.busy": "2023-04-25T05:34:07.085253Z",
     "iopub.status.idle": "2023-04-25T05:34:07.094442Z",
     "shell.execute_reply": "2023-04-25T05:34:07.093047Z"
    },
    "papermill": {
     "duration": 0.028208,
     "end_time": "2023-04-25T05:34:07.096902",
     "exception": false,
     "start_time": "2023-04-25T05:34:07.068694",
     "status": "completed"
    },
    "tags": []
   },
   "outputs": [
    {
     "data": {
      "text/plain": [
       "['imdb.vocab', 'imdbEr.txt', 'README', 'train', 'test']"
      ]
     },
     "execution_count": 4,
     "metadata": {},
     "output_type": "execute_result"
    }
   ],
   "source": [
    "os.listdir(dataset_dir)"
   ]
  },
  {
   "cell_type": "code",
   "execution_count": 5,
   "id": "d702734d",
   "metadata": {
    "execution": {
     "iopub.execute_input": "2023-04-25T05:34:07.129543Z",
     "iopub.status.busy": "2023-04-25T05:34:07.128549Z",
     "iopub.status.idle": "2023-04-25T05:34:07.136907Z",
     "shell.execute_reply": "2023-04-25T05:34:07.135812Z"
    },
    "papermill": {
     "duration": 0.027695,
     "end_time": "2023-04-25T05:34:07.139207",
     "exception": false,
     "start_time": "2023-04-25T05:34:07.111512",
     "status": "completed"
    },
    "tags": []
   },
   "outputs": [
    {
     "data": {
      "text/plain": [
       "['labeledBow.feat',\n",
       " 'unsupBow.feat',\n",
       " 'unsup',\n",
       " 'neg',\n",
       " 'pos',\n",
       " 'urls_neg.txt',\n",
       " 'urls_pos.txt',\n",
       " 'urls_unsup.txt']"
      ]
     },
     "execution_count": 5,
     "metadata": {},
     "output_type": "execute_result"
    }
   ],
   "source": [
    "train_dir = os.path.join(dataset_dir, 'train')\n",
    "os.listdir(train_dir)"
   ]
  },
  {
   "cell_type": "code",
   "execution_count": 6,
   "id": "eb7b4bec",
   "metadata": {
    "execution": {
     "iopub.execute_input": "2023-04-25T05:34:07.170906Z",
     "iopub.status.busy": "2023-04-25T05:34:07.170081Z",
     "iopub.status.idle": "2023-04-25T05:34:07.176408Z",
     "shell.execute_reply": "2023-04-25T05:34:07.175168Z"
    },
    "papermill": {
     "duration": 0.025265,
     "end_time": "2023-04-25T05:34:07.179213",
     "exception": false,
     "start_time": "2023-04-25T05:34:07.153948",
     "status": "completed"
    },
    "tags": []
   },
   "outputs": [
    {
     "name": "stdout",
     "output_type": "stream",
     "text": [
      "Rachel Griffiths writes and directs this award winning short film. A heartwarming story about coping with grief and cherishing the memory of those we've loved and lost. Although, only 15 minutes long, Griffiths manages to capture so much emotion and truth onto film in the short space of time. Bud Tingwell gives a touching performance as Will, a widower struggling to cope with his wife's death. Will is confronted by the harsh reality of loneliness and helplessness as he proceeds to take care of Ruth's pet cow, Tulip. The film displays the grief and responsibility one feels for those they have loved and lost. Good cinematography, great direction, and superbly acted. It will bring tears to all those who have lost a loved one, and survived.\n"
     ]
    }
   ],
   "source": [
    "sample_file = os.path.join(train_dir, 'pos/1181_9.txt')\n",
    "with open(sample_file) as f:\n",
    "  print(f.read())"
   ]
  },
  {
   "cell_type": "code",
   "execution_count": 7,
   "id": "aaa11e09",
   "metadata": {
    "execution": {
     "iopub.execute_input": "2023-04-25T05:34:07.212069Z",
     "iopub.status.busy": "2023-04-25T05:34:07.211296Z",
     "iopub.status.idle": "2023-04-25T05:34:08.370046Z",
     "shell.execute_reply": "2023-04-25T05:34:08.368827Z"
    },
    "papermill": {
     "duration": 1.177969,
     "end_time": "2023-04-25T05:34:08.373082",
     "exception": false,
     "start_time": "2023-04-25T05:34:07.195113",
     "status": "completed"
    },
    "tags": []
   },
   "outputs": [],
   "source": [
    "remove_dir = os.path.join(train_dir, 'unsup')\n",
    "shutil.rmtree(remove_dir)"
   ]
  },
  {
   "cell_type": "code",
   "execution_count": 8,
   "id": "d429088a",
   "metadata": {
    "execution": {
     "iopub.execute_input": "2023-04-25T05:34:08.404942Z",
     "iopub.status.busy": "2023-04-25T05:34:08.404181Z",
     "iopub.status.idle": "2023-04-25T05:34:10.241590Z",
     "shell.execute_reply": "2023-04-25T05:34:10.240225Z"
    },
    "papermill": {
     "duration": 1.857009,
     "end_time": "2023-04-25T05:34:10.245033",
     "exception": false,
     "start_time": "2023-04-25T05:34:08.388024",
     "status": "completed"
    },
    "tags": []
   },
   "outputs": [
    {
     "name": "stdout",
     "output_type": "stream",
     "text": [
      "Found 25000 files belonging to 2 classes.\n",
      "Using 20000 files for training.\n"
     ]
    }
   ],
   "source": [
    "batch_size = 32\n",
    "seed = 42\n",
    "\n",
    "raw_train_ds = tf.keras.utils.text_dataset_from_directory(\n",
    "    'aclImdb/train', \n",
    "    batch_size=batch_size, \n",
    "    validation_split=0.2, \n",
    "    subset='training', \n",
    "    seed=seed)"
   ]
  },
  {
   "cell_type": "code",
   "execution_count": 9,
   "id": "597dfc66",
   "metadata": {
    "execution": {
     "iopub.execute_input": "2023-04-25T05:34:10.278746Z",
     "iopub.status.busy": "2023-04-25T05:34:10.277668Z",
     "iopub.status.idle": "2023-04-25T05:34:10.427446Z",
     "shell.execute_reply": "2023-04-25T05:34:10.426000Z"
    },
    "papermill": {
     "duration": 0.170224,
     "end_time": "2023-04-25T05:34:10.430269",
     "exception": false,
     "start_time": "2023-04-25T05:34:10.260045",
     "status": "completed"
    },
    "tags": []
   },
   "outputs": [
    {
     "name": "stdout",
     "output_type": "stream",
     "text": [
      "Review b'\"Pandemonium\" is a horror movie spoof that comes off more stupid than funny. Believe me when I tell you, I love comedies. Especially comedy spoofs. \"Airplane\", \"The Naked Gun\" trilogy, \"Blazing Saddles\", \"High Anxiety\", and \"Spaceballs\" are some of my favorite comedies that spoof a particular genre. \"Pandemonium\" is not up there with those films. Most of the scenes in this movie had me sitting there in stunned silence because the movie wasn\\'t all that funny. There are a few laughs in the film, but when you watch a comedy, you expect to laugh a lot more than a few times and that\\'s all this film has going for it. Geez, \"Scream\" had more laughs than this film and that was more of a horror film. How bizarre is that?<br /><br />*1/2 (out of four)'\n",
      "Label 0\n",
      "Review b\"David Mamet is a very interesting and a very un-equal director. His first movie 'House of Games' was the one I liked best, and it set a series of films with characters whose perspective of life changes as they get into complicated situations, and so does the perspective of the viewer.<br /><br />So is 'Homicide' which from the title tries to set the mind of the viewer to the usual crime drama. The principal characters are two cops, one Jewish and one Irish who deal with a racially charged area. The murder of an old Jewish shop owner who proves to be an ancient veteran of the Israeli Independence war triggers the Jewish identity in the mind and heart of the Jewish detective.<br /><br />This is were the flaws of the film are the more obvious. The process of awakening is theatrical and hard to believe, the group of Jewish militants is operatic, and the way the detective eventually walks to the final violent confrontation is pathetic. The end of the film itself is Mamet-like smart, but disappoints from a human emotional perspective.<br /><br />Joe Mantegna and William Macy give strong performances, but the flaws of the story are too evident to be easily compensated.\"\n",
      "Label 0\n",
      "Review b'Great documentary about the lives of NY firefighters during the worst terrorist attack of all time.. That reason alone is why this should be a must see collectors item.. What shocked me was not only the attacks, but the\"High Fat Diet\" and physical appearance of some of these firefighters. I think a lot of Doctors would agree with me that,in the physical shape they were in, some of these firefighters would NOT of made it to the 79th floor carrying over 60 lbs of gear. Having said that i now have a greater respect for firefighters and i realize becoming a firefighter is a life altering job. The French have a history of making great documentary\\'s and that is what this is, a Great Documentary.....'\n",
      "Label 1\n"
     ]
    }
   ],
   "source": [
    "for text_batch, label_batch in raw_train_ds.take(1):\n",
    "  for i in range(3):\n",
    "    print(\"Review\", text_batch.numpy()[i])\n",
    "    print(\"Label\", label_batch.numpy()[i])"
   ]
  },
  {
   "cell_type": "code",
   "execution_count": 10,
   "id": "7e441550",
   "metadata": {
    "execution": {
     "iopub.execute_input": "2023-04-25T05:34:10.463104Z",
     "iopub.status.busy": "2023-04-25T05:34:10.462381Z",
     "iopub.status.idle": "2023-04-25T05:34:10.468789Z",
     "shell.execute_reply": "2023-04-25T05:34:10.467569Z"
    },
    "papermill": {
     "duration": 0.025935,
     "end_time": "2023-04-25T05:34:10.471498",
     "exception": false,
     "start_time": "2023-04-25T05:34:10.445563",
     "status": "completed"
    },
    "tags": []
   },
   "outputs": [
    {
     "name": "stdout",
     "output_type": "stream",
     "text": [
      "Label 0 corresponds to neg\n",
      "Label 1 corresponds to pos\n"
     ]
    }
   ],
   "source": [
    "print(\"Label 0 corresponds to\", raw_train_ds.class_names[0])\n",
    "print(\"Label 1 corresponds to\", raw_train_ds.class_names[1])"
   ]
  },
  {
   "cell_type": "code",
   "execution_count": 11,
   "id": "b0e7aab8",
   "metadata": {
    "execution": {
     "iopub.execute_input": "2023-04-25T05:34:10.503318Z",
     "iopub.status.busy": "2023-04-25T05:34:10.502884Z",
     "iopub.status.idle": "2023-04-25T05:34:12.274386Z",
     "shell.execute_reply": "2023-04-25T05:34:12.273001Z"
    },
    "papermill": {
     "duration": 1.790463,
     "end_time": "2023-04-25T05:34:12.276845",
     "exception": false,
     "start_time": "2023-04-25T05:34:10.486382",
     "status": "completed"
    },
    "tags": []
   },
   "outputs": [
    {
     "name": "stdout",
     "output_type": "stream",
     "text": [
      "Found 25000 files belonging to 2 classes.\n",
      "Using 5000 files for validation.\n"
     ]
    }
   ],
   "source": [
    "raw_val_ds = tf.keras.utils.text_dataset_from_directory(\n",
    "    'aclImdb/train', \n",
    "    batch_size=batch_size, \n",
    "    validation_split=0.2, \n",
    "    subset='validation', \n",
    "    seed=seed)"
   ]
  },
  {
   "cell_type": "code",
   "execution_count": 12,
   "id": "f1ac4be9",
   "metadata": {
    "execution": {
     "iopub.execute_input": "2023-04-25T05:34:12.310396Z",
     "iopub.status.busy": "2023-04-25T05:34:12.309572Z",
     "iopub.status.idle": "2023-04-25T05:34:14.431224Z",
     "shell.execute_reply": "2023-04-25T05:34:14.430103Z"
    },
    "papermill": {
     "duration": 2.142281,
     "end_time": "2023-04-25T05:34:14.434126",
     "exception": false,
     "start_time": "2023-04-25T05:34:12.291845",
     "status": "completed"
    },
    "tags": []
   },
   "outputs": [
    {
     "name": "stdout",
     "output_type": "stream",
     "text": [
      "Found 25000 files belonging to 2 classes.\n"
     ]
    }
   ],
   "source": [
    "raw_test_ds = tf.keras.utils.text_dataset_from_directory(\n",
    "    'aclImdb/test', \n",
    "    batch_size=batch_size)"
   ]
  },
  {
   "cell_type": "code",
   "execution_count": 13,
   "id": "be5e376e",
   "metadata": {
    "execution": {
     "iopub.execute_input": "2023-04-25T05:34:14.467300Z",
     "iopub.status.busy": "2023-04-25T05:34:14.465877Z",
     "iopub.status.idle": "2023-04-25T05:34:14.473628Z",
     "shell.execute_reply": "2023-04-25T05:34:14.472152Z"
    },
    "papermill": {
     "duration": 0.027976,
     "end_time": "2023-04-25T05:34:14.477245",
     "exception": false,
     "start_time": "2023-04-25T05:34:14.449269",
     "status": "completed"
    },
    "tags": []
   },
   "outputs": [],
   "source": [
    "def custom_standardization(input_data):\n",
    "  lowercase = tf.strings.lower(input_data)\n",
    "  stripped_html = tf.strings.regex_replace(lowercase, '<br />', ' ')\n",
    "  return tf.strings.regex_replace(stripped_html,\n",
    "                                  '[%s]' % re.escape(string.punctuation),\n",
    "                                  '')"
   ]
  },
  {
   "cell_type": "code",
   "execution_count": 14,
   "id": "73462d29",
   "metadata": {
    "execution": {
     "iopub.execute_input": "2023-04-25T05:34:14.511314Z",
     "iopub.status.busy": "2023-04-25T05:34:14.510439Z",
     "iopub.status.idle": "2023-04-25T05:34:14.534942Z",
     "shell.execute_reply": "2023-04-25T05:34:14.533938Z"
    },
    "papermill": {
     "duration": 0.044234,
     "end_time": "2023-04-25T05:34:14.537697",
     "exception": false,
     "start_time": "2023-04-25T05:34:14.493463",
     "status": "completed"
    },
    "tags": []
   },
   "outputs": [],
   "source": [
    "max_features = 10000\n",
    "sequence_length = 250\n",
    "\n",
    "vectorize_layer = layers.TextVectorization(\n",
    "    standardize=custom_standardization,\n",
    "    max_tokens=max_features,\n",
    "    output_mode='int',\n",
    "    output_sequence_length=sequence_length)"
   ]
  },
  {
   "cell_type": "code",
   "execution_count": 15,
   "id": "86ad9b88",
   "metadata": {
    "execution": {
     "iopub.execute_input": "2023-04-25T05:34:14.570688Z",
     "iopub.status.busy": "2023-04-25T05:34:14.569967Z",
     "iopub.status.idle": "2023-04-25T05:34:19.837557Z",
     "shell.execute_reply": "2023-04-25T05:34:19.836161Z"
    },
    "papermill": {
     "duration": 5.28769,
     "end_time": "2023-04-25T05:34:19.840454",
     "exception": false,
     "start_time": "2023-04-25T05:34:14.552764",
     "status": "completed"
    },
    "tags": []
   },
   "outputs": [],
   "source": [
    "# Make a text-only dataset (without labels), then call adapt\n",
    "train_text = raw_train_ds.map(lambda x, y: x)\n",
    "vectorize_layer.adapt(train_text)"
   ]
  },
  {
   "cell_type": "code",
   "execution_count": 16,
   "id": "7c43abae",
   "metadata": {
    "execution": {
     "iopub.execute_input": "2023-04-25T05:34:19.872947Z",
     "iopub.status.busy": "2023-04-25T05:34:19.872321Z",
     "iopub.status.idle": "2023-04-25T05:34:19.878714Z",
     "shell.execute_reply": "2023-04-25T05:34:19.877685Z"
    },
    "papermill": {
     "duration": 0.025198,
     "end_time": "2023-04-25T05:34:19.880988",
     "exception": false,
     "start_time": "2023-04-25T05:34:19.855790",
     "status": "completed"
    },
    "tags": []
   },
   "outputs": [],
   "source": [
    "def vectorize_text(text, label):\n",
    "  text = tf.expand_dims(text, -1)\n",
    "  return vectorize_layer(text), label"
   ]
  },
  {
   "cell_type": "code",
   "execution_count": 17,
   "id": "75cfe6ae",
   "metadata": {
    "execution": {
     "iopub.execute_input": "2023-04-25T05:34:19.914042Z",
     "iopub.status.busy": "2023-04-25T05:34:19.912749Z",
     "iopub.status.idle": "2023-04-25T05:34:20.041414Z",
     "shell.execute_reply": "2023-04-25T05:34:20.040161Z"
    },
    "papermill": {
     "duration": 0.148192,
     "end_time": "2023-04-25T05:34:20.044263",
     "exception": false,
     "start_time": "2023-04-25T05:34:19.896071",
     "status": "completed"
    },
    "tags": []
   },
   "outputs": [
    {
     "name": "stdout",
     "output_type": "stream",
     "text": [
      "Review tf.Tensor(b'Great movie - especially the music - Etta James - \"At Last\". This speaks volumes when you have finally found that special someone.', shape=(), dtype=string)\n",
      "Label neg\n",
      "Vectorized review (<tf.Tensor: shape=(1, 250), dtype=int64, numpy=\n",
      "array([[  86,   17,  260,    2,  222,    1,  571,   31,  229,   11, 2418,\n",
      "           1,   51,   22,   25,  404,  251,   12,  306,  282,    0,    0,\n",
      "           0,    0,    0,    0,    0,    0,    0,    0,    0,    0,    0,\n",
      "           0,    0,    0,    0,    0,    0,    0,    0,    0,    0,    0,\n",
      "           0,    0,    0,    0,    0,    0,    0,    0,    0,    0,    0,\n",
      "           0,    0,    0,    0,    0,    0,    0,    0,    0,    0,    0,\n",
      "           0,    0,    0,    0,    0,    0,    0,    0,    0,    0,    0,\n",
      "           0,    0,    0,    0,    0,    0,    0,    0,    0,    0,    0,\n",
      "           0,    0,    0,    0,    0,    0,    0,    0,    0,    0,    0,\n",
      "           0,    0,    0,    0,    0,    0,    0,    0,    0,    0,    0,\n",
      "           0,    0,    0,    0,    0,    0,    0,    0,    0,    0,    0,\n",
      "           0,    0,    0,    0,    0,    0,    0,    0,    0,    0,    0,\n",
      "           0,    0,    0,    0,    0,    0,    0,    0,    0,    0,    0,\n",
      "           0,    0,    0,    0,    0,    0,    0,    0,    0,    0,    0,\n",
      "           0,    0,    0,    0,    0,    0,    0,    0,    0,    0,    0,\n",
      "           0,    0,    0,    0,    0,    0,    0,    0,    0,    0,    0,\n",
      "           0,    0,    0,    0,    0,    0,    0,    0,    0,    0,    0,\n",
      "           0,    0,    0,    0,    0,    0,    0,    0,    0,    0,    0,\n",
      "           0,    0,    0,    0,    0,    0,    0,    0,    0,    0,    0,\n",
      "           0,    0,    0,    0,    0,    0,    0,    0,    0,    0,    0,\n",
      "           0,    0,    0,    0,    0,    0,    0,    0,    0,    0,    0,\n",
      "           0,    0,    0,    0,    0,    0,    0,    0,    0,    0,    0,\n",
      "           0,    0,    0,    0,    0,    0,    0,    0]])>, <tf.Tensor: shape=(), dtype=int32, numpy=0>)\n"
     ]
    }
   ],
   "source": [
    "# retrieve a batch (of 32 reviews and labels) from the dataset\n",
    "text_batch, label_batch = next(iter(raw_train_ds))\n",
    "first_review, first_label = text_batch[0], label_batch[0]\n",
    "print(\"Review\", first_review)\n",
    "print(\"Label\", raw_train_ds.class_names[first_label])\n",
    "print(\"Vectorized review\", vectorize_text(first_review, first_label))"
   ]
  },
  {
   "cell_type": "code",
   "execution_count": 18,
   "id": "f0d392b6",
   "metadata": {
    "execution": {
     "iopub.execute_input": "2023-04-25T05:34:20.076494Z",
     "iopub.status.busy": "2023-04-25T05:34:20.076093Z",
     "iopub.status.idle": "2023-04-25T05:34:20.157375Z",
     "shell.execute_reply": "2023-04-25T05:34:20.155980Z"
    },
    "papermill": {
     "duration": 0.10061,
     "end_time": "2023-04-25T05:34:20.160010",
     "exception": false,
     "start_time": "2023-04-25T05:34:20.059400",
     "status": "completed"
    },
    "tags": []
   },
   "outputs": [
    {
     "name": "stdout",
     "output_type": "stream",
     "text": [
      "1287 --->  silent\n",
      " 313 --->  night\n",
      "Vocabulary size: 10000\n"
     ]
    }
   ],
   "source": [
    "print(\"1287 ---> \",vectorize_layer.get_vocabulary()[1287])\n",
    "print(\" 313 ---> \",vectorize_layer.get_vocabulary()[313])\n",
    "print('Vocabulary size: {}'.format(len(vectorize_layer.get_vocabulary())))"
   ]
  },
  {
   "cell_type": "code",
   "execution_count": 19,
   "id": "ef970fa3",
   "metadata": {
    "execution": {
     "iopub.execute_input": "2023-04-25T05:34:20.192560Z",
     "iopub.status.busy": "2023-04-25T05:34:20.192166Z",
     "iopub.status.idle": "2023-04-25T05:34:20.378534Z",
     "shell.execute_reply": "2023-04-25T05:34:20.377188Z"
    },
    "papermill": {
     "duration": 0.20604,
     "end_time": "2023-04-25T05:34:20.381384",
     "exception": false,
     "start_time": "2023-04-25T05:34:20.175344",
     "status": "completed"
    },
    "tags": []
   },
   "outputs": [],
   "source": [
    "train_ds = raw_train_ds.map(vectorize_text)\n",
    "val_ds = raw_val_ds.map(vectorize_text)\n",
    "test_ds = raw_test_ds.map(vectorize_text)"
   ]
  },
  {
   "cell_type": "code",
   "execution_count": 20,
   "id": "0bfff8b7",
   "metadata": {
    "execution": {
     "iopub.execute_input": "2023-04-25T05:34:20.420093Z",
     "iopub.status.busy": "2023-04-25T05:34:20.419664Z",
     "iopub.status.idle": "2023-04-25T05:34:20.433419Z",
     "shell.execute_reply": "2023-04-25T05:34:20.432131Z"
    },
    "papermill": {
     "duration": 0.03939,
     "end_time": "2023-04-25T05:34:20.436474",
     "exception": false,
     "start_time": "2023-04-25T05:34:20.397084",
     "status": "completed"
    },
    "tags": []
   },
   "outputs": [],
   "source": [
    "AUTOTUNE = tf.data.AUTOTUNE\n",
    "\n",
    "train_ds = train_ds.cache().prefetch(buffer_size=AUTOTUNE)\n",
    "val_ds = val_ds.cache().prefetch(buffer_size=AUTOTUNE)\n",
    "test_ds = test_ds.cache().prefetch(buffer_size=AUTOTUNE)"
   ]
  },
  {
   "cell_type": "code",
   "execution_count": 21,
   "id": "eb0ba6e5",
   "metadata": {
    "execution": {
     "iopub.execute_input": "2023-04-25T05:34:20.468668Z",
     "iopub.status.busy": "2023-04-25T05:34:20.468209Z",
     "iopub.status.idle": "2023-04-25T05:34:20.473438Z",
     "shell.execute_reply": "2023-04-25T05:34:20.472136Z"
    },
    "papermill": {
     "duration": 0.024611,
     "end_time": "2023-04-25T05:34:20.476141",
     "exception": false,
     "start_time": "2023-04-25T05:34:20.451530",
     "status": "completed"
    },
    "tags": []
   },
   "outputs": [],
   "source": [
    "embedding_dim = 16"
   ]
  },
  {
   "cell_type": "code",
   "execution_count": 22,
   "id": "0a1d2faf",
   "metadata": {
    "execution": {
     "iopub.execute_input": "2023-04-25T05:34:20.508425Z",
     "iopub.status.busy": "2023-04-25T05:34:20.507994Z",
     "iopub.status.idle": "2023-04-25T05:34:20.606119Z",
     "shell.execute_reply": "2023-04-25T05:34:20.604691Z"
    },
    "papermill": {
     "duration": 0.119503,
     "end_time": "2023-04-25T05:34:20.610907",
     "exception": false,
     "start_time": "2023-04-25T05:34:20.491404",
     "status": "completed"
    },
    "tags": []
   },
   "outputs": [
    {
     "name": "stdout",
     "output_type": "stream",
     "text": [
      "Model: \"sequential\"\n",
      "_________________________________________________________________\n",
      " Layer (type)                Output Shape              Param #   \n",
      "=================================================================\n",
      " embedding (Embedding)       (None, None, 16)          160016    \n",
      "                                                                 \n",
      " dropout (Dropout)           (None, None, 16)          0         \n",
      "                                                                 \n",
      " global_average_pooling1d (G  (None, 16)               0         \n",
      " lobalAveragePooling1D)                                          \n",
      "                                                                 \n",
      " dropout_1 (Dropout)         (None, 16)                0         \n",
      "                                                                 \n",
      " dense (Dense)               (None, 1)                 17        \n",
      "                                                                 \n",
      "=================================================================\n",
      "Total params: 160,033\n",
      "Trainable params: 160,033\n",
      "Non-trainable params: 0\n",
      "_________________________________________________________________\n"
     ]
    }
   ],
   "source": [
    "model = tf.keras.Sequential([\n",
    "  layers.Embedding(max_features + 1, embedding_dim),\n",
    "  layers.Dropout(0.2),\n",
    "  layers.GlobalAveragePooling1D(),\n",
    "  layers.Dropout(0.2),\n",
    "  layers.Dense(1)])\n",
    "\n",
    "model.summary()"
   ]
  },
  {
   "cell_type": "code",
   "execution_count": 23,
   "id": "03dad594",
   "metadata": {
    "execution": {
     "iopub.execute_input": "2023-04-25T05:34:20.645832Z",
     "iopub.status.busy": "2023-04-25T05:34:20.645364Z",
     "iopub.status.idle": "2023-04-25T05:34:20.669627Z",
     "shell.execute_reply": "2023-04-25T05:34:20.668277Z"
    },
    "papermill": {
     "duration": 0.045341,
     "end_time": "2023-04-25T05:34:20.672569",
     "exception": false,
     "start_time": "2023-04-25T05:34:20.627228",
     "status": "completed"
    },
    "tags": []
   },
   "outputs": [],
   "source": [
    "model.compile(loss=losses.BinaryCrossentropy(from_logits=True),\n",
    "              optimizer='adam',\n",
    "              metrics=tf.metrics.BinaryAccuracy(threshold=0.0))"
   ]
  },
  {
   "cell_type": "code",
   "execution_count": 24,
   "id": "4703e013",
   "metadata": {
    "execution": {
     "iopub.execute_input": "2023-04-25T05:34:20.707732Z",
     "iopub.status.busy": "2023-04-25T05:34:20.707280Z",
     "iopub.status.idle": "2023-04-25T05:35:15.546706Z",
     "shell.execute_reply": "2023-04-25T05:35:15.545401Z"
    },
    "papermill": {
     "duration": 54.860175,
     "end_time": "2023-04-25T05:35:15.549445",
     "exception": false,
     "start_time": "2023-04-25T05:34:20.689270",
     "status": "completed"
    },
    "tags": []
   },
   "outputs": [
    {
     "name": "stdout",
     "output_type": "stream",
     "text": [
      "Epoch 1/10\n",
      "625/625 [==============================] - 6s 8ms/step - loss: 0.6634 - binary_accuracy: 0.6942 - val_loss: 0.6153 - val_binary_accuracy: 0.7738\n",
      "Epoch 2/10\n",
      "625/625 [==============================] - 4s 7ms/step - loss: 0.5489 - binary_accuracy: 0.8014 - val_loss: 0.4994 - val_binary_accuracy: 0.8230\n",
      "Epoch 3/10\n",
      "625/625 [==============================] - 4s 6ms/step - loss: 0.4448 - binary_accuracy: 0.8447 - val_loss: 0.4209 - val_binary_accuracy: 0.8476\n",
      "Epoch 4/10\n",
      "625/625 [==============================] - 4s 7ms/step - loss: 0.3789 - binary_accuracy: 0.8657 - val_loss: 0.3745 - val_binary_accuracy: 0.8606\n",
      "Epoch 5/10\n",
      "625/625 [==============================] - 4s 7ms/step - loss: 0.3355 - binary_accuracy: 0.8788 - val_loss: 0.3452 - val_binary_accuracy: 0.8676\n",
      "Epoch 6/10\n",
      "625/625 [==============================] - 4s 6ms/step - loss: 0.3046 - binary_accuracy: 0.8899 - val_loss: 0.3262 - val_binary_accuracy: 0.8730\n",
      "Epoch 7/10\n",
      "625/625 [==============================] - 4s 7ms/step - loss: 0.2809 - binary_accuracy: 0.8960 - val_loss: 0.3131 - val_binary_accuracy: 0.8734\n",
      "Epoch 8/10\n",
      "625/625 [==============================] - 4s 6ms/step - loss: 0.2612 - binary_accuracy: 0.9057 - val_loss: 0.3032 - val_binary_accuracy: 0.8766\n",
      "Epoch 9/10\n",
      "625/625 [==============================] - 4s 6ms/step - loss: 0.2455 - binary_accuracy: 0.9114 - val_loss: 0.2968 - val_binary_accuracy: 0.8784\n",
      "Epoch 10/10\n",
      "625/625 [==============================] - 4s 6ms/step - loss: 0.2313 - binary_accuracy: 0.9174 - val_loss: 0.2920 - val_binary_accuracy: 0.8802\n"
     ]
    }
   ],
   "source": [
    "epochs = 10\n",
    "history = model.fit(\n",
    "    train_ds,\n",
    "    validation_data=val_ds,\n",
    "    epochs=epochs)"
   ]
  },
  {
   "cell_type": "code",
   "execution_count": 25,
   "id": "38ac9a67",
   "metadata": {
    "execution": {
     "iopub.execute_input": "2023-04-25T05:35:15.680036Z",
     "iopub.status.busy": "2023-04-25T05:35:15.679614Z",
     "iopub.status.idle": "2023-04-25T05:35:18.300625Z",
     "shell.execute_reply": "2023-04-25T05:35:18.299152Z"
    },
    "papermill": {
     "duration": 2.688727,
     "end_time": "2023-04-25T05:35:18.303194",
     "exception": false,
     "start_time": "2023-04-25T05:35:15.614467",
     "status": "completed"
    },
    "tags": []
   },
   "outputs": [
    {
     "name": "stdout",
     "output_type": "stream",
     "text": [
      "782/782 [==============================] - 2s 3ms/step - loss: 0.3105 - binary_accuracy: 0.8730\n",
      "Loss:  0.31053510308265686\n",
      "Accuracy:  0.8729599714279175\n"
     ]
    }
   ],
   "source": [
    "loss, accuracy = model.evaluate(test_ds)\n",
    "\n",
    "print(\"Loss: \", loss)\n",
    "print(\"Accuracy: \", accuracy)"
   ]
  },
  {
   "cell_type": "code",
   "execution_count": 26,
   "id": "46cff210",
   "metadata": {
    "execution": {
     "iopub.execute_input": "2023-04-25T05:35:18.436043Z",
     "iopub.status.busy": "2023-04-25T05:35:18.435254Z",
     "iopub.status.idle": "2023-04-25T05:35:18.442501Z",
     "shell.execute_reply": "2023-04-25T05:35:18.441209Z"
    },
    "papermill": {
     "duration": 0.076441,
     "end_time": "2023-04-25T05:35:18.444989",
     "exception": false,
     "start_time": "2023-04-25T05:35:18.368548",
     "status": "completed"
    },
    "tags": []
   },
   "outputs": [
    {
     "data": {
      "text/plain": [
       "dict_keys(['loss', 'binary_accuracy', 'val_loss', 'val_binary_accuracy'])"
      ]
     },
     "execution_count": 26,
     "metadata": {},
     "output_type": "execute_result"
    }
   ],
   "source": [
    "history_dict = history.history\n",
    "history_dict.keys()"
   ]
  },
  {
   "cell_type": "code",
   "execution_count": 27,
   "id": "bfa1f34c",
   "metadata": {
    "execution": {
     "iopub.execute_input": "2023-04-25T05:35:18.578881Z",
     "iopub.status.busy": "2023-04-25T05:35:18.578080Z",
     "iopub.status.idle": "2023-04-25T05:35:18.814081Z",
     "shell.execute_reply": "2023-04-25T05:35:18.812861Z"
    },
    "papermill": {
     "duration": 0.305853,
     "end_time": "2023-04-25T05:35:18.816684",
     "exception": false,
     "start_time": "2023-04-25T05:35:18.510831",
     "status": "completed"
    },
    "tags": []
   },
   "outputs": [
    {
     "data": {
      "image/png": "[encoded data removed]",
      "text/plain": [
       "<Figure size 640x480 with 1 Axes>"
      ]
     },
     "metadata": {},
     "output_type": "display_data"
    }
   ],
   "source": [
    "acc = history_dict['binary_accuracy']\n",
    "val_acc = history_dict['val_binary_accuracy']\n",
    "loss = history_dict['loss']\n",
    "val_loss = history_dict['val_loss']\n",
    "\n",
    "epochs = range(1, len(acc) + 1)\n",
    "\n",
    "# \"bo\" is for \"blue dot\"\n",
    "plt.plot(epochs, loss, 'bo', label='Training loss')\n",
    "# b is for \"solid blue line\"\n",
    "plt.plot(epochs, val_loss, 'b', label='Validation loss')\n",
    "plt.title('Training and validation loss')\n",
    "plt.xlabel('Epochs')\n",
    "plt.ylabel('Loss')\n",
    "plt.legend()\n",
    "\n",
    "plt.show()"
   ]
  },
  {
   "cell_type": "code",
   "execution_count": 28,
   "id": "05111a94",
   "metadata": {
    "execution": {
     "iopub.execute_input": "2023-04-25T05:35:18.951109Z",
     "iopub.status.busy": "2023-04-25T05:35:18.950648Z",
     "iopub.status.idle": "2023-04-25T05:35:19.169912Z",
     "shell.execute_reply": "2023-04-25T05:35:19.168656Z"
    },
    "papermill": {
     "duration": 0.289857,
     "end_time": "2023-04-25T05:35:19.172709",
     "exception": false,
     "start_time": "2023-04-25T05:35:18.882852",
     "status": "completed"
    },
    "tags": []
   },
   "outputs": [
    {
     "data": {
      "image/png": "[encoded data removed]",
      "text/plain": [
       "<Figure size 640x480 with 1 Axes>"
      ]
     },
     "metadata": {},
     "output_type": "display_data"
    }
   ],
   "source": [
    "plt.plot(epochs, acc, 'bo', label='Training acc')\n",
    "plt.plot(epochs, val_acc, 'b', label='Validation acc')\n",
    "plt.title('Training and validation accuracy')\n",
    "plt.xlabel('Epochs')\n",
    "plt.ylabel('Accuracy')\n",
    "plt.legend(loc='lower right')\n",
    "\n",
    "plt.show()"
   ]
  },
  {
   "cell_type": "code",
   "execution_count": 29,
   "id": "07e75394",
   "metadata": {
    "execution": {
     "iopub.execute_input": "2023-04-25T05:35:19.308330Z",
     "iopub.status.busy": "2023-04-25T05:35:19.307842Z",
     "iopub.status.idle": "2023-04-25T05:35:24.783056Z",
     "shell.execute_reply": "2023-04-25T05:35:24.781738Z"
    },
    "papermill": {
     "duration": 5.546535,
     "end_time": "2023-04-25T05:35:24.785649",
     "exception": false,
     "start_time": "2023-04-25T05:35:19.239114",
     "status": "completed"
    },
    "tags": []
   },
   "outputs": [
    {
     "name": "stdout",
     "output_type": "stream",
     "text": [
      "782/782 [==============================] - 4s 4ms/step - loss: 0.3105 - accuracy: 0.8730\n",
      "0.8729599714279175\n"
     ]
    }
   ],
   "source": [
    "export_model = tf.keras.Sequential([\n",
    "  vectorize_layer,\n",
    "  model,\n",
    "  layers.Activation('sigmoid')\n",
    "])\n",
    "\n",
    "export_model.compile(\n",
    "    loss=losses.BinaryCrossentropy(from_logits=False), optimizer=\"adam\", metrics=['accuracy']\n",
    ")\n",
    "\n",
    "# Test it with `raw_test_ds`, which yields raw strings\n",
    "loss, accuracy = export_model.evaluate(raw_test_ds)\n",
    "print(accuracy)"
   ]
  },
  {
   "cell_type": "code",
   "execution_count": 30,
   "id": "7c3b7b76",
   "metadata": {
    "execution": {
     "iopub.execute_input": "2023-04-25T05:35:24.929478Z",
     "iopub.status.busy": "2023-04-25T05:35:24.928276Z",
     "iopub.status.idle": "2023-04-25T05:35:25.160188Z",
     "shell.execute_reply": "2023-04-25T05:35:25.158958Z"
    },
    "papermill": {
     "duration": 0.306062,
     "end_time": "2023-04-25T05:35:25.162528",
     "exception": false,
     "start_time": "2023-04-25T05:35:24.856466",
     "status": "completed"
    },
    "tags": []
   },
   "outputs": [
    {
     "name": "stdout",
     "output_type": "stream",
     "text": [
      "1/1 [==============================] - 0s 167ms/step\n"
     ]
    },
    {
     "data": {
      "text/plain": [
       "array([[0.6129549 ],\n",
       "       [0.43561524],\n",
       "       [0.35315487],\n",
       "       [0.27737096]], dtype=float32)"
      ]
     },
     "execution_count": 30,
     "metadata": {},
     "output_type": "execute_result"
    }
   ],
   "source": [
    "examples = [\n",
    "  \"The movie was great!\",\n",
    "  \"The movie was okay.\",\n",
    "  \"The movie was terrible...\",\n",
    "  \"This movie was the worst\"\n",
    "]\n",
    "\n",
    "export_model.predict(examples)"
   ]
  }
 ],
 "metadata": {
  "kernelspec": {
   "display_name": "Python 3",
   "language": "python",
   "name": "python3"
  },
  "language_info": {
   "codemirror_mode": {
    "name": "ipython",
    "version": 3
   },
   "file_extension": ".py",
   "mimetype": "text/x-python",
   "name": "python",
   "nbconvert_exporter": "python",
   "pygments_lexer": "ipython3",
   "version": "3.7.12"
  },
  "papermill": {
   "default_parameters": {},
   "duration": 133.791275,
   "end_time": "2023-04-25T05:35:28.620505",
   "environment_variables": {},
   "exception": null,
   "input_path": "__notebook__.ipynb",
   "output_path": "__notebook__.ipynb",
   "parameters": {},
   "start_time": "2023-04-25T05:33:14.829230",
   "version": "2.4.0"
  }
 },
 "nbformat": 4,
 "nbformat_minor": 5
}
